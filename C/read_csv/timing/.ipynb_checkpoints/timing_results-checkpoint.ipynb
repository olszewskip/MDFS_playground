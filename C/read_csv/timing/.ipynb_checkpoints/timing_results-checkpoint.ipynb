{
 "cells": [
  {
   "cell_type": "code",
   "execution_count": 1,
   "metadata": {},
   "outputs": [],
   "source": [
    "import matplotlib.pyplot as plt\n",
    "import time\n",
    "import numpy as np\n",
    "import csv\n",
    "import pandas as pd\n",
    "from pandas import read_csv"
   ]
  },
  {
   "cell_type": "code",
   "execution_count": 2,
   "metadata": {},
   "outputs": [],
   "source": [
    "cols = [9, 99, 199]\n",
    "files = [\"madelon.csv\", \"madelonX4.csv\", \"madelonX9.csv\", \"madelonX16.csv\"]\n",
    "sizes = [1, 4, 9, 16]\n",
    "\n",
    "runsA = 10 # number of loops with file-reading\n",
    "runsB = 10_000 # number of loops with column-copying\n",
    "\n",
    "results_fileread = pd.DataFrame(index=sizes)\n",
    "results_columns = pd.DataFrame(index=sizes)"
   ]
  },
  {
   "cell_type": "markdown",
   "metadata": {},
   "source": [
    "---\n",
    "## Run profiling of the cpp files\n",
    "\n",
    "* method_1: read-in without transposing, return transposed columns\n",
    "* method_2: read_in transposing, return rows"
   ]
  },
  {
   "cell_type": "markdown",
   "metadata": {},
   "source": [
    "---\n",
    "The external library: file-read."
   ]
  },
  {
   "cell_type": "code",
   "execution_count": 3,
   "metadata": {},
   "outputs": [
    {
     "name": "stdout",
     "output_type": "stream",
     "text": [
      "10 runs in madelon.csv\n",
      "10 runs in madelonX4.csv\n",
      "10 runs in madelonX9.csv\n",
      "10 runs in madelonX16.csv\n"
     ]
    }
   ],
   "source": [
    "%%bash\n",
    "g++ armadillo-fileread.cpp -pg\n",
    "./a.out \"madelon.csv\" 10\n",
    "gprof > armadillo-fileread.prof\n",
    "./a.out \"madelonX4.csv\" 10\n",
    "gprof > armadillo-fileread-X4.prof\n",
    "./a.out \"madelonX9.csv\" 10\n",
    "gprof > armadillo-fileread-X9.prof\n",
    "./a.out \"madelonX16.csv\" 10\n",
    "gprof > armadillo-fileread-X16.prof"
   ]
  },
  {
   "cell_type": "code",
   "execution_count": 3,
   "metadata": {},
   "outputs": [],
   "source": [
    "results_fileread['armadillo'] = [2.19, 10.32, 27.74, 50.15]"
   ]
  },
  {
   "cell_type": "markdown",
   "metadata": {},
   "source": [
    "---\n",
    "My method (1): file-read."
   ]
  },
  {
   "cell_type": "code",
   "execution_count": 31,
   "metadata": {},
   "outputs": [],
   "source": [
    "%%bash\n",
    "g++ my_method_1-fileread.cpp -pg\n",
    "./a.out \"madelon.csv\" 10\n",
    "gprof > my_method_1-fileread.prof\n",
    "./a.out \"madelonX4.csv\" 10\n",
    "gprof > my_method_1-fileread-X4.prof\n",
    "./a.out \"madelonX9.csv\" 10\n",
    "gprof > my_method_1-fileread-X9.prof\n",
    "./a.out \"madelonX16.csv\" 10\n",
    "gprof > my_method_1-fileread-X16.prof"
   ]
  },
  {
   "cell_type": "code",
   "execution_count": 4,
   "metadata": {},
   "outputs": [],
   "source": [
    "results_fileread['my_method_1'] = [4.38, 19.47, 44.22, 78.93]"
   ]
  },
  {
   "cell_type": "markdown",
   "metadata": {},
   "source": [
    "---\n",
    "My method (2): file-read."
   ]
  },
  {
   "cell_type": "code",
   "execution_count": null,
   "metadata": {},
   "outputs": [],
   "source": [
    "%%bash\n",
    "g++ my_method_2-fileread.cpp -pg\n",
    "./a.out \"madelon.csv\"\n",
    "gprof > my_method_2-fileread.prof\n",
    "./a.out \"madelonX4.csv\"\n",
    "gprof > my_method_2-fileread-X4.prof\n",
    "./a.out \"madelonX9.csv\"\n",
    "gprof > my_method_2-fileread-X9.prof\n",
    "./a.out \"madelonX16.csv\"\n",
    "gprof > my_method_2-fileread-X16.prof"
   ]
  },
  {
   "cell_type": "code",
   "execution_count": 5,
   "metadata": {},
   "outputs": [],
   "source": [
    "results_fileread['my_method_2'] = [3.98, 16.94, 42.19, 82.78]"
   ]
  },
  {
   "cell_type": "markdown",
   "metadata": {},
   "source": [
    "---\n",
    "The external library: column-return."
   ]
  },
  {
   "cell_type": "code",
   "execution_count": null,
   "metadata": {},
   "outputs": [],
   "source": [
    "%%bash\n",
    "g++ armadillo-columns.cpp -pg\n",
    "./a.out \"madelon.csv\"\n",
    "gprof > armadillo-columns.prof\n",
    "./a.out \"madelonX4.csv\"\n",
    "gprof > armadillo-columns-X4.prof\n",
    "./a.out \"madelonX9.csv\"\n",
    "gprof > armadillo-columns-X9.prof\n",
    "./a.out \"madelonX16.csv\"\n",
    "gprof > armadillo-columns-X16.prof"
   ]
  },
  {
   "cell_type": "code",
   "execution_count": null,
   "metadata": {},
   "outputs": [],
   "source": [
    "results_columns = pd.DataFrame(index=sizes)"
   ]
  },
  {
   "cell_type": "code",
   "execution_count": null,
   "metadata": {},
   "outputs": [],
   "source": [
    "results_columns['armadillo'] = [0.02, 0.08, 0.30, 0.58]"
   ]
  },
  {
   "cell_type": "markdown",
   "metadata": {},
   "source": [
    "---\n",
    "My method (1): column-return."
   ]
  },
  {
   "cell_type": "code",
   "execution_count": null,
   "metadata": {},
   "outputs": [],
   "source": [
    "%%bash\n",
    "g++ my_method_1-columns.cpp -pg"
   ]
  },
  {
   "cell_type": "code",
   "execution_count": 60,
   "metadata": {},
   "outputs": [],
   "source": [
    "%%bash\n",
    "./a.out \"madelon.csv\"\n",
    "gprof > my_method_1-columns.prof"
   ]
  },
  {
   "cell_type": "code",
   "execution_count": 61,
   "metadata": {},
   "outputs": [],
   "source": [
    "%%bash\n",
    "./a.out \"madelonX4.csv\"\n",
    "gprof > my_method_1-columns-X4.prof"
   ]
  },
  {
   "cell_type": "code",
   "execution_count": 62,
   "metadata": {},
   "outputs": [],
   "source": [
    "%%bash\n",
    "./a.out \"madelonX9.csv\"\n",
    "gprof > my_method_1-columns-X9.prof"
   ]
  },
  {
   "cell_type": "code",
   "execution_count": 63,
   "metadata": {},
   "outputs": [],
   "source": [
    "%%bash\n",
    "./a.out \"madelonX16.csv\"\n",
    "gprof > my_method_1-columns-X16.prof"
   ]
  },
  {
   "cell_type": "code",
   "execution_count": null,
   "metadata": {},
   "outputs": [],
   "source": [
    "results_columns['my_method_1'] = [13.93, 31.58, 59.31, 100.17]"
   ]
  },
  {
   "cell_type": "markdown",
   "metadata": {},
   "source": [
    "---\n",
    "My method (2): column-return."
   ]
  },
  {
   "cell_type": "code",
   "execution_count": null,
   "metadata": {},
   "outputs": [],
   "source": [
    "%%bash\n",
    "g++ my_method_2-columns.cpp -pg"
   ]
  },
  {
   "cell_type": "code",
   "execution_count": null,
   "metadata": {},
   "outputs": [],
   "source": [
    "%%bash\n",
    "./a.out \"madelon.csv\"\n",
    "gprof > my_method_2-columns.prof"
   ]
  },
  {
   "cell_type": "code",
   "execution_count": null,
   "metadata": {},
   "outputs": [],
   "source": [
    "%%bash\n",
    "./a.out \"madelonX4.csv\"\n",
    "gprof > my_method_2-columns-X4.prof"
   ]
  },
  {
   "cell_type": "code",
   "execution_count": null,
   "metadata": {},
   "outputs": [],
   "source": [
    "%%bash\n",
    "./a.out \"madelonX9.csv\"\n",
    "gprof > my_method_2-columns-X9.prof"
   ]
  },
  {
   "cell_type": "code",
   "execution_count": null,
   "metadata": {},
   "outputs": [],
   "source": [
    "%%bash\n",
    "./a.out \"madelonX16.csv\"\n",
    "gprof > my_method_2-columns-X16.prof"
   ]
  },
  {
   "cell_type": "code",
   "execution_count": null,
   "metadata": {},
   "outputs": [],
   "source": [
    "results_columns['my_method_2'] = []"
   ]
  },
  {
   "cell_type": "markdown",
   "metadata": {},
   "source": [
    "---\n",
    "## Time python functions"
   ]
  },
  {
   "cell_type": "markdown",
   "metadata": {},
   "source": [
    "---\n",
    "Read the csv file in using various methods. Repeat *runsA* number of times in a loop. "
   ]
  },
  {
   "cell_type": "code",
   "execution_count": 7,
   "metadata": {},
   "outputs": [],
   "source": [
    "def fileread_csv_reader(file):\n",
    "    time_0 = time.time()\n",
    "    for _ in range(runsA):\n",
    "        M = []\n",
    "        with open(file, newline='') as csvfile:\n",
    "            reader = csv.reader(csvfile, delimiter=',',\n",
    "                                quoting=csv.QUOTE_NONNUMERIC)\n",
    "            for row in reader:\n",
    "                M.append(row)\n",
    "        M = np.array(M)\n",
    "        del M\n",
    "    time_diff = time.time() - time_0\n",
    "\n",
    "    print(f\"{runsA} runs in {file}: {time_diff} sec.\")\n",
    "    return time_diff"
   ]
  },
  {
   "cell_type": "code",
   "execution_count": 8,
   "metadata": {},
   "outputs": [],
   "source": [
    "def fileread_pandas(file):\n",
    "    time_0 = time.time()\n",
    "    for _ in range(runsA):\n",
    "        M = read_csv(file).values\n",
    "        del M\n",
    "    time_diff = time.time() - time_0\n",
    "\n",
    "    print(f\"{runsA} runs in {file}: {time_diff} sec.\")\n",
    "    return time_diff"
   ]
  },
  {
   "cell_type": "code",
   "execution_count": 9,
   "metadata": {},
   "outputs": [],
   "source": [
    "def fileread_numpy1(file):\n",
    "    time_0 = time.time()\n",
    "    for _ in range(runsA):\n",
    "        M = np.loadtxt(file, delimiter=',')\n",
    "        del M\n",
    "    time_diff = time.time() - time_0\n",
    "\n",
    "    print(f\"{runsA} runs in {file}: {time_diff} sec.\")\n",
    "    return time_diff"
   ]
  },
  {
   "cell_type": "code",
   "execution_count": 10,
   "metadata": {},
   "outputs": [],
   "source": [
    "def fileread_numpy2(file):\n",
    "    time_0 = time.time()\n",
    "    for _ in range(runsA):\n",
    "        M = np.genfromtxt(file, delimiter=',')\n",
    "        del M\n",
    "    time_diff = time.time() - time_0\n",
    "    \n",
    "    print(f\"{runsA} runs in {file}: {time_diff} sec.\")\n",
    "    return time_diff"
   ]
  },
  {
   "cell_type": "code",
   "execution_count": 15,
   "metadata": {},
   "outputs": [
    {
     "name": "stdout",
     "output_type": "stream",
     "text": [
      "100 runs in madelon.csv: 19.492026329040527 sec.\n",
      "100 runs in madelonX4.csv: 80.08922505378723 sec.\n"
     ]
    }
   ],
   "source": [
    "for i in range(2):\n",
    "    file = files[i]\n",
    "    size = sizes[i]\n",
    "    result = fileread_csv_reader(file)\n",
    "    results_fileread.loc[size, 'csv_reader'] = result"
   ]
  },
  {
   "cell_type": "code",
   "execution_count": 16,
   "metadata": {},
   "outputs": [
    {
     "name": "stdout",
     "output_type": "stream",
     "text": [
      "100 runs in madelon.csv: 14.132967233657837 sec.\n",
      "100 runs in madelonX4.csv: 53.61871910095215 sec.\n"
     ]
    }
   ],
   "source": [
    "for i in range(2):\n",
    "    file = files[i]\n",
    "    size = sizes[i]\n",
    "    result = fileread_pandas(file)\n",
    "    results_fileread.loc[size, 'pandas'] = result"
   ]
  },
  {
   "cell_type": "code",
   "execution_count": 17,
   "metadata": {},
   "outputs": [
    {
     "name": "stdout",
     "output_type": "stream",
     "text": [
      "100 runs in madelon.csv: 54.420037508010864 sec.\n",
      "100 runs in madelonX4.csv: 217.49280881881714 sec.\n"
     ]
    }
   ],
   "source": [
    "for i in range(2):\n",
    "    file = files[i]\n",
    "    size = sizes[i]\n",
    "    result = fileread_numpy1(file)\n",
    "    results_fileread.loc[size, 'numpy1'] = result"
   ]
  },
  {
   "cell_type": "code",
   "execution_count": 18,
   "metadata": {},
   "outputs": [
    {
     "name": "stdout",
     "output_type": "stream",
     "text": [
      "100 runs in madelon.csv: 82.33415722846985 sec.\n",
      "100 runs in madelonX4.csv: 404.95741987228394 sec.\n"
     ]
    }
   ],
   "source": [
    "for i in range(2):\n",
    "    file = files[i]\n",
    "    size = sizes[i]\n",
    "    result = fileread_numpy2(file)\n",
    "    results_fileread.loc[size, 'numpy2'] = result"
   ]
  },
  {
   "cell_type": "markdown",
   "metadata": {},
   "source": [
    "---\n",
    "Return a copy of a handful of columns from the matrix. Repeat the column-return for *runsB* number of times."
   ]
  },
  {
   "cell_type": "code",
   "execution_count": 24,
   "metadata": {},
   "outputs": [],
   "source": [
    "def columns_csv_reader(file):\n",
    "    M = []\n",
    "    with open(file, newline='') as csvfile:\n",
    "        reader = csv.reader(csvfile, delimiter=',',\n",
    "                            quoting=csv.QUOTE_NONNUMERIC)\n",
    "        for row in reader:\n",
    "            M.append(row)\n",
    "    M = np.array(M)\n",
    "\n",
    "    time_0 = time.time()\n",
    "    for _ in range(runsB):\n",
    "        column_bunch = M[:, cols].copy()\n",
    "        del column_bunch\n",
    "    time_diff = time.time() - time_0\n",
    "\n",
    "    print(f\"{runsB} runs in {file}: {time_diff} sec.\")\n",
    "    return time_diff"
   ]
  },
  {
   "cell_type": "code",
   "execution_count": 25,
   "metadata": {},
   "outputs": [],
   "source": [
    "def columns_pandas(file):\n",
    "    M = read_csv(file).values\n",
    "\n",
    "    time_0 = time.time()\n",
    "    for _ in range(runsB):\n",
    "        column_bunch = M[:, cols].copy()\n",
    "        del column_bunch\n",
    "    time_diff = time.time() - time_0\n",
    "\n",
    "    print(f\"{runsB} runs in {file}: {time_diff} sec.\")\n",
    "    return time_diff"
   ]
  },
  {
   "cell_type": "code",
   "execution_count": 31,
   "metadata": {},
   "outputs": [],
   "source": [
    "def columns_numpy1(file):\n",
    "    M = np.loadtxt(file, delimiter=',')\n",
    "\n",
    "    time_0 = time.time()\n",
    "    for _ in range(runsB):\n",
    "        column_bunch = M[:, cols].copy()\n",
    "        del column_bunch\n",
    "    time_diff = time.time() - time_0\n",
    "\n",
    "    print(f\"{runsB} runs in {file}: {time_diff} sec.\")\n",
    "    return time_diff"
   ]
  },
  {
   "cell_type": "code",
   "execution_count": 32,
   "metadata": {},
   "outputs": [],
   "source": [
    "def columns_numpy2(file):\n",
    "    M = np.genfromtxt(file, delimiter=',')\n",
    "    \n",
    "    time_0 = time.time()\n",
    "    for _ in range(runsB):\n",
    "        column_bunch = M[:, cols].copy()\n",
    "        del column_bunch\n",
    "    time_diff = time.time() - time_0\n",
    "\n",
    "    print(f\"{runsB} runs in {file}: {time_diff} sec.\")\n",
    "    return time_diff"
   ]
  },
  {
   "cell_type": "code",
   "execution_count": 28,
   "metadata": {},
   "outputs": [
    {
     "name": "stdout",
     "output_type": "stream",
     "text": [
      "100000 runs in madelon.csv: 6.861221790313721 sec.\n",
      "100000 runs in madelonX4.csv: 17.374897956848145 sec.\n",
      "100000 runs in madelonX9.csv: 23.38420581817627 sec.\n",
      "100000 runs in madelonX16.csv: 32.56147885322571 sec.\n"
     ]
    }
   ],
   "source": [
    "for i in range(4):\n",
    "    file = files[i]\n",
    "    size = sizes[i]\n",
    "    result = columns_csv_reader(file)\n",
    "    results_columns.loc[size, 'csv_reader'] = result"
   ]
  },
  {
   "cell_type": "code",
   "execution_count": 29,
   "metadata": {},
   "outputs": [
    {
     "name": "stdout",
     "output_type": "stream",
     "text": [
      "100000 runs in madelon.csv: 1.6746242046356201 sec.\n",
      "100000 runs in madelonX4.csv: 3.0879604816436768 sec.\n",
      "100000 runs in madelonX9.csv: 4.817943811416626 sec.\n",
      "100000 runs in madelonX16.csv: 6.3814778327941895 sec.\n"
     ]
    }
   ],
   "source": [
    "for i in range(4):\n",
    "    file = files[i]\n",
    "    size = sizes[i]\n",
    "    result = columns_pandas(file)\n",
    "    results_columns.loc[size, 'pandas'] = result"
   ]
  },
  {
   "cell_type": "code",
   "execution_count": 33,
   "metadata": {},
   "outputs": [
    {
     "name": "stdout",
     "output_type": "stream",
     "text": [
      "100000 runs in madelon.csv: 6.623497247695923 sec.\n",
      "100000 runs in madelonX4.csv: 15.588591814041138 sec.\n",
      "100000 runs in madelonX9.csv: 23.77750849723816 sec.\n",
      "100000 runs in madelonX16.csv: 31.722471714019775 sec.\n"
     ]
    }
   ],
   "source": [
    "for i in range(4):\n",
    "    file = files[i]\n",
    "    size = sizes[i]\n",
    "    result = columns_numpy1(file)\n",
    "    results_columns.loc[size, 'numpy1'] = result"
   ]
  },
  {
   "cell_type": "code",
   "execution_count": 34,
   "metadata": {},
   "outputs": [
    {
     "name": "stdout",
     "output_type": "stream",
     "text": [
      "100000 runs in madelon.csv: 8.715791940689087 sec.\n",
      "100000 runs in madelonX4.csv: 14.43964433670044 sec.\n",
      "100000 runs in madelonX9.csv: 24.500673294067383 sec.\n",
      "100000 runs in madelonX16.csv: 34.779449701309204 sec.\n"
     ]
    }
   ],
   "source": [
    "for i in range(4):\n",
    "    file = files[i]\n",
    "    size = sizes[i]\n",
    "    result = columns_numpy2(file)\n",
    "    results_columns.loc[size, 'numpy2'] = result"
   ]
  },
  {
   "cell_type": "markdown",
   "metadata": {},
   "source": [
    "---"
   ]
  },
  {
   "cell_type": "code",
   "execution_count": null,
   "metadata": {},
   "outputs": [],
   "source": [
    "results_fileread.to_pickle(\"results_fileread.pkl\")\n",
    "results_columns.to_pickle(\"results_columns.pkl\")"
   ]
  },
  {
   "cell_type": "code",
   "execution_count": null,
   "metadata": {},
   "outputs": [],
   "source": [
    "results_fileread = "
   ]
  },
  {
   "cell_type": "markdown",
   "metadata": {},
   "source": [
    "---\n",
    "Plot the results"
   ]
  },
  {
   "cell_type": "code",
   "execution_count": 21,
   "metadata": {},
   "outputs": [
    {
     "data": {
      "image/png": "[encoded data removed]",
      "text/plain": [
       "<Figure size 720x432 with 1 Axes>"
      ]
     },
     "metadata": {
      "needs_background": "light"
     },
     "output_type": "display_data"
    }
   ],
   "source": [
    "ax = results_fileread.reset_index().plot(x='index', y=results_fileread.columns, marker='o', figsize = (10,6), title=f'{runsA} x file-read')\n",
    "ax.set_xlabel('File size relative to \"madelon.csv\"')\n",
    "ax.set_ylabel(f'Time in seconds.')\n",
    "plt.show()"
   ]
  },
  {
   "cell_type": "code",
   "execution_count": 90,
   "metadata": {},
   "outputs": [
    {
     "data": {
      "image/png": "[encoded data removed]",
      "text/plain": [
       "<Figure size 720x432 with 1 Axes>"
      ]
     },
     "metadata": {
      "needs_background": "light"
     },
     "output_type": "display_data"
    }
   ],
   "source": [
    "ax = results_columns.reset_index().plot(x='index', y=results_columns.columns, marker='o', figsize = (10,6), title=f'{runsB/1000}k x column-return')\n",
    "ax.set_xlabel('File size relative to \"madelon.csv\"')\n",
    "ax.set_ylabel(f'Time in seconds.')\n",
    "plt.show()"
   ]
  },
  {
   "cell_type": "markdown",
   "metadata": {},
   "source": [
    "---\n",
    "Discusssed 18-01-2019"
   ]
  },
  {
   "cell_type": "code",
   "execution_count": 21,
   "metadata": {},
   "outputs": [
    {
     "data": {
      "image/png": "[encoded data removed]",
      "text/plain": [
       "<Figure size 720x432 with 1 Axes>"
      ]
     },
     "metadata": {
      "needs_background": "light"
     },
     "output_type": "display_data"
    }
   ],
   "source": [
    "file_size = [1, 4, 9, 16]\n",
    "time_external = [1.7, 8.8, 23.0, 45.5]\n",
    "time_my_1 = [4.8, 19.9, 43.9, 74.6]\n",
    "time_my_2 = [4.7, 15.4, 37.2, 66.9]\n",
    "py_numpy = [41.6]\n",
    "py_pandas = [15.1, 49.4]\n",
    "\n",
    "plt.figure(figsize=(10,6))\n",
    "plt.plot(file_size, time_external, \"-o\", label='armadillo_lib')\n",
    "plt.plot(file_size, time_my_1, \"-o\", label=\"my_method_1\")\n",
    "plt.plot(file_size, time_my_2, \"-o\", label=\"my_method_2\")\n",
    "plt.plot(file_size[:len(py_numpy)], py_numpy, \"--o\", label=\"np.loadtxt\")\n",
    "plt.plot(file_size[:len(py_pandas)], py_pandas, \"--o\", label=\"pd.read_csv\")\n",
    "\n",
    "plt.xlabel(\"Size of the csv file relative to 'madelon.csv'\")\n",
    "plt.ylabel(\"Time in sec.\")\n",
    "plt.title(\"x100 file-read and column-triplet-return\")\n",
    "plt.legend()\n",
    "plt.show()"
   ]
  },
  {
   "cell_type": "code",
   "execution_count": null,
   "metadata": {},
   "outputs": [],
   "source": []
  }
 ],
 "metadata": {
  "kernelspec": {
   "display_name": "Python 3",
   "language": "python",
   "name": "python3"
  },
  "language_info": {
   "codemirror_mode": {
    "name": "ipython",
    "version": 3
   },
   "file_extension": ".py",
   "mimetype": "text/x-python",
   "name": "python",
   "nbconvert_exporter": "python",
   "pygments_lexer": "ipython3",
   "version": "3.6.8"
  }
 },
 "nbformat": 4,
 "nbformat_minor": 2
}
