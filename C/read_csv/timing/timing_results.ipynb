{
 "cells": [
  {
   "cell_type": "code",
   "execution_count": 1,
   "metadata": {},
   "outputs": [],
   "source": [
    "import matplotlib.pyplot as plt\n",
    "import time\n",
    "import numpy as np\n",
    "import csv\n",
    "import pandas as pd\n",
    "from pandas import read_csv"
   ]
  },
  {
   "cell_type": "markdown",
   "metadata": {},
   "source": [
    "---\n",
    "Create fat version of *madelon.csv*"
   ]
  },
  {
   "cell_type": "code",
   "execution_count": null,
   "metadata": {},
   "outputs": [],
   "source": [
    "madelon = pd.read_csv(\"madelon.csv\", header=None)"
   ]
  },
  {
   "cell_type": "code",
   "execution_count": null,
   "metadata": {},
   "outputs": [],
   "source": [
    "factor = 2\n",
    "pd.concat([pd.concat([madelon]*factor, axis=1)]*factor, axis=0).to_csv(f'madelonX{factor**2}.csv', header=False, index=False)"
   ]
  },
  {
   "cell_type": "code",
   "execution_count": null,
   "metadata": {},
   "outputs": [],
   "source": [
    "factor = 3\n",
    "pd.concat([pd.concat([madelon]*factor, axis=1)]*factor, axis=0).to_csv(f'madelonX{factor**2}.csv', header=False, index=False)"
   ]
  },
  {
   "cell_type": "code",
   "execution_count": null,
   "metadata": {},
   "outputs": [],
   "source": [
    "factor = 4\n",
    "pd.concat([pd.concat([madelon]*factor, axis=1)]*factor, axis=0).to_csv(f'madelonX{factor**2}.csv', header=False, index=False)"
   ]
  },
  {
   "cell_type": "markdown",
   "metadata": {},
   "source": [
    "---"
   ]
  },
  {
   "cell_type": "code",
   "execution_count": 2,
   "metadata": {},
   "outputs": [],
   "source": [
    "cols = [9, 99, 199]\n",
    "files = [\"madelon.csv\", \"madelonX4.csv\", \"madelonX9.csv\", \"madelonX16.csv\"]\n",
    "sizes = [1, 4, 9, 16]\n",
    "\n",
    "runsA = 10 # number of loops with file-reading\n",
    "runsB = 10_000 # number of loops with column-copying\n",
    "\n",
    "results_fileread = pd.DataFrame(index=sizes)\n",
    "results_columns = pd.DataFrame(index=sizes)"
   ]
  },
  {
   "cell_type": "markdown",
   "metadata": {},
   "source": [
    "---\n",
    "## Run profiling of the cpp files\n",
    "\n",
    "* method_1: read-in without transposing, return transposed columns\n",
    "* method_1B: same as method_1 but without vector.reserve\n",
    "* method_2: read-in transposing, return rows\n",
    "* method_3: same as method_1 but using vector of dynamic arrays instead of vector of vectors as the matrix structure"
   ]
  },
  {
   "cell_type": "markdown",
   "metadata": {},
   "source": [
    "---\n",
    "The external library: file-read."
   ]
  },
  {
   "cell_type": "code",
   "execution_count": 5,
   "metadata": {},
   "outputs": [
    {
     "name": "stdout",
     "output_type": "stream",
     "text": [
      "10 runs in madelon.csv: 1211 millisec.\n",
      "10 runs in madelonX4.csv: 4925 millisec.\n",
      "10 runs in madelonX9.csv: 13737 millisec.\n",
      "10 runs in madelonX16.csv: 19844 millisec.\n"
     ]
    }
   ],
   "source": [
    "%%bash\n",
    "runsA=10\n",
    "g++ armadillo-fileread.cpp -DARMA_DONT_USE_WRAPPER -lopenblas -llapack -pg\n",
    "./a.out \"madelon.csv\" $runsA\n",
    "gprof > armadillo-fileread.prof\n",
    "./a.out \"madelonX4.csv\" $runsA \n",
    "gprof > armadillo-fileread-X4.prof\n",
    "./a.out \"madelonX9.csv\" $runsA\n",
    "gprof > armadillo-fileread-X9.prof\n",
    "./a.out \"madelonX16.csv\" $runsA\n",
    "gprof > armadillo-fileread-X16.prof"
   ]
  },
  {
   "cell_type": "code",
   "execution_count": 3,
   "metadata": {},
   "outputs": [],
   "source": [
    "results_fileread['armadillo'] = np.array([1211, 4925, 13737, 19844]) * 1E-3"
   ]
  },
  {
   "cell_type": "markdown",
   "metadata": {},
   "source": [
    "---\n",
    "My method (1): file-read."
   ]
  },
  {
   "cell_type": "code",
   "execution_count": 9,
   "metadata": {},
   "outputs": [
    {
     "name": "stdout",
     "output_type": "stream",
     "text": [
      "10 runs in madelon.csv: 3831 millisec.\n",
      "10 runs in madelonX4.csv: 14792 millisec.\n",
      "10 runs in madelonX9.csv: 33928 millisec.\n",
      "10 runs in madelonX16.csv: 62830 millisec.\n"
     ]
    }
   ],
   "source": [
    "%%bash\n",
    "runsA=10\n",
    "g++ my_method_1-fileread.cpp -pg\n",
    "./a.out \"madelon.csv\" $runsA\n",
    "gprof > my_method_1-fileread.prof\n",
    "./a.out \"madelonX4.csv\" $runsA\n",
    "gprof > my_method_1-fileread-X4.prof\n",
    "./a.out \"madelonX9.csv\" $runsA\n",
    "gprof > my_method_1-fileread-X9.prof\n",
    "./a.out \"madelonX16.csv\" $runsA\n",
    "gprof > my_method_1-fileread-X16.prof"
   ]
  },
  {
   "cell_type": "code",
   "execution_count": 4,
   "metadata": {},
   "outputs": [],
   "source": [
    "results_fileread['my_method_1'] = np.array([3831, 14792, 33928, 62830]) * 1E-3"
   ]
  },
  {
   "cell_type": "markdown",
   "metadata": {},
   "source": [
    "---\n",
    "My method (1B)"
   ]
  },
  {
   "cell_type": "code",
   "execution_count": 72,
   "metadata": {},
   "outputs": [
    {
     "name": "stdout",
     "output_type": "stream",
     "text": [
      "10 runs in madelon.csv: 3551 millisec.\n",
      "10 runs in madelonX4.csv: 13964 millisec.\n",
      "10 runs in madelonX9.csv: 34601 millisec.\n",
      "10 runs in madelonX16.csv: 57152 millisec.\n"
     ]
    }
   ],
   "source": [
    "%%bash\n",
    "runsA=10\n",
    "g++ my_method_1B-fileread.cpp -pg\n",
    "./a.out \"madelon.csv\" $runsA\n",
    "gprof > my_method_1B-fileread.prof\n",
    "./a.out \"madelonX4.csv\" $runsA\n",
    "gprof > my_method_1B-fileread-X4.prof\n",
    "./a.out \"madelonX9.csv\" $runsA\n",
    "gprof > my_method_1B-fileread-X9.prof\n",
    "./a.out \"madelonX16.csv\" $runsA\n",
    "gprof > my_method_1B-fileread-X16.prof"
   ]
  },
  {
   "cell_type": "code",
   "execution_count": 5,
   "metadata": {},
   "outputs": [],
   "source": [
    "results_fileread['my_method_1B'] = np.array([3551, 13964, 34601, 57152]) * 1E-3"
   ]
  },
  {
   "cell_type": "markdown",
   "metadata": {},
   "source": [
    "---\n",
    "My method (2): file-read."
   ]
  },
  {
   "cell_type": "code",
   "execution_count": 11,
   "metadata": {},
   "outputs": [
    {
     "name": "stdout",
     "output_type": "stream",
     "text": [
      "10 runs in madelon.csv: 3542 millisec.\n",
      "10 runs in madelonX4.csv: 14631 millisec.\n",
      "10 runs in madelonX9.csv: 33219 millisec.\n",
      "10 runs in madelonX16.csv: 59373 millisec.\n"
     ]
    }
   ],
   "source": [
    "%%bash\n",
    "runsA=10\n",
    "g++ my_method_2-fileread.cpp -pg\n",
    "./a.out \"madelon.csv\" $runsA\n",
    "gprof > my_method_2-fileread.prof\n",
    "./a.out \"madelonX4.csv\" $runsA\n",
    "gprof > my_method_2-fileread-X4.prof\n",
    "./a.out \"madelonX9.csv\" $runsA\n",
    "gprof > my_method_2-fileread-X9.prof\n",
    "./a.out \"madelonX16.csv\" $runsA\n",
    "gprof > my_method_2-fileread-X16.prof"
   ]
  },
  {
   "cell_type": "code",
   "execution_count": 6,
   "metadata": {},
   "outputs": [],
   "source": [
    "results_fileread['my_method_2'] = np.array([3542, 14631, 33219, 59373]) * 1E-3"
   ]
  },
  {
   "cell_type": "markdown",
   "metadata": {},
   "source": [
    "---\n",
    "My method (3): file-read."
   ]
  },
  {
   "cell_type": "code",
   "execution_count": 8,
   "metadata": {},
   "outputs": [
    {
     "name": "stdout",
     "output_type": "stream",
     "text": [
      "10 runs in madelon.csv: 1481 millisec.\n",
      "10 runs in madelonX4.csv: 5659 millisec.\n",
      "10 runs in madelonX9.csv: 12610 millisec.\n",
      "10 runs in madelonX16.csv: 22502 millisec.\n"
     ]
    }
   ],
   "source": [
    "%%bash\n",
    "runsA=10\n",
    "g++ my_method_3-fileread.cpp -pg\n",
    "./a.out \"madelon.csv\" $runsA\n",
    "gprof > my_method_3-fileread.prof\n",
    "./a.out \"madelonX4.csv\" $runsA\n",
    "gprof > my_method_3-fileread-X4.prof\n",
    "./a.out \"madelonX9.csv\" $runsA\n",
    "gprof > my_method_3-fileread-X9.prof\n",
    "./a.out \"madelonX16.csv\" $runsA\n",
    "gprof > my_method_3-fileread-X16.prof"
   ]
  },
  {
   "cell_type": "code",
   "execution_count": 9,
   "metadata": {},
   "outputs": [],
   "source": [
    "results_fileread['my_method_3'] = np.array([1481, 5659, 12610, 22502]) * 1E-3"
   ]
  },
  {
   "cell_type": "markdown",
   "metadata": {},
   "source": [
    "---\n",
    "The external library: column-return."
   ]
  },
  {
   "cell_type": "code",
   "execution_count": 12,
   "metadata": {},
   "outputs": [
    {
     "name": "stdout",
     "output_type": "stream",
     "text": [
      "10000 runs in madelon.csv: 21 millisec.\n",
      "10000 runs in madelonX4.csv: 42 millisec.\n",
      "10000 runs in madelonX9.csv: 65 millisec.\n",
      "10000 runs in madelonX16.csv: 98 millisec.\n"
     ]
    }
   ],
   "source": [
    "%%bash\n",
    "runsB=10000\n",
    "g++ armadillo-columns.cpp -DARMA_DONT_USE_WRAPPER -lopenblas -llapack -pg\n",
    "./a.out \"madelon.csv\" $runsB\n",
    "gprof > armadillo-columns.prof\n",
    "./a.out \"madelonX4.csv\" $runsB\n",
    "gprof > armadillo-columns-X4.prof\n",
    "./a.out \"madelonX9.csv\" $runsB\n",
    "gprof > armadillo-columns-X9.prof\n",
    "./a.out \"madelonX16.csv\" $runsB\n",
    "gprof > armadillo-columns-X16.prof"
   ]
  },
  {
   "cell_type": "code",
   "execution_count": 16,
   "metadata": {},
   "outputs": [],
   "source": [
    "results_columns['armadillo'] = np.array([21, 42, 65, 98]) * 1E-3"
   ]
  },
  {
   "cell_type": "markdown",
   "metadata": {},
   "source": [
    "---\n",
    "My method (1): column-return."
   ]
  },
  {
   "cell_type": "code",
   "execution_count": 13,
   "metadata": {},
   "outputs": [
    {
     "name": "stdout",
     "output_type": "stream",
     "text": [
      "10000 runs in madelon.csv: 8382 millisec.\n",
      "10000 runs in madelonX4.csv: 17164 millisec.\n",
      "10000 runs in madelonX9.csv: 26135 millisec.\n",
      "10000 runs in madelonX16.csv: 45855 millisec.\n"
     ]
    }
   ],
   "source": [
    "%%bash\n",
    "runsB=10000\n",
    "g++ my_method_1-columns.cpp -pg\n",
    "./a.out \"madelon.csv\" $runsB\n",
    "gprof > my_method_1-columns.prof\n",
    "./a.out \"madelonX4.csv\" $runsB\n",
    "gprof > my_method_1-columns-X4.prof\n",
    "./a.out \"madelonX9.csv\" $runsB\n",
    "gprof > my_method_1-columns-X9.prof\n",
    "./a.out \"madelonX16.csv\" $runsB\n",
    "gprof > my_method_1-columns-X16.prof"
   ]
  },
  {
   "cell_type": "code",
   "execution_count": 15,
   "metadata": {},
   "outputs": [],
   "source": [
    "results_columns['my_method_1'] = np.array([8382, 17164, 26135, 45855]) * 1E-3"
   ]
  },
  {
   "cell_type": "markdown",
   "metadata": {},
   "source": [
    "---\n",
    "My method (2): column-return."
   ]
  },
  {
   "cell_type": "code",
   "execution_count": 17,
   "metadata": {},
   "outputs": [
    {
     "name": "stdout",
     "output_type": "stream",
     "text": [
      "10000 runs in madelon.csv: 64 millisec.\n",
      "10000 runs in madelonX4.csv: 78 millisec.\n",
      "10000 runs in madelonX9.csv: 98 millisec.\n",
      "10000 runs in madelonX16.csv: 132 millisec.\n"
     ]
    }
   ],
   "source": [
    "%%bash\n",
    "runsB=10000\n",
    "g++ my_method_2-columns.cpp -pg\n",
    "./a.out \"madelon.csv\" $runsB\n",
    "gprof > my_method_2-columns.prof\n",
    "./a.out \"madelonX4.csv\" $runsB\n",
    "gprof > my_method_2-columns-X4.prof\n",
    "./a.out \"madelonX9.csv\" $runsB\n",
    "gprof > my_method_2-columns-X9.prof\n",
    "./a.out \"madelonX16.csv\" $runsB\n",
    "gprof > my_method_2-columns-X16.prof"
   ]
  },
  {
   "cell_type": "code",
   "execution_count": 14,
   "metadata": {},
   "outputs": [],
   "source": [
    "results_columns['my_method_2'] = np.array([64, 78, 98, 132]) * 1E-3"
   ]
  },
  {
   "cell_type": "markdown",
   "metadata": {},
   "source": [
    "---\n",
    "My methid (3): column-return."
   ]
  },
  {
   "cell_type": "code",
   "execution_count": 11,
   "metadata": {},
   "outputs": [
    {
     "name": "stdout",
     "output_type": "stream",
     "text": [
      "10000 runs in madelon.csv: 1846 millisec.\n",
      "10000 runs in madelonX4.csv: 3783 millisec.\n",
      "10000 runs in madelonX9.csv: 6334 millisec.\n",
      "10000 runs in madelonX16.csv: 12476 millisec.\n"
     ]
    }
   ],
   "source": [
    "%%bash\n",
    "runsB=10000\n",
    "g++ my_method_3-columns.cpp -pg\n",
    "./a.out \"madelon.csv\" $runsB\n",
    "gprof > my_method_3-columns.prof\n",
    "./a.out \"madelonX4.csv\" $runsB\n",
    "gprof > my_method_3-columns-X4.prof\n",
    "./a.out \"madelonX9.csv\" $runsB\n",
    "gprof > my_method_3-columns-X9.prof\n",
    "./a.out \"madelonX16.csv\" $runsB\n",
    "gprof > my_method_3-columns-X16.prof"
   ]
  },
  {
   "cell_type": "code",
   "execution_count": 13,
   "metadata": {},
   "outputs": [],
   "source": [
    "results_columns['my_method_3'] = np.array([1846, 3783, 6334, 12476]) * 1E-3"
   ]
  },
  {
   "cell_type": "markdown",
   "metadata": {},
   "source": [
    "---\n",
    "## Time python functions"
   ]
  },
  {
   "cell_type": "markdown",
   "metadata": {},
   "source": [
    "---\n",
    "Read the csv file in using various methods. Repeat *runsA* number of times in a loop. "
   ]
  },
  {
   "cell_type": "code",
   "execution_count": 17,
   "metadata": {},
   "outputs": [],
   "source": [
    "def fileread_csv_reader(file):\n",
    "    time_0 = time.time()\n",
    "    for _ in range(runsA):\n",
    "        M = []\n",
    "        with open(file, newline='') as csvfile:\n",
    "            reader = csv.reader(csvfile, delimiter=',',\n",
    "                                quoting=csv.QUOTE_NONNUMERIC)\n",
    "            for row in reader:\n",
    "                M.append(row)\n",
    "        M = np.array(M)\n",
    "        del M\n",
    "    time_diff = time.time() - time_0\n",
    "\n",
    "    print(f\"{runsA} runs in {file}: {time_diff} sec.\")\n",
    "    return time_diff"
   ]
  },
  {
   "cell_type": "code",
   "execution_count": 18,
   "metadata": {},
   "outputs": [],
   "source": [
    "def fileread_pandas(file):\n",
    "    time_0 = time.time()\n",
    "    for _ in range(runsA):\n",
    "        M = read_csv(file).values\n",
    "        del M\n",
    "    time_diff = time.time() - time_0\n",
    "\n",
    "    print(f\"{runsA} runs in {file}: {time_diff} sec.\")\n",
    "    return time_diff"
   ]
  },
  {
   "cell_type": "code",
   "execution_count": 19,
   "metadata": {},
   "outputs": [],
   "source": [
    "def fileread_numpy1(file):\n",
    "    time_0 = time.time()\n",
    "    for _ in range(runsA):\n",
    "        M = np.loadtxt(file, delimiter=',')\n",
    "        del M\n",
    "    time_diff = time.time() - time_0\n",
    "\n",
    "    print(f\"{runsA} runs in {file}: {time_diff} sec.\")\n",
    "    return time_diff"
   ]
  },
  {
   "cell_type": "code",
   "execution_count": 20,
   "metadata": {},
   "outputs": [],
   "source": [
    "def fileread_numpy2(file):\n",
    "    time_0 = time.time()\n",
    "    for _ in range(runsA):\n",
    "        M = np.genfromtxt(file, delimiter=',')\n",
    "        del M\n",
    "    time_diff = time.time() - time_0\n",
    "    \n",
    "    print(f\"{runsA} runs in {file}: {time_diff} sec.\")\n",
    "    return time_diff"
   ]
  },
  {
   "cell_type": "code",
   "execution_count": 21,
   "metadata": {},
   "outputs": [
    {
     "name": "stdout",
     "output_type": "stream",
     "text": [
      "10 runs in madelon.csv: 1.9230945110321045 sec.\n",
      "10 runs in madelonX4.csv: 7.730243921279907 sec.\n",
      "10 runs in madelonX9.csv: 18.52686619758606 sec.\n",
      "10 runs in madelonX16.csv: 36.1251757144928 sec.\n"
     ]
    }
   ],
   "source": [
    "for i in range(4):\n",
    "    file = files[i]\n",
    "    size = sizes[i]\n",
    "    result = fileread_csv_reader(file)\n",
    "    results_fileread.loc[size, 'csv_reader'] = result"
   ]
  },
  {
   "cell_type": "code",
   "execution_count": 22,
   "metadata": {},
   "outputs": [
    {
     "name": "stdout",
     "output_type": "stream",
     "text": [
      "10 runs in madelon.csv: 1.645801305770874 sec.\n",
      "10 runs in madelonX4.csv: 5.6179821491241455 sec.\n",
      "10 runs in madelonX9.csv: 12.379641056060791 sec.\n",
      "10 runs in madelonX16.csv: 21.16353940963745 sec.\n"
     ]
    }
   ],
   "source": [
    "for i in range(4):\n",
    "    file = files[i]\n",
    "    size = sizes[i]\n",
    "    result = fileread_pandas(file)\n",
    "    results_fileread.loc[size, 'pandas'] = result"
   ]
  },
  {
   "cell_type": "code",
   "execution_count": 23,
   "metadata": {},
   "outputs": [
    {
     "name": "stdout",
     "output_type": "stream",
     "text": [
      "10 runs in madelon.csv: 5.789843559265137 sec.\n",
      "10 runs in madelonX4.csv: 22.64976668357849 sec.\n",
      "10 runs in madelonX9.csv: 51.976665019989014 sec.\n"
     ]
    }
   ],
   "source": [
    "for i in range(3):\n",
    "    file = files[i]\n",
    "    size = sizes[i]\n",
    "    result = fileread_numpy1(file)\n",
    "    results_fileread.loc[size, 'numpy1'] = result"
   ]
  },
  {
   "cell_type": "code",
   "execution_count": 24,
   "metadata": {},
   "outputs": [
    {
     "name": "stdout",
     "output_type": "stream",
     "text": [
      "10 runs in madelon.csv: 7.998128414154053 sec.\n",
      "10 runs in madelonX4.csv: 40.27255821228027 sec.\n"
     ]
    }
   ],
   "source": [
    "for i in range(2):\n",
    "    file = files[i]\n",
    "    size = sizes[i]\n",
    "    result = fileread_numpy2(file)\n",
    "    results_fileread.loc[size, 'numpy2'] = result"
   ]
  },
  {
   "cell_type": "markdown",
   "metadata": {},
   "source": [
    "---\n",
    "Return a copy of a handful of columns from the matrix. Repeat the column-return for *runsB* number of times."
   ]
  },
  {
   "cell_type": "code",
   "execution_count": 25,
   "metadata": {},
   "outputs": [],
   "source": [
    "def columns_csv_reader(file):\n",
    "    M = []\n",
    "    with open(file, newline='') as csvfile:\n",
    "        reader = csv.reader(csvfile, delimiter=',',\n",
    "                            quoting=csv.QUOTE_NONNUMERIC)\n",
    "        for row in reader:\n",
    "            M.append(row)\n",
    "    M = np.array(M)\n",
    "\n",
    "    time_0 = time.time()\n",
    "    for _ in range(runsB):\n",
    "        column_bunch = M[:, cols].copy()\n",
    "        del column_bunch\n",
    "    time_diff = time.time() - time_0\n",
    "\n",
    "    print(f\"{runsB} runs in {file}: {time_diff} sec.\")\n",
    "    return time_diff"
   ]
  },
  {
   "cell_type": "code",
   "execution_count": 26,
   "metadata": {},
   "outputs": [],
   "source": [
    "def columns_pandas(file):\n",
    "    M = read_csv(file).values\n",
    "\n",
    "    time_0 = time.time()\n",
    "    for _ in range(runsB):\n",
    "        column_bunch = M[:, cols].copy()\n",
    "        del column_bunch\n",
    "    time_diff = time.time() - time_0\n",
    "\n",
    "    print(f\"{runsB} runs in {file}: {time_diff} sec.\")\n",
    "    return time_diff"
   ]
  },
  {
   "cell_type": "code",
   "execution_count": 27,
   "metadata": {},
   "outputs": [],
   "source": [
    "def columns_numpy1(file):\n",
    "    M = np.loadtxt(file, delimiter=',')\n",
    "\n",
    "    time_0 = time.time()\n",
    "    for _ in range(runsB):\n",
    "        column_bunch = M[:, cols].copy()\n",
    "        del column_bunch\n",
    "    time_diff = time.time() - time_0\n",
    "\n",
    "    print(f\"{runsB} runs in {file}: {time_diff} sec.\")\n",
    "    return time_diff"
   ]
  },
  {
   "cell_type": "code",
   "execution_count": 28,
   "metadata": {},
   "outputs": [],
   "source": [
    "def columns_numpy2(file):\n",
    "    M = np.genfromtxt(file, delimiter=',')\n",
    "    \n",
    "    time_0 = time.time()\n",
    "    for _ in range(runsB):\n",
    "        column_bunch = M[:, cols].copy()\n",
    "        del column_bunch\n",
    "    time_diff = time.time() - time_0\n",
    "\n",
    "    print(f\"{runsB} runs in {file}: {time_diff} sec.\")\n",
    "    return time_diff"
   ]
  },
  {
   "cell_type": "code",
   "execution_count": 29,
   "metadata": {},
   "outputs": [
    {
     "name": "stdout",
     "output_type": "stream",
     "text": [
      "10000 runs in madelon.csv: 0.728034496307373 sec.\n",
      "10000 runs in madelonX4.csv: 1.5305984020233154 sec.\n",
      "10000 runs in madelonX9.csv: 2.4471518993377686 sec.\n",
      "10000 runs in madelonX16.csv: 3.5607681274414062 sec.\n"
     ]
    }
   ],
   "source": [
    "for i in range(4):\n",
    "    file = files[i]\n",
    "    size = sizes[i]\n",
    "    result = columns_csv_reader(file)\n",
    "    results_columns.loc[size, 'csv_reader'] = result"
   ]
  },
  {
   "cell_type": "code",
   "execution_count": 30,
   "metadata": {},
   "outputs": [
    {
     "name": "stdout",
     "output_type": "stream",
     "text": [
      "10000 runs in madelon.csv: 0.17637991905212402 sec.\n",
      "10000 runs in madelonX4.csv: 0.3488643169403076 sec.\n",
      "10000 runs in madelonX9.csv: 0.5094103813171387 sec.\n",
      "10000 runs in madelonX16.csv: 0.6581168174743652 sec.\n"
     ]
    }
   ],
   "source": [
    "for i in range(4):\n",
    "    file = files[i]\n",
    "    size = sizes[i]\n",
    "    result = columns_pandas(file)\n",
    "    results_columns.loc[size, 'pandas'] = result"
   ]
  },
  {
   "cell_type": "code",
   "execution_count": 31,
   "metadata": {},
   "outputs": [
    {
     "name": "stdout",
     "output_type": "stream",
     "text": [
      "10000 runs in madelon.csv: 0.7240860462188721 sec.\n",
      "10000 runs in madelonX4.csv: 1.8322606086730957 sec.\n",
      "10000 runs in madelonX9.csv: 2.4164226055145264 sec.\n",
      "10000 runs in madelonX16.csv: 3.2561051845550537 sec.\n"
     ]
    }
   ],
   "source": [
    "for i in range(4):\n",
    "    file = files[i]\n",
    "    size = sizes[i]\n",
    "    result = columns_numpy1(file)\n",
    "    results_columns.loc[size, 'numpy1'] = result"
   ]
  },
  {
   "cell_type": "code",
   "execution_count": 32,
   "metadata": {},
   "outputs": [
    {
     "name": "stdout",
     "output_type": "stream",
     "text": [
      "10000 runs in madelon.csv: 0.7180073261260986 sec.\n",
      "10000 runs in madelonX4.csv: 1.7125976085662842 sec.\n",
      "10000 runs in madelonX9.csv: 2.698593854904175 sec.\n",
      "10000 runs in madelonX16.csv: 3.3010082244873047 sec.\n"
     ]
    }
   ],
   "source": [
    "for i in range(4):\n",
    "    file = files[i]\n",
    "    size = sizes[i]\n",
    "    result = columns_numpy2(file)\n",
    "    results_columns.loc[size, 'numpy2'] = result"
   ]
  },
  {
   "cell_type": "markdown",
   "metadata": {},
   "source": [
    "---"
   ]
  },
  {
   "cell_type": "code",
   "execution_count": 74,
   "metadata": {},
   "outputs": [],
   "source": [
    "results_fileread.to_pickle(\"results_fileread.pkl\")\n",
    "results_columns.to_pickle(\"results_columns.pkl\")"
   ]
  },
  {
   "cell_type": "code",
   "execution_count": 75,
   "metadata": {},
   "outputs": [],
   "source": [
    "results_fileread = pd.read_pickle(\"results_fileread.pkl\")\n",
    "results_columns = pd.read_pickle(\"results_columns.pkl\")"
   ]
  },
  {
   "cell_type": "markdown",
   "metadata": {},
   "source": [
    "---\n",
    "Plot the results"
   ]
  },
  {
   "cell_type": "code",
   "execution_count": 33,
   "metadata": {},
   "outputs": [
    {
     "data": {
      "image/png": "[encoded data removed]",
      "text/plain": [
       "<Figure size 720x432 with 1 Axes>"
      ]
     },
     "metadata": {
      "needs_background": "light"
     },
     "output_type": "display_data"
    }
   ],
   "source": [
    "ax = results_fileread.reset_index().plot(x='index', y=results_fileread.columns, marker='o', figsize = (10,6), title=f'{runsA} x file-read')\n",
    "ax.set_xlabel('File size relative to \"madelon.csv\"')\n",
    "ax.set_ylabel(f'Time in seconds.')\n",
    "plt.show()"
   ]
  },
  {
   "cell_type": "code",
   "execution_count": 35,
   "metadata": {},
   "outputs": [
    {
     "data": {
      "image/png": "[encoded data removed]",
      "text/plain": [
       "<Figure size 720x432 with 1 Axes>"
      ]
     },
     "metadata": {
      "needs_background": "light"
     },
     "output_type": "display_data"
    }
   ],
   "source": [
    "cols = results_columns.columns.drop(['my_method_1', 'my_method_3'])\n",
    "# my_method_1, my_method_3 are slow\n",
    "\n",
    "ax = results_columns.reset_index().plot(x='index', y=cols, marker='o', figsize = (10,6), title=f'{runsB//1000}k x column-return')\n",
    "ax.set_xlabel('File size relative to \"madelon.csv\"')\n",
    "ax.set_ylabel(f'Time in seconds.')\n",
    "plt.show()"
   ]
  },
  {
   "cell_type": "markdown",
   "metadata": {},
   "source": [
    "---\n",
    "Discusssed 18-01-2019"
   ]
  },
  {
   "cell_type": "code",
   "execution_count": 21,
   "metadata": {},
   "outputs": [
    {
     "data": {
      "image/png": "[encoded data removed]",
      "text/plain": [
       "<Figure size 720x432 with 1 Axes>"
      ]
     },
     "metadata": {
      "needs_background": "light"
     },
     "output_type": "display_data"
    }
   ],
   "source": [
    "file_size = [1, 4, 9, 16]\n",
    "time_external = [1.7, 8.8, 23.0, 45.5]\n",
    "time_my_1 = [4.8, 19.9, 43.9, 74.6]\n",
    "time_my_2 = [4.7, 15.4, 37.2, 66.9]\n",
    "py_numpy = [41.6]\n",
    "py_pandas = [15.1, 49.4]\n",
    "\n",
    "plt.figure(figsize=(10,6))\n",
    "plt.plot(file_size, time_external, \"-o\", label='armadillo_lib')\n",
    "plt.plot(file_size, time_my_1, \"-o\", label=\"my_method_1\")\n",
    "plt.plot(file_size, time_my_2, \"-o\", label=\"my_method_2\")\n",
    "plt.plot(file_size[:len(py_numpy)], py_numpy, \"--o\", label=\"np.loadtxt\")\n",
    "plt.plot(file_size[:len(py_pandas)], py_pandas, \"--o\", label=\"pd.read_csv\")\n",
    "\n",
    "plt.xlabel(\"Size of the csv file relative to 'madelon.csv'\")\n",
    "plt.ylabel(\"Time in sec.\")\n",
    "plt.title(\"x100 file-read and column-triplet-return\")\n",
    "plt.legend()\n",
    "plt.show()"
   ]
  },
  {
   "cell_type": "code",
   "execution_count": null,
   "metadata": {},
   "outputs": [],
   "source": []
  }
 ],
 "metadata": {
  "kernelspec": {
   "display_name": "Python 3",
   "language": "python",
   "name": "python3"
  },
  "language_info": {
   "codemirror_mode": {
    "name": "ipython",
    "version": 3
   },
   "file_extension": ".py",
   "mimetype": "text/x-python",
   "name": "python",
   "nbconvert_exporter": "python",
   "pygments_lexer": "ipython3",
   "version": "3.6.8"
  }
 },
 "nbformat": 4,
 "nbformat_minor": 2
}
