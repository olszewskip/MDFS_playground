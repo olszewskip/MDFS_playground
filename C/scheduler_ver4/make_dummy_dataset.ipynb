{
 "cells": [
  {
   "cell_type": "code",
   "execution_count": null,
   "metadata": {},
   "outputs": [],
   "source": [
    "import random\n",
    "import numpy as np"
   ]
  },
  {
   "cell_type": "code",
   "execution_count": 76,
   "metadata": {},
   "outputs": [],
   "source": [
    "# An example with a set of \"fat\" columns accompanied by three different sets of \"lean\" columns.\n",
    "# The latter are distinguished by their number-of-degrees-of-freedom\n",
    "# (i.e. simply the number of distinct categories encoded as integers that can be found in those columns).\n",
    "\n",
    "total_col_count = 1245\n",
    "total_row_count = 100\n",
    "\n",
    "# number of fat columns\n",
    "fat_signif_count = 222\n",
    "fat_nonsignif_count = 542\n",
    "fat_contrast_count = 200\n",
    "fat_dof = 5\n",
    "fat_needs_dicretization = True\n",
    "\n",
    "# number of lean columns A\n",
    "lean_A_signif_count = 13\n",
    "lean_A_nonsignif_count = 42\n",
    "lean_A_contrast_count = 124\n",
    "lean_A_dof = 6 \n",
    "lean_A_needs_dicretization = False\n",
    "\n",
    "# number of lean columns B\n",
    "lean_B_signif_count = 12\n",
    "lean_B_nonsignif_count = 34\n",
    "lean_B_contrast_count = 0\n",
    "lean_B_dof = 7\n",
    "lean_B_needs_dicretization = False\n",
    "\n",
    "# number of lean columns C\n",
    "lean_C_signif_count = 11\n",
    "lean_C_nonsignif_count = 0 \n",
    "lean_C_contrast_count = 45\n",
    "lean_C_dof = 8\n",
    "lean_C_needs_dicretization = False"
   ]
  },
  {
   "cell_type": "code",
   "execution_count": 77,
   "metadata": {},
   "outputs": [],
   "source": [
    "assert fat_signif_count + fat_nonsignif_count + fat_contrast_count +\\\n",
    "lean_A_signif_count + lean_A_nonsignif_count + lean_A_contrast_count +\\\n",
    "lean_B_signif_count + lean_B_nonsignif_count + lean_B_contrast_count +\\\n",
    "lean_C_signif_count + lean_C_nonsignif_count + lean_C_contrast_count \\\n",
    "== total_col_count"
   ]
  },
  {
   "cell_type": "code",
   "execution_count": 89,
   "metadata": {},
   "outputs": [
    {
     "data": {
      "text/plain": [
       "[222, 235, 247, 258, 800, 842, 876, 876, 1076, 1200, 1200, 1245]"
      ]
     },
     "execution_count": 89,
     "metadata": {},
     "output_type": "execute_result"
    }
   ],
   "source": [
    "# The assumed order of the regions in the data-table is the following:\n",
    "# signif-fat, signif-lean, nonsignif-fat, nonsignif-lean, contrast-fat, contrast-lean.\n",
    "# Hence, it is useful to define,\n",
    "\n",
    "region_column_counts = \\\n",
    "[fat_signif_count,\n",
    " lean_A_signif_count,\n",
    " lean_B_signif_count,\n",
    " lean_C_signif_count,\n",
    " fat_nonsignif_count,\n",
    " lean_A_nonsignif_count,\n",
    " lean_B_nonsignif_count,\n",
    " lean_C_nonsignif_count,\n",
    " fat_contrast_count,\n",
    " lean_A_contrast_count,\n",
    " lean_B_contrast_count,\n",
    " lean_C_contrast_count\n",
    "]\n",
    "\n",
    "region_discretizations = \\\n",
    "[fat_needs_dicretization,\n",
    " lean_A_needs_dicretization,\n",
    " lean_B_needs_dicretization,\n",
    " lean_C_needs_dicretization\n",
    "] * 3\n",
    "\n",
    "region_dofs = \\\n",
    "[fat_dof,\n",
    " lean_A_dof,\n",
    " lean_B_dof,\n",
    " lean_C_dof    \n",
    "] * 3\n",
    "\n",
    "region_bounds = np.cumsum(region_column_counts).tolist()\n",
    "region_bounds"
   ]
  },
  {
   "cell_type": "code",
   "execution_count": 92,
   "metadata": {},
   "outputs": [
    {
     "name": "stdout",
     "output_type": "stream",
     "text": [
      "0 222 5 True\n",
      "222 235 6 False\n",
      "235 247 7 False\n",
      "247 258 8 False\n",
      "258 800 5 True\n",
      "800 842 6 False\n",
      "842 876 7 False\n",
      "876 876 8 False\n",
      "876 1076 5 True\n",
      "1076 1200 6 False\n",
      "1200 1200 7 False\n",
      "1200 1245 8 False\n"
     ]
    }
   ],
   "source": [
    "# So the subsequent regions in the hypothetical data can be characterized as follows:\n",
    "# by lower (left) and upper (right) column indeces which form\n",
    "# the boundary (left-closed, right-open) of each region, number\n",
    "# of dof in that region, and whether or not columns in that region\n",
    "# need to be discretized. If the answer to the latter question is\n",
    "# positive the region will also need to be further split into smaller\n",
    "# subregions that correspond to the notion of tiles in downstream computation.\n",
    "\n",
    "for region_bound_1, region_bound_2, region_dof, region_dicretization\\\n",
    "in zip([0] + region_bounds[:-1], region_bounds, region_dofs, region_discretizations):\n",
    "    print(region_bound_1, region_bound_2, region_dof, region_dicretization)"
   ]
  },
  {
   "cell_type": "code",
   "execution_count": null,
   "metadata": {},
   "outputs": [],
   "source": [
    "fat_tile_width = 100\n",
    "\n",
    "tile_bounds = [0]\n",
    "tile_group_bounds = [0]\n",
    "tile_discretizations = []\n",
    "tile_dofs = []\n",
    "in_lean_tile_group = False\n",
    "\n",
    "for region_bound_1, region_bound_2, region_dof, region_dicretization\\\n",
    "in zip([0] + region_bounds[:-1], region_bounds, region_dofs, region_discretizations):\n",
    "    \n",
    "    if region_dicretization:\n",
    "        if in_lean_tile_group:\n",
    "            \n",
    "        number_of_tiles = (region_bound_2 - region_bound_1) // fat_tile_width\n",
    "        for _ in range(number_of_tiles):\n",
    "            tile__bounds.append(tile_bounds[-1] + fat_tile_width)\n",
    "            tile_discretizations.append(True)\n",
    "            tile_dofs.append(region_dof)\n",
    "        tile_group_bounds.append(tile_group_bounds[-1] + number_of_tiles - 1)\n",
    "        width_of_leftover_margin = (tile_bound_2 - tile_bound_1) % fat_tile_width\n",
    "        if width_of_leftover_margin:\n",
    "            tile__bounds.append(tile_bounds[-1] + width_of_leftover_margin)\n",
    "            tile_discretizations.append(True)\n",
    "            tile_dofs.append(region_dof)\n",
    "    else:\n",
    "        if in_fat_tile_group:\n",
    "            \n",
    "        "
   ]
  },
  {
   "cell_type": "code",
   "execution_count": null,
   "metadata": {},
   "outputs": [],
   "source": []
  },
  {
   "cell_type": "code",
   "execution_count": null,
   "metadata": {},
   "outputs": [],
   "source": []
  },
  {
   "cell_type": "code",
   "execution_count": null,
   "metadata": {},
   "outputs": [],
   "source": []
  },
  {
   "cell_type": "code",
   "execution_count": null,
   "metadata": {},
   "outputs": [],
   "source": []
  },
  {
   "cell_type": "code",
   "execution_count": 68,
   "metadata": {},
   "outputs": [
    {
     "data": {
      "text/plain": [
       "[True,\n",
       " False,\n",
       " False,\n",
       " False,\n",
       " True,\n",
       " False,\n",
       " False,\n",
       " False,\n",
       " True,\n",
       " False,\n",
       " False,\n",
       " False]"
      ]
     },
     "execution_count": 68,
     "metadata": {},
     "output_type": "execute_result"
    }
   ],
   "source": [
    "for tilediscretization_flags"
   ]
  },
  {
   "cell_type": "code",
   "execution_count": 59,
   "metadata": {},
   "outputs": [],
   "source": [
    "arr = np.zeros((total_row_count, total_col_count))"
   ]
  },
  {
   "cell_type": "code",
   "execution_count": null,
   "metadata": {},
   "outputs": [],
   "source": [
    "for col_indx in range"
   ]
  },
  {
   "cell_type": "code",
   "execution_count": null,
   "metadata": {},
   "outputs": [],
   "source": []
  },
  {
   "cell_type": "code",
   "execution_count": null,
   "metadata": {},
   "outputs": [],
   "source": []
  },
  {
   "cell_type": "code",
   "execution_count": null,
   "metadata": {},
   "outputs": [],
   "source": []
  },
  {
   "cell_type": "code",
   "execution_count": null,
   "metadata": {},
   "outputs": [],
   "source": []
  },
  {
   "cell_type": "code",
   "execution_count": 41,
   "metadata": {},
   "outputs": [],
   "source": [
    "total_col_count = 1245\n",
    "total_row_count = 10\n",
    "\n",
    "tile_bounds = \\\n",
    "[0,\n",
    " 100,\n",
    " 200,\n",
    " 222,\n",
    " 235,\n",
    " 247,\n",
    " 258,\n",
    " 358,\n",
    " 458,\n",
    " 558,\n",
    " 658,\n",
    " 758,\n",
    " 800,\n",
    " 842,\n",
    " 876,\n",
    " 876,\n",
    " 976,\n",
    " 1076,\n",
    " 1200,\n",
    " 1200,\n",
    " 1245\n",
    "]\n",
    "\n",
    "needs_discretization = \\\n",
    "[True,\n",
    " True,\n",
    " True,\n",
    " False,\n",
    " False,\n",
    " False,\n",
    " True,\n",
    " True,\n",
    " True,\n",
    " True,\n",
    " True,\n",
    " True,\n",
    " False,\n",
    " False,\n",
    " False,\n",
    " True,\n",
    " True,\n",
    " True,\n",
    " False,\n",
    " False,\n",
    " False\n",
    "]\n",
    "\n",
    "region_bounds = \\\n",
    "[0, 2, 6, 11, 15, 17, 20]\n",
    "\n",
    "dofs =\\\n",
    "[5,\n",
    " 5,\n",
    " 5,\n",
    " 6,\n",
    " 7,\n",
    " 8,\n",
    " 5,\n",
    " 5,\n",
    " 5,\n",
    " 5,\n",
    " 5,\n",
    " 5,\n",
    " 6,\n",
    " 7,\n",
    " 8,\n",
    " 5,\n",
    " 5,\n",
    " 6,\n",
    " 7,\n",
    " 8]"
   ]
  },
  {
   "cell_type": "code",
   "execution_count": 42,
   "metadata": {},
   "outputs": [
    {
     "data": {
      "text/plain": [
       "21"
      ]
     },
     "execution_count": 42,
     "metadata": {},
     "output_type": "execute_result"
    }
   ],
   "source": [
    "len(tile_bounds)"
   ]
  },
  {
   "cell_type": "code",
   "execution_count": 43,
   "metadata": {},
   "outputs": [
    {
     "data": {
      "text/plain": [
       "20"
      ]
     },
     "execution_count": 43,
     "metadata": {},
     "output_type": "execute_result"
    }
   ],
   "source": [
    "len(dofs)"
   ]
  },
  {
   "cell_type": "code",
   "execution_count": 16,
   "metadata": {},
   "outputs": [],
   "source": [
    "arr = np.zeros((total_row_count, total_col_count))"
   ]
  },
  {
   "cell_type": "code",
   "execution_count": 31,
   "metadata": {},
   "outputs": [],
   "source": [
    "for tile_index, (tile_bound_a, tile_bound_b) in enumerate(zip(tile_bounds[:-1], tile_bounds[1:])):\n",
    "    dof = dofs[tile_index]\n",
    "    #print(tile_bound_a, tile_bound_b, dof)\n",
    "    for column_index in range(tile_bound_a, tile_bound_b):\n",
    "        for row_index in range(total_row_count):\n",
    "            arr[row_index, column_index] = random.randint(1, dof)"
   ]
  },
  {
   "cell_type": "code",
   "execution_count": 32,
   "metadata": {},
   "outputs": [
    {
     "data": {
      "text/plain": [
       "array([[1., 1., 4., ..., 8., 6., 5.],\n",
       "       [2., 2., 4., ..., 6., 3., 8.],\n",
       "       [1., 2., 5., ..., 3., 7., 3.],\n",
       "       ...,\n",
       "       [1., 5., 2., ..., 3., 4., 5.],\n",
       "       [4., 3., 1., ..., 4., 5., 3.],\n",
       "       [5., 4., 3., ..., 2., 3., 6.]])"
      ]
     },
     "execution_count": 32,
     "metadata": {},
     "output_type": "execute_result"
    }
   ],
   "source": [
    "arr"
   ]
  },
  {
   "cell_type": "code",
   "execution_count": 23,
   "metadata": {},
   "outputs": [
    {
     "name": "stdout",
     "output_type": "stream",
     "text": [
      "0 200 5\n",
      "200 258 5\n",
      "258 758 5\n",
      "758 876 5\n",
      "876 1076 6\n",
      "1076 1245 7\n"
     ]
    }
   ],
   "source": [
    "for region_index, (region_bound_a, region_bound_b) in enumerate(zip(region_bounds[:-1], region_bounds[1:])):\n",
    "    column_a = tile_bounds[region_bound_a]\n",
    "    column_b = tile_bounds[region_bound_b]\n",
    "    dof = dofs[region_index]\n",
    "    print(column_a, column_b, dof)\n",
    "    for column_index in range(column_a, column_b):\n",
    "        for row_index in range(total_row_count):\n",
    "            arr[row_index, column_index] = random.randint(1, dof)"
   ]
  },
  {
   "cell_type": "code",
   "execution_count": 12,
   "metadata": {},
   "outputs": [
    {
     "data": {
      "text/plain": [
       "5"
      ]
     },
     "execution_count": 12,
     "metadata": {},
     "output_type": "execute_result"
    }
   ],
   "source": [
    "random.randint(1, 5)"
   ]
  },
  {
   "cell_type": "code",
   "execution_count": null,
   "metadata": {},
   "outputs": [],
   "source": []
  }
 ],
 "metadata": {
  "kernelspec": {
   "display_name": "Python 3",
   "language": "python",
   "name": "python3"
  },
  "language_info": {
   "codemirror_mode": {
    "name": "ipython",
    "version": 3
   },
   "file_extension": ".py",
   "mimetype": "text/x-python",
   "name": "python",
   "nbconvert_exporter": "python",
   "pygments_lexer": "ipython3",
   "version": "3.7.4"
  }
 },
 "nbformat": 4,
 "nbformat_minor": 2
}
