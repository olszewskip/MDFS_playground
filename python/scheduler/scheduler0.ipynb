{
 "cells": [
  {
   "cell_type": "code",
   "execution_count": 1,
   "metadata": {},
   "outputs": [],
   "source": [
    "import numpy as np"
   ]
  },
  {
   "cell_type": "code",
   "execution_count": 2,
   "metadata": {},
   "outputs": [
    {
     "data": {
      "text/plain": [
       "4"
      ]
     },
     "execution_count": 2,
     "metadata": {},
     "output_type": "execute_result"
    }
   ],
   "source": [
    "np.int8(4)"
   ]
  },
  {
   "cell_type": "code",
   "execution_count": 3,
   "metadata": {},
   "outputs": [],
   "source": [
    "from pandas import read_csv"
   ]
  },
  {
   "cell_type": "code",
   "execution_count": 8,
   "metadata": {},
   "outputs": [],
   "source": [
    "data = read_csv(\"simple.csv\", header=None).values"
   ]
  },
  {
   "cell_type": "code",
   "execution_count": 9,
   "metadata": {},
   "outputs": [
    {
     "data": {
      "text/plain": [
       "array([[ 1.5,  2. ,  3. ,  0. ],\n",
       "       [ 4. ,  5.1,  6. , 13. ],\n",
       "       [ 7. ,  8. ,  9. , 44. ],\n",
       "       [10. , 11. , 12.2, 99. ]])"
      ]
     },
     "execution_count": 9,
     "metadata": {},
     "output_type": "execute_result"
    }
   ],
   "source": [
    "data"
   ]
  },
  {
   "cell_type": "code",
   "execution_count": null,
   "metadata": {},
   "outputs": [],
   "source": [
    "%%writefile sched0.py\n",
    "from mpi4py import MPI\n",
    "import numpy as np\n",
    "from pandas import read_csv\n",
    "np.random.seed(123)\n",
    "\n",
    "comm = MPI.COMM_WORLD\n",
    "comm.Barrier()\n",
    "time0 = MPI.Wtime()\n",
    "size = comm.Get_size()\n",
    "rank = comm.Get_rank()\n",
    "\n",
    "data_shape = np.empty(2, dtype='int8')\n",
    "\n",
    "if rank == 0:\n",
    "    file = \"simple.csv\"\n",
    "    data = read_csv(file, dtype='float64').values\n",
    "    data_shape = data.shape\n",
    "\n",
    "comm.Bcast(data_shape, root=0)\n",
    "\n",
    "if rank == 0:\n",
    "    cols = []\n",
    "    column_bunch = data[:,]\n",
    "    comm.Send(data, dest=1, tag=13)\n",
    "    \n",
    "elif rank == 1:\n",
    "    data = numpy.empty(10, dtype=numpy.float64)\n",
    "    comm.Recv(data, source=0, tag=13)\n",
    "    print('b', rank, data, data.dtype)"
   ]
  }
 ],
 "metadata": {
  "kernelspec": {
   "display_name": "Python 3",
   "language": "python",
   "name": "python3"
  },
  "language_info": {
   "codemirror_mode": {
    "name": "ipython",
    "version": 3
   },
   "file_extension": ".py",
   "mimetype": "text/x-python",
   "name": "python",
   "nbconvert_exporter": "python",
   "pygments_lexer": "ipython3",
   "version": "3.5.2"
  }
 },
 "nbformat": 4,
 "nbformat_minor": 2
}
