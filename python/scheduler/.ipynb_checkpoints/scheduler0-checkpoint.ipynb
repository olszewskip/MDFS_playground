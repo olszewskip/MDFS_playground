{
 "cells": [
  {
   "cell_type": "code",
   "execution_count": null,
   "metadata": {},
   "outputs": [],
   "source": [
    "%%writefile sched0.py\n",
    "from mpi4py import MPI\n",
    "import numpy as np\n",
    "from pandas import read_csv\n",
    "np.random.seed(123)\n",
    "\n",
    "comm = MPI.COMM_WORLD\n",
    "comm.Barrier()\n",
    "time0 = MPI.Wtime()\n",
    "size = comm.Get_size()\n",
    "rank = comm.Get_rank()\n",
    "\n",
    "if rank == 0:\n",
    "    data = read_csv(file, dtype='float64').values\n",
    "    print('a', rank, data, data.dtype)\n",
    "    comm.Send(data, dest=1, tag=13)\n",
    "    \n",
    "elif rank == 1:\n",
    "    data = numpy.empty(10, dtype=numpy.float64)\n",
    "    comm.Recv(data, source=0, tag=13)\n",
    "    print('b', rank, data, data.dtype)"
   ]
  }
 ],
 "metadata": {
  "kernelspec": {
   "display_name": "Python 3",
   "language": "python",
   "name": "python3"
  },
  "language_info": {
   "codemirror_mode": {
    "name": "ipython",
    "version": 3
   },
   "file_extension": ".py",
   "mimetype": "text/x-python",
   "name": "python",
   "nbconvert_exporter": "python",
   "pygments_lexer": "ipython3",
   "version": "3.6.8"
  }
 },
 "nbformat": 4,
 "nbformat_minor": 2
}
