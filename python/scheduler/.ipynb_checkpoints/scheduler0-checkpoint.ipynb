{
 "cells": [
  {
   "cell_type": "markdown",
   "metadata": {},
   "source": [
    "---\n",
    "25.01.2019"
   ]
  },
  {
   "cell_type": "code",
   "execution_count": 13,
   "metadata": {},
   "outputs": [],
   "source": [
    "import numpy as np"
   ]
  },
  {
   "cell_type": "code",
   "execution_count": 14,
   "metadata": {},
   "outputs": [],
   "source": [
    "from pandas import read_csv\n",
    "import pandas as pd"
   ]
  },
  {
   "cell_type": "code",
   "execution_count": 15,
   "metadata": {},
   "outputs": [],
   "source": [
    "madelon = read_csv(\"madelon.csv\", header=None)"
   ]
  },
  {
   "cell_type": "code",
   "execution_count": 18,
   "metadata": {},
   "outputs": [
    {
     "data": {
      "text/html": [
       "<div>\n",
       "<style scoped>\n",
       "    .dataframe tbody tr th:only-of-type {\n",
       "        vertical-align: middle;\n",
       "    }\n",
       "\n",
       "    .dataframe tbody tr th {\n",
       "        vertical-align: top;\n",
       "    }\n",
       "\n",
       "    .dataframe thead th {\n",
       "        text-align: right;\n",
       "    }\n",
       "</style>\n",
       "<table border=\"1\" class=\"dataframe\">\n",
       "  <thead>\n",
       "    <tr style=\"text-align: right;\">\n",
       "      <th></th>\n",
       "      <th>0</th>\n",
       "      <th>1</th>\n",
       "      <th>2</th>\n",
       "      <th>3</th>\n",
       "      <th>4</th>\n",
       "      <th>5</th>\n",
       "      <th>6</th>\n",
       "      <th>7</th>\n",
       "      <th>8</th>\n",
       "      <th>9</th>\n",
       "      <th>...</th>\n",
       "      <th>492</th>\n",
       "      <th>493</th>\n",
       "      <th>494</th>\n",
       "      <th>495</th>\n",
       "      <th>496</th>\n",
       "      <th>497</th>\n",
       "      <th>498</th>\n",
       "      <th>499</th>\n",
       "      <th>500</th>\n",
       "      <th>501</th>\n",
       "    </tr>\n",
       "  </thead>\n",
       "  <tbody>\n",
       "    <tr>\n",
       "      <th>0</th>\n",
       "      <td>485</td>\n",
       "      <td>477</td>\n",
       "      <td>537</td>\n",
       "      <td>479</td>\n",
       "      <td>452</td>\n",
       "      <td>471</td>\n",
       "      <td>491</td>\n",
       "      <td>476</td>\n",
       "      <td>475</td>\n",
       "      <td>473</td>\n",
       "      <td>...</td>\n",
       "      <td>477</td>\n",
       "      <td>485</td>\n",
       "      <td>511</td>\n",
       "      <td>485</td>\n",
       "      <td>481</td>\n",
       "      <td>479</td>\n",
       "      <td>475</td>\n",
       "      <td>496</td>\n",
       "      <td>0</td>\n",
       "      <td>7.244629</td>\n",
       "    </tr>\n",
       "    <tr>\n",
       "      <th>1</th>\n",
       "      <td>483</td>\n",
       "      <td>458</td>\n",
       "      <td>460</td>\n",
       "      <td>487</td>\n",
       "      <td>587</td>\n",
       "      <td>475</td>\n",
       "      <td>526</td>\n",
       "      <td>479</td>\n",
       "      <td>485</td>\n",
       "      <td>469</td>\n",
       "      <td>...</td>\n",
       "      <td>487</td>\n",
       "      <td>338</td>\n",
       "      <td>513</td>\n",
       "      <td>486</td>\n",
       "      <td>483</td>\n",
       "      <td>492</td>\n",
       "      <td>510</td>\n",
       "      <td>517</td>\n",
       "      <td>0</td>\n",
       "      <td>9.474243</td>\n",
       "    </tr>\n",
       "    <tr>\n",
       "      <th>2</th>\n",
       "      <td>487</td>\n",
       "      <td>542</td>\n",
       "      <td>499</td>\n",
       "      <td>468</td>\n",
       "      <td>448</td>\n",
       "      <td>471</td>\n",
       "      <td>442</td>\n",
       "      <td>478</td>\n",
       "      <td>480</td>\n",
       "      <td>477</td>\n",
       "      <td>...</td>\n",
       "      <td>492</td>\n",
       "      <td>650</td>\n",
       "      <td>506</td>\n",
       "      <td>501</td>\n",
       "      <td>480</td>\n",
       "      <td>489</td>\n",
       "      <td>499</td>\n",
       "      <td>498</td>\n",
       "      <td>0</td>\n",
       "      <td>7.445312</td>\n",
       "    </tr>\n",
       "  </tbody>\n",
       "</table>\n",
       "<p>3 rows × 502 columns</p>\n",
       "</div>"
      ],
      "text/plain": [
       "   0    1    2    3    4    5    6    7    8    9      ...     492  493  494  \\\n",
       "0  485  477  537  479  452  471  491  476  475  473    ...     477  485  511   \n",
       "1  483  458  460  487  587  475  526  479  485  469    ...     487  338  513   \n",
       "2  487  542  499  468  448  471  442  478  480  477    ...     492  650  506   \n",
       "\n",
       "   495  496  497  498  499  500       501  \n",
       "0  485  481  479  475  496    0  7.244629  \n",
       "1  486  483  492  510  517    0  9.474243  \n",
       "2  501  480  489  499  498    0  7.445312  \n",
       "\n",
       "[3 rows x 502 columns]"
      ]
     },
     "execution_count": 18,
     "metadata": {},
     "output_type": "execute_result"
    }
   ],
   "source": [
    "madelon[:3]"
   ]
  },
  {
   "cell_type": "code",
   "execution_count": 16,
   "metadata": {},
   "outputs": [
    {
     "data": {
      "text/plain": [
       "(2000, 502)"
      ]
     },
     "execution_count": 16,
     "metadata": {},
     "output_type": "execute_result"
    }
   ],
   "source": [
    "madelon.values.shape"
   ]
  },
  {
   "cell_type": "code",
   "execution_count": 103,
   "metadata": {},
   "outputs": [],
   "source": [
    "madelon = read_csv(\"madelon.csv\", header=None)\n",
    "madelon.iloc[:2,:10].to_csv('madelon_tiny.csv', header=False, index=False)"
   ]
  },
  {
   "cell_type": "code",
   "execution_count": 110,
   "metadata": {},
   "outputs": [
    {
     "data": {
      "text/html": [
       "<div>\n",
       "<style scoped>\n",
       "    .dataframe tbody tr th:only-of-type {\n",
       "        vertical-align: middle;\n",
       "    }\n",
       "\n",
       "    .dataframe tbody tr th {\n",
       "        vertical-align: top;\n",
       "    }\n",
       "\n",
       "    .dataframe thead th {\n",
       "        text-align: right;\n",
       "    }\n",
       "</style>\n",
       "<table border=\"1\" class=\"dataframe\">\n",
       "  <thead>\n",
       "    <tr style=\"text-align: right;\">\n",
       "      <th></th>\n",
       "      <th>0</th>\n",
       "      <th>1</th>\n",
       "      <th>2</th>\n",
       "      <th>3</th>\n",
       "      <th>4</th>\n",
       "      <th>5</th>\n",
       "      <th>6</th>\n",
       "      <th>7</th>\n",
       "      <th>8</th>\n",
       "      <th>9</th>\n",
       "    </tr>\n",
       "  </thead>\n",
       "  <tbody>\n",
       "    <tr>\n",
       "      <th>0</th>\n",
       "      <td>485.0</td>\n",
       "      <td>477.0</td>\n",
       "      <td>537.0</td>\n",
       "      <td>479.0</td>\n",
       "      <td>452.0</td>\n",
       "      <td>471.0</td>\n",
       "      <td>491.0</td>\n",
       "      <td>476.0</td>\n",
       "      <td>475.0</td>\n",
       "      <td>473.0</td>\n",
       "    </tr>\n",
       "    <tr>\n",
       "      <th>1</th>\n",
       "      <td>483.0</td>\n",
       "      <td>458.0</td>\n",
       "      <td>460.0</td>\n",
       "      <td>487.0</td>\n",
       "      <td>587.0</td>\n",
       "      <td>475.0</td>\n",
       "      <td>526.0</td>\n",
       "      <td>479.0</td>\n",
       "      <td>485.0</td>\n",
       "      <td>469.0</td>\n",
       "    </tr>\n",
       "  </tbody>\n",
       "</table>\n",
       "</div>"
      ],
      "text/plain": [
       "       0      1      2      3      4      5      6      7      8      9\n",
       "0  485.0  477.0  537.0  479.0  452.0  471.0  491.0  476.0  475.0  473.0\n",
       "1  483.0  458.0  460.0  487.0  587.0  475.0  526.0  479.0  485.0  469.0"
      ]
     },
     "execution_count": 110,
     "metadata": {},
     "output_type": "execute_result"
    }
   ],
   "source": [
    "madelon_tiny = read_csv(\"madelon_tiny.csv\", dtype = 'float64', header=None)\n",
    "madelon_tiny"
   ]
  },
  {
   "cell_type": "code",
   "execution_count": 46,
   "metadata": {},
   "outputs": [],
   "source": [
    "import sys"
   ]
  },
  {
   "cell_type": "code",
   "execution_count": 49,
   "metadata": {},
   "outputs": [
    {
     "data": {
      "text/plain": [
       "88"
      ]
     },
     "execution_count": 49,
     "metadata": {},
     "output_type": "execute_result"
    }
   ],
   "source": [
    "file = \"simple.csv\"\n",
    "dtype = 'float64'\n",
    "data = read_csv(file, dtype=dtype, header=None).values\n",
    "dim0 = np.array(data.shape[0], dtype='int64')\n",
    "sys.getsizeof(dim0)"
   ]
  },
  {
   "cell_type": "code",
   "execution_count": null,
   "metadata": {},
   "outputs": [],
   "source": [
    "dtype = 'float64'\n",
    "file = \"simple.csv\"\n",
    "data = read_csv(file, dtype=dtype, header=None).values\n",
    "dim0 = np.array(data.shape[0], dtype='int8').reshape(1)"
   ]
  },
  {
   "cell_type": "code",
   "execution_count": 98,
   "metadata": {},
   "outputs": [
    {
     "name": "stdout",
     "output_type": "stream",
     "text": [
      "Overwriting sched0.py\n"
     ]
    }
   ],
   "source": [
    "%%writefile sched0.py\n",
    "import numpy as np\n",
    "from pandas import read_csv\n",
    "np.random.seed(123)\n",
    "\n",
    "from mpi4py import MPI\n",
    "comm = MPI.COMM_WORLD\n",
    "comm.Barrier()\n",
    "time0 = MPI.Wtime()\n",
    "size = comm.Get_size()\n",
    "rank = comm.Get_rank()\n",
    "\n",
    "dtype = 'float64'\n",
    "\n",
    "if rank == 0:\n",
    "    file = \"madelon_tiny.csv\"\n",
    "    data = read_csv(file, dtype=dtype, header=None).values\n",
    "    dim0 = np.array(data.shape[0], dtype='int8').reshape(1)\n",
    "else:\n",
    "    dim0 = np.empty(1, dtype='int8')\n",
    "\n",
    "comm.Bcast(dim0, root=0)\n",
    "dim0 = dim0[0]\n",
    "\n",
    "if rank == 0:\n",
    "    colsA = [0, 1]\n",
    "    colsB = [2, 3]\n",
    "    column_bunch = data[:, colsA]\n",
    "    comm.Send(column_bunch, dest=1, tag=0)\n",
    "    .\n",
    "elif rank == 1:\n",
    "    column_bunch = np.empty((dim0, 2), dtype=dtype)\n",
    "    comm.Recv(column_bunch, source=0, tag=0)\n",
    "\n",
    "print(rank, column_bunch)\n"
   ]
  },
  {
   "cell_type": "code",
   "execution_count": 99,
   "metadata": {},
   "outputs": [
    {
     "name": "stdout",
     "output_type": "stream",
     "text": [
      "0 a\n",
      "1 a\n",
      "0 [[  1.5   2. ]\n",
      " [  4.    5.1]\n",
      " [  7.    8. ]\n",
      " [ 10.   11. ]\n",
      " [ 13.  144. ]]\n",
      "1 [[  1.5   4. ]\n",
      " [  7.   10. ]\n",
      " [ 13.    2. ]\n",
      " [  5.1   8. ]\n",
      " [ 11.  144. ]]\n"
     ]
    }
   ],
   "source": [
    "%%bash\n",
    "mpirun -n 2 python sched0.py"
   ]
  },
  {
   "cell_type": "markdown",
   "metadata": {},
   "source": [
    "---\n",
    "26.01.2019"
   ]
  },
  {
   "cell_type": "code",
   "execution_count": 12,
   "metadata": {},
   "outputs": [],
   "source": [
    "from itertools import chain, starmap, cycle, compress"
   ]
  },
  {
   "cell_type": "code",
   "execution_count": 30,
   "metadata": {},
   "outputs": [],
   "source": [
    "k = 2\n",
    "M = 8\n",
    "size = 4\n",
    "rank = 2"
   ]
  },
  {
   "cell_type": "code",
   "execution_count": 31,
   "metadata": {},
   "outputs": [
    {
     "name": "stdout",
     "output_type": "stream",
     "text": [
      "False\n",
      "False\n",
      "True\n",
      "False\n",
      "False\n",
      "False\n",
      "True\n",
      "False\n",
      "False\n",
      "False\n",
      "True\n",
      "False\n"
     ]
    }
   ],
   "source": [
    "def selector(rank, size):\n",
    "    return cycle( (idx == rank for idx in range(size)) )\n",
    "\n",
    "my_selector = selector(rank, size)\n",
    "for _ in range(12):\n",
    "    print(next(my_selector))"
   ]
  },
  {
   "cell_type": "code",
   "execution_count": 42,
   "metadata": {},
   "outputs": [
    {
     "data": {
      "text/plain": [
       "<enumerate at 0x7fbf5c1e9318>"
      ]
     },
     "execution_count": 42,
     "metadata": {},
     "output_type": "execute_result"
    }
   ],
   "source": [
    "enumerate(range(1,6))"
   ]
  },
  {
   "cell_type": "code",
   "execution_count": 43,
   "metadata": {},
   "outputs": [
    {
     "name": "stdout",
     "output_type": "stream",
     "text": [
      "(0, (0, 1))\n",
      "(1, (0, 2))\n",
      "(2, (0, 3))\n",
      "(3, (0, 4))\n",
      "(4, (0, 5))\n",
      "(5, (0, 6))\n",
      "(6, (0, 7))\n",
      "(7, (1, 2))\n",
      "(8, (1, 3))\n",
      "(9, (1, 4))\n"
     ]
    }
   ],
   "source": [
    "def _tiles_gen(k, M, sd=1):\n",
    "\n",
    "    def embedd(*indeces):\n",
    "        for i in range(indeces[-1] + sd, M):\n",
    "            yield (*indeces, i)\n",
    "\n",
    "    points = ((idx,) for idx in range(M))\n",
    "    for _ in range(k - 1):\n",
    "        points = chain.from_iterable(starmap(embedd, points))\n",
    "\n",
    "    return points\n",
    "\n",
    "my_tiles = enumerate(_tiles_gen(k, M))\n",
    "for _ in range(10):\n",
    "    print(next(my_tiles))"
   ]
  },
  {
   "cell_type": "code",
   "execution_count": 33,
   "metadata": {},
   "outputs": [],
   "source": [
    "my_selected_tiles = compress(_tiles_gen(k=2, M=8), selector(rank=0, size=4))"
   ]
  },
  {
   "cell_type": "code",
   "execution_count": 35,
   "metadata": {},
   "outputs": [
    {
     "data": {
      "text/plain": [
       "[(0, 1), (0, 5), (1, 3), (1, 7), (2, 6), (3, 6), (4, 7)]"
      ]
     },
     "execution_count": 35,
     "metadata": {},
     "output_type": "execute_result"
    }
   ],
   "source": [
    "list(compress(_tiles_gen(k=2, M=8), selector(rank=0, size=4)))"
   ]
  },
  {
   "cell_type": "code",
   "execution_count": 36,
   "metadata": {},
   "outputs": [
    {
     "data": {
      "text/plain": [
       "[(0, 2), (0, 6), (1, 4), (2, 3), (2, 7), (3, 7), (5, 6)]"
      ]
     },
     "execution_count": 36,
     "metadata": {},
     "output_type": "execute_result"
    }
   ],
   "source": [
    "list(compress(_tiles_gen(k=2, M=8), selector(rank=1, size=4)))"
   ]
  },
  {
   "cell_type": "code",
   "execution_count": 37,
   "metadata": {},
   "outputs": [
    {
     "data": {
      "text/plain": [
       "[(0, 3), (0, 7), (1, 5), (2, 4), (3, 4), (4, 5), (5, 7)]"
      ]
     },
     "execution_count": 37,
     "metadata": {},
     "output_type": "execute_result"
    }
   ],
   "source": [
    "list(compress(_tiles_gen(k=2, M=8), selector(rank=2, size=4)))"
   ]
  },
  {
   "cell_type": "code",
   "execution_count": 38,
   "metadata": {},
   "outputs": [
    {
     "data": {
      "text/plain": [
       "[(0, 4), (1, 2), (1, 6), (2, 5), (3, 5), (4, 6), (6, 7)]"
      ]
     },
     "execution_count": 38,
     "metadata": {},
     "output_type": "execute_result"
    }
   ],
   "source": [
    "list(compress(_tiles_gen(k=2, M=8), selector(rank=3, size=4)))"
   ]
  },
  {
   "cell_type": "code",
   "execution_count": 10,
   "metadata": {},
   "outputs": [],
   "source": [
    "M = 10\n",
    "points = ((idx,) for idx in range(M))\n",
    "\n",
    "def embedd(*indeces):\n",
    "    for i in range(indeces[-1] + 1, M):\n",
    "        yield (*indeces, i)\n",
    "\n",
    "# list(chain.from_iterable(starmap(embedd, points)))"
   ]
  },
  {
   "cell_type": "code",
   "execution_count": 122,
   "metadata": {},
   "outputs": [
    {
     "name": "stdout",
     "output_type": "stream",
     "text": [
      "Writing tiles_generator.py\n"
     ]
    }
   ],
   "source": [
    "%%writefile tiles_generator.py\n",
    "from itertools import chain, starmap, cycle, compress\n",
    "\n",
    "class TilesGenerator():\n",
    "    \n",
    "    def __init__(self, k, M, size, rank):\n",
    "        self.k = k  # dimension of the contingency matrix\n",
    "        self.M = M  # number of tiles across one dimension\n",
    "        self.size = size  # apropo mpi\n",
    "        self.rank = rank  # apropo mpi\n",
    "        self._final_gen = self._checkered_tiles_gen()\n",
    "        \n",
    "    def __iter__(self):\n",
    "        return self\n",
    "    \n",
    "    def __next__(self):\n",
    "        try:\n",
    "            return next(self._final_gen)\n",
    "        except StopIteration:\n",
    "            raise\n",
    "\n",
    "    def _tiles_gen(self, sd=1):\n",
    "\n",
    "        def embedd(*indeces):\n",
    "            for i in range(indeces[-1] + sd, self.M):\n",
    "                yield (*indeces, i)\n",
    "\n",
    "        points = ((idx,) for idx in range(self.M))\n",
    "        for _ in range(self.k - 1):\n",
    "            points = chain.from_iterable(starmap(embedd, points))\n",
    "\n",
    "        return points\n",
    "    \n",
    "    def _rank_selector(self):\n",
    "        return cycle( (idx == self.rank for idx in range(self.size)) )\n",
    "    \n",
    "    def _checkered_tiles_gen(self):\n",
    "        return compress(self._tiles_gen(), self._rank_selector())"
   ]
  },
  {
   "cell_type": "code",
   "execution_count": 140,
   "metadata": {},
   "outputs": [],
   "source": [
    "from itertools import chain, starmap, cycle, compress\n",
    "\n",
    "def tiles_generator(k, M, size, rank, skip_diag=True):\n",
    "    sd = bool(skip_diag)\n",
    "\n",
    "    def embedd(*indeces):\n",
    "        for i in range(indeces[-1] + sd, M):\n",
    "            yield (*indeces, i)\n",
    "\n",
    "    indeces = ((idx,) for idx in range(M))\n",
    "    for _ in range(k - 1):\n",
    "        indeces = chain.from_iterable(starmap(embedd, indeces))\n",
    "        \n",
    "    rank_selector = cycle( (idx == rank for idx in range(size)) )\n",
    "    \n",
    "    return compress(indeces, rank_selector)"
   ]
  },
  {
   "cell_type": "code",
   "execution_count": 136,
   "metadata": {},
   "outputs": [
    {
     "data": {
      "text/plain": [
       "(0, 1, 2)"
      ]
     },
     "execution_count": 136,
     "metadata": {},
     "output_type": "execute_result"
    }
   ],
   "source": [
    "tiles0 = tiles_generator(3, 100, 4, 0)\n",
    "next(tiles0)"
   ]
  },
  {
   "cell_type": "code",
   "execution_count": 149,
   "metadata": {
    "scrolled": false
   },
   "outputs": [
    {
     "data": {
      "text/plain": [
       "<matplotlib.axes._subplots.AxesSubplot at 0x7fc9d348fc18>"
      ]
     },
     "execution_count": 149,
     "metadata": {},
     "output_type": "execute_result"
    },
    {
     "data": {
      "image/png": "[encoded data removed]",
      "text/plain": [
       "<matplotlib.figure.Figure at 0x7fc9d30a8b00>"
      ]
     },
     "metadata": {
      "needs_background": "light"
     },
     "output_type": "display_data"
    },
    {
     "data": {
      "image/png": "[encoded data removed]",
      "text/plain": [
       "<matplotlib.figure.Figure at 0x7fc9eabe9e48>"
      ]
     },
     "metadata": {
      "needs_background": "light"
     },
     "output_type": "display_data"
    }
   ],
   "source": [
    "M = 20\n",
    "size = 8\n",
    "k = 3\n",
    "\n",
    "import numpy as np\n",
    "import pandas as pd\n",
    "%matplotlib inline\n",
    "\n",
    "cover_fractions = {}\n",
    "cover_counts = {}\n",
    "\n",
    "for rank in range(4): # range(size)\n",
    "    idx_counts = np.zeros(M)\n",
    "    cover_fraction = []\n",
    "    cover_count = []\n",
    "    for job, tile in enumerate(tiles_generator(k=k, M=M, rank=rank, size=size)):\n",
    "        for idx in tile:\n",
    "            idx_counts[idx] += 1\n",
    "        cover_fraction.append( np.sum(idx_counts.astype('bool')) / M )\n",
    "        cover_count.append( np.mean(idx_counts))\n",
    "    cover_fractions[rank] = cover_fraction\n",
    "    cover_counts[rank] = cover_count\n",
    "\n",
    "min_len_fraction = min([len(cover) for cover in cover_fractions.values()])\n",
    "trunc_cover_fractions = {rank: cover[:min_len_fraction] for (rank, cover) in cover_fractions.items()}\n",
    "\n",
    "min_len_count = min([len(cover) for cover in cover_counts.values()])\n",
    "trunc_cover_counts = {rank: cover[:min_len_count] for (rank, cover) in cover_counts.items()}\n",
    "\n",
    "pd.DataFrame(trunc_cover_fractions).rename_axis('jobs').plot(figsize=(10,6), title='Fraction of visited indeces')\n",
    "pd.DataFrame(trunc_cover_counts).rename_axis('jobs').plot(figsize=(10,6), title='Volume of sent data relative to the whole dataset')"
   ]
  },
  {
   "cell_type": "code",
   "execution_count": 213,
   "metadata": {},
   "outputs": [],
   "source": [
    "seq = madelon[0].values"
   ]
  },
  {
   "cell_type": "code",
   "execution_count": 155,
   "metadata": {},
   "outputs": [
    {
     "data": {
      "text/plain": [
       "True"
      ]
     },
     "execution_count": 155,
     "metadata": {},
     "output_type": "execute_result"
    }
   ],
   "source": [
    "(seq[sorted(range(len(seq)), key=seq.__getitem__)] == seq[list(np.argsort(seq))]).all()"
   ]
  },
  {
   "cell_type": "code",
   "execution_count": 156,
   "metadata": {},
   "outputs": [
    {
     "name": "stdout",
     "output_type": "stream",
     "text": [
      "42.1 µs ± 1.39 µs per loop (mean ± std. dev. of 7 runs, 10000 loops each)\n"
     ]
    }
   ],
   "source": [
    "%%timeit\n",
    "np.argsort(seq)"
   ]
  },
  {
   "cell_type": "code",
   "execution_count": 157,
   "metadata": {},
   "outputs": [
    {
     "name": "stdout",
     "output_type": "stream",
     "text": [
      "805 µs ± 8.99 µs per loop (mean ± std. dev. of 7 runs, 1000 loops each)\n"
     ]
    }
   ],
   "source": [
    "%%timeit\n",
    "sorted(range(len(seq)), key=seq.__getitem__)"
   ]
  },
  {
   "cell_type": "code",
   "execution_count": 164,
   "metadata": {},
   "outputs": [
    {
     "data": {
      "text/plain": [
       "array([1048, 1335,  722, ..., 1584, 1926,  747])"
      ]
     },
     "execution_count": 164,
     "metadata": {},
     "output_type": "execute_result"
    }
   ],
   "source": [
    "np.argsort(seq)"
   ]
  },
  {
   "cell_type": "code",
   "execution_count": 374,
   "metadata": {},
   "outputs": [],
   "source": [
    "from scipy.stats import rankdata\n",
    "np.random.seed(123)"
   ]
  },
  {
   "cell_type": "code",
   "execution_count": 27,
   "metadata": {},
   "outputs": [],
   "source": [
    "divisions = 10\n",
    "range_ = 0.1"
   ]
  },
  {
   "cell_type": "code",
   "execution_count": 376,
   "metadata": {},
   "outputs": [
    {
     "data": {
      "text/plain": [
       "array([14,  3, 13,  3,  7,  2,  4, 11, 12, 10,  7,  2,  1,  2, 10,  1,  1,\n",
       "       10,  4, 14,  5,  1,  1,  5,  2])"
      ]
     },
     "execution_count": 376,
     "metadata": {},
     "output_type": "execute_result"
    }
   ],
   "source": [
    "seq = np.random.randint(1, 15, 25)\n",
    "seq"
   ]
  },
  {
   "cell_type": "code",
   "execution_count": 366,
   "metadata": {},
   "outputs": [
    {
     "data": {
      "text/plain": [
       "array([1. , 2.5, 2.5])"
      ]
     },
     "execution_count": 366,
     "metadata": {},
     "output_type": "execute_result"
    }
   ],
   "source": [
    "rankdata([0,1,1])"
   ]
  },
  {
   "cell_type": "code",
   "execution_count": 363,
   "metadata": {},
   "outputs": [
    {
     "data": {
      "text/plain": [
       "array([24.5, 10.5, 23. , 10.5, 16.5,  7.5, 12.5, 21. , 22. , 19. , 16.5,\n",
       "        7.5,  3. ,  7.5, 19. ,  3. ,  3. , 19. , 12.5, 24.5, 14.5,  3. ,\n",
       "        3. , 14.5,  7.5])"
      ]
     },
     "execution_count": 363,
     "metadata": {},
     "output_type": "execute_result"
    }
   ],
   "source": [
    "ranks = rankdata(seq)\n",
    "ranks"
   ]
  },
  {
   "cell_type": "code",
   "execution_count": 364,
   "metadata": {},
   "outputs": [
    {
     "data": {
      "text/plain": [
       "array([1, 2, 3, 4, 5, 6, 7, 8, 9])"
      ]
     },
     "execution_count": 364,
     "metadata": {},
     "output_type": "execute_result"
    }
   ],
   "source": [
    "np.arange(1, divisions)"
   ]
  },
  {
   "cell_type": "code",
   "execution_count": 365,
   "metadata": {},
   "outputs": [
    {
     "data": {
      "text/plain": [
       "array([-0.10788248, -0.15682198,  0.22904971, -0.06142776, -0.4403221 ,\n",
       "       -0.10195574,  0.23799541, -0.31750827, -0.32454824])"
      ]
     },
     "execution_count": 365,
     "metadata": {},
     "output_type": "execute_result"
    }
   ],
   "source": [
    "(np.random.random(divisions - 1) - .5)"
   ]
  },
  {
   "cell_type": "code",
   "execution_count": 338,
   "metadata": {},
   "outputs": [
    {
     "data": {
      "text/plain": [
       "array([0.98147592, 2.02683192, 3.01483504, 3.98061031, 4.99878069,\n",
       "       5.9953753 , 6.98162431, 8.01571584, 9.01490251])"
      ]
     },
     "execution_count": 338,
     "metadata": {},
     "output_type": "execute_result"
    }
   ],
   "source": [
    "range_ * (np.random.random(divisions - 1) - .5) + np.arange(1, divisions)"
   ]
  },
  {
   "cell_type": "code",
   "execution_count": 339,
   "metadata": {},
   "outputs": [
    {
     "data": {
      "text/plain": [
       "array([0.09591548, 0.19935407, 0.29965439, 0.39896703, 0.49546506,\n",
       "       0.60405929, 0.70332069, 0.79724223, 0.90314   ])"
      ]
     },
     "execution_count": 339,
     "metadata": {},
     "output_type": "execute_result"
    }
   ],
   "source": [
    "(range_ * (np.random.random(divisions - 1) - .5) + np.arange(1, divisions)) / divisions"
   ]
  },
  {
   "cell_type": "code",
   "execution_count": 377,
   "metadata": {},
   "outputs": [
    {
     "data": {
      "text/plain": [
       "array([ 2.42062293,  4.91886294,  7.50788784, 10.0079569 , 12.53360024,\n",
       "       15.08735795, 17.55611383, 20.02775588, 22.55561085])"
      ]
     },
     "execution_count": 377,
     "metadata": {},
     "output_type": "execute_result"
    }
   ],
   "source": [
    "tresholds = (range_ * (np.random.random(divisions - 1) - .5) + np.arange(1, divisions)) / divisions * len(seq)\n",
    "tresholds"
   ]
  },
  {
   "cell_type": "code",
   "execution_count": 345,
   "metadata": {},
   "outputs": [
    {
     "data": {
      "text/plain": [
       "array([0., 0., 1., 0., 1.])"
      ]
     },
     "execution_count": 345,
     "metadata": {},
     "output_type": "execute_result"
    }
   ],
   "source": [
    "my_zeros = np.zeros(5)\n",
    "indeces = [False, False, True, False, True]\n",
    "my_zeros[indeces] += 1\n",
    "my_zeros"
   ]
  },
  {
   "cell_type": "code",
   "execution_count": 386,
   "metadata": {},
   "outputs": [],
   "source": [
    "seq = np.random.randint(1, 15, 25)"
   ]
  },
  {
   "cell_type": "code",
   "execution_count": 387,
   "metadata": {},
   "outputs": [
    {
     "data": {
      "text/plain": [
       "array([8, 1, 1, 8, 3, 9, 5, 1, 1, 5, 2, 6, 3, 3, 5, 6, 3, 5, 7, 9, 1, 6,\n",
       "       8, 3, 9], dtype=int8)"
      ]
     },
     "execution_count": 387,
     "metadata": {},
     "output_type": "execute_result"
    }
   ],
   "source": [
    "from scipy.stats import rankdata\n",
    "np.random.seed(123)\n",
    "ranks = rankdata(seq)\n",
    "\n",
    "tresholds = (range_ * (np.random.random(divisions - 1) - .5) + np.arange(1, divisions)) / divisions * len(seq)\n",
    "\n",
    "discrete_seq = np.zeros(25, dtype='int8')\n",
    "for treshold in tresholds:\n",
    "    discrete_seq[ranks > treshold] += 1\n",
    "discrete_seq"
   ]
  },
  {
   "cell_type": "code",
   "execution_count": 36,
   "metadata": {},
   "outputs": [],
   "source": [
    "seed = 123"
   ]
  },
  {
   "cell_type": "code",
   "execution_count": 37,
   "metadata": {},
   "outputs": [],
   "source": [
    "from scipy.stats import rankdata\n",
    "\n",
    "def discretize(seq, divisions=divisions, range_=range_, seed=seed):\n",
    "    np.random.seed(seed)\n",
    "    ranks = rankdata(seq)\n",
    "    tresholds = (range_ * (np.random.random(divisions - 1) - .5) + np.arange(1, divisions)) / divisions * len(seq)\n",
    "    discrete_seq = np.zeros(len(seq), dtype='int8')\n",
    "    for treshold in tresholds:\n",
    "        discrete_seq[ranks > treshold] += 1\n",
    "    return discrete_seq\n"
   ]
  },
  {
   "cell_type": "code",
   "execution_count": 433,
   "metadata": {},
   "outputs": [
    {
     "name": "stdout",
     "output_type": "stream",
     "text": [
      "881 µs ± 15.2 µs per loop (mean ± std. dev. of 7 runs, 1000 loops each)\n"
     ]
    }
   ],
   "source": [
    "%%timeit\n",
    "discretize(madelon[1], divisions, range_, 123)\n",
    "discretize(madelon[9], divisions, range_, 123)"
   ]
  },
  {
   "cell_type": "code",
   "execution_count": 59,
   "metadata": {},
   "outputs": [],
   "source": [
    "madelon_val_T = madelon.values.T[:-2]\n",
    "madelon_val = madelon.values[:,:-2]"
   ]
  },
  {
   "cell_type": "code",
   "execution_count": 60,
   "metadata": {},
   "outputs": [],
   "source": [
    "discretize_vec = np.vectorize(discretize, signature='(n)->(n)', excluded=['divisions', 'range_', 'seed'])"
   ]
  },
  {
   "cell_type": "code",
   "execution_count": 62,
   "metadata": {},
   "outputs": [
    {
     "data": {
      "text/plain": [
       "(500, 2000)"
      ]
     },
     "execution_count": 62,
     "metadata": {},
     "output_type": "execute_result"
    }
   ],
   "source": [
    "discretize_vec(madelon_val_T)"
   ]
  },
  {
   "cell_type": "code",
   "execution_count": 441,
   "metadata": {},
   "outputs": [
    {
     "name": "stdout",
     "output_type": "stream",
     "text": [
      "13.7 µs ± 100 ns per loop (mean ± std. dev. of 7 runs, 100000 loops each)\n"
     ]
    }
   ],
   "source": [
    "%%timeit\n",
    "madelon_val[range(10),:]"
   ]
  },
  {
   "cell_type": "code",
   "execution_count": 442,
   "metadata": {},
   "outputs": [
    {
     "name": "stdout",
     "output_type": "stream",
     "text": [
      "13.9 µs ± 81.8 ns per loop (mean ± std. dev. of 7 runs, 100000 loops each)\n"
     ]
    }
   ],
   "source": [
    "%%timeit\n",
    "madelon_val_T[:, range(10)]"
   ]
  },
  {
   "cell_type": "code",
   "execution_count": 444,
   "metadata": {},
   "outputs": [
    {
     "data": {
      "text/plain": [
       "array([[485., 483., 487., ..., 480., 484., 474.],\n",
       "       [477., 458., 542., ..., 517., 481., 493.],\n",
       "       [537., 460., 499., ..., 631., 505., 469.],\n",
       "       ...,\n",
       "       [476., 479., 478., ..., 476., 477., 479.],\n",
       "       [475., 485., 480., ..., 493., 510., 481.],\n",
       "       [473., 469., 477., ..., 466., 472., 473.]])"
      ]
     },
     "execution_count": 444,
     "metadata": {},
     "output_type": "execute_result"
    }
   ],
   "source": [
    "madelon_val_T[range(10)]"
   ]
  },
  {
   "cell_type": "code",
   "execution_count": 438,
   "metadata": {},
   "outputs": [
    {
     "name": "stdout",
     "output_type": "stream",
     "text": [
      "17.9 µs ± 194 ns per loop (mean ± std. dev. of 7 runs, 100000 loops each)\n"
     ]
    }
   ],
   "source": [
    "%%timeit\n",
    "madelon_val[:,range(10)]"
   ]
  },
  {
   "cell_type": "code",
   "execution_count": 35,
   "metadata": {},
   "outputs": [
    {
     "name": "stdout",
     "output_type": "stream",
     "text": [
      "222 ms ± 3.7 ms per loop (mean ± std. dev. of 7 runs, 1 loop each)\n"
     ]
    }
   ],
   "source": [
    "%%timeit\n",
    "discretize_vec(madelon_val_T, divisions=divisions, range_=range_, seed=123)"
   ]
  },
  {
   "cell_type": "code",
   "execution_count": 171,
   "metadata": {},
   "outputs": [],
   "source": [
    "seq = madelon[0].values\n",
    "N = len(seq)\n",
    "ranks = rankdata(seq, method = 'min')\n",
    "n_buckets = 10\n",
    "N / n_buckets"
   ]
  },
  {
   "cell_type": "code",
   "execution_count": 169,
   "metadata": {},
   "outputs": [
    {
     "data": {
      "text/plain": [
       "array([1., 1., 1., ..., 1., 1., 1.])"
      ]
     },
     "execution_count": 169,
     "metadata": {},
     "output_type": "execute_result"
    }
   ],
   "source": [
    "np.ones(len(seq))[ranks // (N)]"
   ]
  },
  {
   "cell_type": "code",
   "execution_count": 160,
   "metadata": {},
   "outputs": [
    {
     "data": {
      "text/plain": [
       "array([[462, 463, 463, ..., 464, 464, 464],\n",
       "       [466, 466, 466, ..., 467, 467, 467],\n",
       "       [467, 467, 468, ..., 468, 468, 468],\n",
       "       ...,\n",
       "       [496, 496, 496, ..., 496, 497, 497],\n",
       "       [497, 497, 498, ..., 498, 498, 498],\n",
       "       [498, 499, 499, ..., 500, 501, 503]])"
      ]
     },
     "execution_count": 160,
     "metadata": {},
     "output_type": "execute_result"
    }
   ],
   "source": [
    "seq[np.argsort(seq).reshape(-1, 10)]"
   ]
  },
  {
   "cell_type": "code",
   "execution_count": 447,
   "metadata": {},
   "outputs": [
    {
     "data": {
      "text/plain": [
       "tuple"
      ]
     },
     "execution_count": 447,
     "metadata": {},
     "output_type": "execute_result"
    }
   ],
   "source": [
    "type(madelon_val_T.shape)"
   ]
  },
  {
   "cell_type": "markdown",
   "metadata": {},
   "source": [
    "---\n",
    "27.01"
   ]
  },
  {
   "cell_type": "code",
   "execution_count": 44,
   "metadata": {},
   "outputs": [
    {
     "name": "stdout",
     "output_type": "stream",
     "text": [
      "0\n",
      "1\n",
      "2\n",
      "3\n",
      "4\n",
      "5\n",
      "6\n",
      "7\n",
      "8\n",
      "9\n"
     ]
    },
    {
     "ename": "StopIteration",
     "evalue": "",
     "output_type": "error",
     "traceback": [
      "\u001b[0;31m---------------------------------------------------------------------------\u001b[0m",
      "\u001b[0;31mStopIteration\u001b[0m                             Traceback (most recent call last)",
      "\u001b[0;32m<ipython-input-44-5419aa77602c>\u001b[0m in \u001b[0;36m<module>\u001b[0;34m()\u001b[0m\n\u001b[1;32m      1\u001b[0m \u001b[0mgen\u001b[0m \u001b[0;34m=\u001b[0m \u001b[0;34m(\u001b[0m\u001b[0m_\u001b[0m \u001b[0;32mfor\u001b[0m \u001b[0m_\u001b[0m \u001b[0;32min\u001b[0m \u001b[0mrange\u001b[0m\u001b[0;34m(\u001b[0m\u001b[0;36m10\u001b[0m\u001b[0;34m)\u001b[0m\u001b[0;34m)\u001b[0m\u001b[0;34m\u001b[0m\u001b[0m\n\u001b[1;32m      2\u001b[0m \u001b[0;32mwhile\u001b[0m\u001b[0;34m(\u001b[0m\u001b[0mgen\u001b[0m\u001b[0;34m)\u001b[0m\u001b[0;34m:\u001b[0m\u001b[0;34m\u001b[0m\u001b[0m\n\u001b[0;32m----> 3\u001b[0;31m     \u001b[0mprint\u001b[0m\u001b[0;34m(\u001b[0m\u001b[0mnext\u001b[0m\u001b[0;34m(\u001b[0m\u001b[0mgen\u001b[0m\u001b[0;34m)\u001b[0m\u001b[0;34m)\u001b[0m\u001b[0;34m\u001b[0m\u001b[0m\n\u001b[0m",
      "\u001b[0;31mStopIteration\u001b[0m: "
     ]
    }
   ],
   "source": [
    "gen = (_ for _ in range(10))\n",
    "while(gen):\n",
    "    print(next(gen))"
   ]
  },
  {
   "cell_type": "code",
   "execution_count": 186,
   "metadata": {},
   "outputs": [
    {
     "name": "stdout",
     "output_type": "stream",
     "text": [
      "{1, 2}\n",
      "{2}\n",
      "set()\n"
     ]
    }
   ],
   "source": [
    "workers = set(range(3))\n",
    "i = 0\n",
    "while workers:\n",
    "    workers = workers - set([i])\n",
    "    i += 1\n",
    "    print(workers)"
   ]
  },
  {
   "cell_type": "code",
   "execution_count": 3,
   "metadata": {},
   "outputs": [
    {
     "name": "stdout",
     "output_type": "stream",
     "text": [
      "Writing delete_me.py\n"
     ]
    }
   ],
   "source": [
    "%%writefile delete_me.py\n",
    "import numpy as np\n",
    "from scipy.stats import rankdata\n",
    "from pandas import read_csv\n",
    "from itertools import chain, starmap\n",
    "# np.random.seed(123)\n",
    "\n",
    "from mpi4py import MPI\n",
    "comm = MPI.COMM_WORLD\n",
    "comm.Barrier()\n",
    "time0 = MPI.Wtime()\n",
    "size = comm.Get_size()\n",
    "rank = comm.Get_rank()\n",
    "print(rank, size)"
   ]
  },
  {
   "cell_type": "code",
   "execution_count": 4,
   "metadata": {},
   "outputs": [
    {
     "name": "stdout",
     "output_type": "stream",
     "text": [
      "0 2\n",
      "1 2\n"
     ]
    }
   ],
   "source": [
    "%%bash\n",
    "mpirun -n 2 python delete_me.py"
   ]
  },
  {
   "cell_type": "code",
   "execution_count": 25,
   "metadata": {},
   "outputs": [
    {
     "name": "stdout",
     "output_type": "stream",
     "text": [
      "Overwriting sched0.py\n"
     ]
    }
   ],
   "source": [
    "%%writefile sched0.py\n",
    "import numpy as np\n",
    "from scipy.stats import rankdata\n",
    "from pandas import read_csv\n",
    "from itertools import chain, starmap\n",
    "# np.random.seed(123)\n",
    "\n",
    "from mpi4py import MPI\n",
    "comm = MPI.COMM_WORLD\n",
    "comm.Barrier()\n",
    "time0 = MPI.Wtime()\n",
    "size = comm.Get_size()\n",
    "rank = comm.Get_rank()\n",
    "\n",
    "#tag_idle = 100\n",
    "tag_results = 101\n",
    "tag_terminate = 102\n",
    "\n",
    "\n",
    "divisions = 10\n",
    "range_ = 0.1\n",
    "seed = 123\n",
    "k = 2\n",
    "window = 10\n",
    "# self.M = (N-1) // self.w + 1\n",
    "\n",
    "print(rank, \"stage 1\")\n",
    "\n",
    "def discretize(seq, divisions=divisions, range_=range_, seed=seed):\n",
    "    np.random.seed(seed)\n",
    "    ranks = rankdata(seq)\n",
    "    tresholds = (range_ * (np.random.random(divisions - 1) - .5) + np.arange(1, divisions)) / divisions * len(seq)\n",
    "    discrete_seq = np.zeros(len(seq), dtype='int64')\n",
    "    for treshold in tresholds:\n",
    "        discrete_seq[ranks > treshold] += 1\n",
    "    return discrete_seq\n",
    "\n",
    "discretize_vec = np.vectorize(discretize, signature='(n)->(n)', excluded=['divisions', 'range_', 'seed'])\n",
    "\n",
    "if rank == 0:\n",
    "    print(rank, \"attempting to read data\")\n",
    "    file = \"madelon.csv\"\n",
    "    data = discretize_vec(read_csv(file, dtype='float64', header=None).values.T[:-2])\n",
    "    data_shape = data.shape\n",
    "else:\n",
    "    data_shape = None    \n",
    "\n",
    "dim0, dim1 = comm.bcast(data_shape, root=0)\n",
    "print(rank, \"dims:\", dim0, dim1)\n",
    "\n",
    "if rank != 0:\n",
    "    data = np.empty((dim0, dim1), dtype='int64')\n",
    "\n",
    "comm.Bcast([data, MPI.INT], root=0)\n",
    "if rank == 0:\n",
    "    print(MPI.Wtime() - time0)\n",
    "    \n",
    "def tiles_generator(k, M, skip_diag=True):\n",
    "    sd = int(skip_diag)\n",
    "\n",
    "    def embedd(*indeces):\n",
    "        for i in range(indeces[-1] + sd, M):\n",
    "            yield (*indeces, i)\n",
    "\n",
    "    indeces = ((idx,) for idx in range(M))\n",
    "    for _ in range(k - 1):\n",
    "        indeces = chain.from_iterable(starmap(embedd, indeces))\n",
    "        \n",
    "    return indeces\n",
    "\n",
    "def dummy_job(indeces):\n",
    "    results = {}\n",
    "    for index in indeces:\n",
    "        other_indeces = tuple(set(indeces) - set([index]))\n",
    "        result = np.mean(data[other_indeces]) - np.mean(data[index])\n",
    "        results[index] = (result, other_indeces)\n",
    "    return results\n",
    "\n",
    "\n",
    "local_tiles = tiles_generator(k, dim0)\n",
    "status = MPI.Status()\n",
    "print(rank, \"stage 2\")\n",
    "\n",
    "if rank == 0:\n",
    "    final_results = {index: (0, None) for index in range(dim0)}\n",
    "    for _ in range(size - 1):\n",
    "        next(local_tiles)\n",
    "    workers = set(range(1,size))\n",
    "    print(rank, \"entering while loop\")\n",
    "#     for worker in workers:\n",
    "#         results = comm.recv(source = MPI.ANY_SOURCE, tag=MPI.ANY_TAG, status=status)\n",
    "#         print(rank, \"received from\", status.source)\n",
    "    while workers:\n",
    "        results = comm.recv(source=MPI.ANY_SOURCE, tag=MPI.ANY_TAG, status=status)\n",
    "        print(rank, \"received\", status.tag, \"from\", status.source)\n",
    "#         for index, score in results.items():\n",
    "#             if score[0] > final_results[index][0]:\n",
    "#                 final_results[index] = score\n",
    "        comm.send(None, dest=status.source, tag=tag_terminate)\n",
    "        workers = workers - set([status.source])\n",
    "    print(rank, \"says goodbye\")\n",
    "        \n",
    "    \n",
    "else:\n",
    "    for _ in range(rank - 1):\n",
    "        next(local_tiles)\n",
    "    first_tile = next(local_tiles)\n",
    "    first_results = dummy_job(first_tile)\n",
    "    print(rank, \"attempting to send first results\")\n",
    "    comm.send(first_results, dest=0, tag=tag_results)\n",
    "    print(rank, \"entering while loop\")\n",
    "    while True:\n",
    "        tile = comm.recv(source = 0, tag=MPI.ANY_TAG, status=status)\n",
    "        if status.tag == tag_terminate:\n",
    "            print(rank, \"says goodbye\")\n",
    "            break\n",
    "        else:\n",
    "            results = dummy_job(tile)\n",
    "        comm.send(results, dest=0, tag=tag_results)\n",
    "\n",
    "\n",
    "\n",
    "# sample = np.zeros(5, dtype='float64')\n",
    "\n",
    "# if rank == 1:\n",
    "#     sample = np.ones(5, dtype='float64')\n",
    "#     comm.Send([sample, MPI.DOUBLE], dest=0, tag=tag_idle)\n",
    "# elif rank == 0:\n",
    "#     #for _ in range(1, size):\n",
    "#     status = MPI.Status()\n",
    "#     comm.Probe(MPI.ANY_SOURCE, MPI.ANY_TAG, status=status)\n",
    "#     print(status.tag)\n",
    "#     print(status.source)\n",
    "#     print(status.Get_elements(MPI.DOUBLE))\n",
    "#     comm.Recv(sample, source=status.source)\n",
    "\n",
    "\n",
    "# if rank == 0:\n",
    "#     status = MPI.Status()\n",
    "#     task_queue = range( (dim0 - 1) // window + 1)\n",
    "#     while(task_queue)\n",
    "# else:\n",
    "#     comm.send(None, dest=0, tag=tag_idle)\n",
    "    \n",
    "#     request = comm.Irecv(MPI.ANY_SOURCE, \n",
    "#     packet = data[task*window: (task+1)*window]\n",
    "#     comm.Send(data, )\n",
    "\n",
    "\n",
    "# if rank != 0:\n",
    "#     data = np.empty(data_shape, dtype=dtype)\n",
    "\n",
    "# if rank == 0:\n",
    "#     colsA = [0, 1]\n",
    "#     colsB = [2, 3]\n",
    "#     column_bunch = data[:, colsA]\n",
    "#     comm.Send(column_bunch, dest=1, tag=0)\n",
    "#     .\n",
    "# elif rank == 1:\n",
    "#     column_bunch = np.empty((dim0, 2), dtype=dtype)\n",
    "#     comm.Recv(column_bunch, source=0, tag=0)\n",
    "\n",
    "# print(rank, column_bunch)\n"
   ]
  },
  {
   "cell_type": "code",
   "execution_count": 26,
   "metadata": {},
   "outputs": [
    {
     "name": "stdout",
     "output_type": "stream",
     "text": [
      "0 stage 1\n",
      "1 stage 1\n",
      "2 stage 1\n",
      "3 stage 1\n",
      "0 attempting to read data\n",
      "0 dims: 500 2000\n",
      "3 dims: 500 2000\n",
      "1 dims: 500 2000\n",
      "2 dims: 500 2000\n",
      "0.5236572219999971\n",
      "1 stage 2\n",
      "3 stage 2\n",
      "0 stage 2\n",
      "2 stage 2\n",
      "0 entering while loop\n",
      "1 attempting to send first results\n",
      "3 attempting to send first results\n",
      "2 attempting to send first results\n",
      "1 entering while loop\n",
      "0 received 101 from 1\n",
      "1 says goodbye\n",
      "2 entering while loop\n",
      "0 received 101 from 2\n",
      "3 entering while loop\n",
      "2 says goodbye\n",
      "0 received 101 from 3\n",
      "0 says goodbye\n",
      "3 says goodbye\n"
     ]
    }
   ],
   "source": [
    "%%bash\n",
    "mpirun -n 4 python sched0.py"
   ]
  },
  {
   "cell_type": "code",
   "execution_count": null,
   "metadata": {},
   "outputs": [],
   "source": []
  }
 ],
 "metadata": {
  "kernelspec": {
   "display_name": "Python 3",
   "language": "python",
   "name": "python3"
  },
  "language_info": {
   "codemirror_mode": {
    "name": "ipython",
    "version": 3
   },
   "file_extension": ".py",
   "mimetype": "text/x-python",
   "name": "python",
   "nbconvert_exporter": "python",
   "pygments_lexer": "ipython3",
   "version": "3.5.2"
  }
 },
 "nbformat": 4,
 "nbformat_minor": 2
}
