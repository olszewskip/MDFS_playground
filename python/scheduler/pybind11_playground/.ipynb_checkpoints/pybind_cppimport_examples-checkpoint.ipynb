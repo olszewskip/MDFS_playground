{
 "cells": [
  {
   "cell_type": "code",
   "execution_count": 6,
   "metadata": {},
   "outputs": [
    {
     "name": "stdout",
     "output_type": "stream",
     "text": [
      "Overwriting funcs.hpp\n"
     ]
    }
   ],
   "source": [
    "%%writefile funcs.hpp\n",
    "\n",
    "int add(int i, int j);"
   ]
  },
  {
   "cell_type": "code",
   "execution_count": 7,
   "metadata": {},
   "outputs": [
    {
     "name": "stdout",
     "output_type": "stream",
     "text": [
      "Overwriting funcs.cpp\n"
     ]
    }
   ],
   "source": [
    "%%writefile funcs.cpp\n",
    "\n",
    "int add(int i, int j) {\n",
    "    return i + j;\n",
    "};"
   ]
  },
  {
   "cell_type": "code",
   "execution_count": 8,
   "metadata": {},
   "outputs": [
    {
     "name": "stdout",
     "output_type": "stream",
     "text": [
      "Overwriting wrap1.cpp\n"
     ]
    }
   ],
   "source": [
    "%%writefile wrap1.cpp\n",
    "#include <pybind11/pybind11.h>\n",
    "#include \"funcs.hpp\"\n",
    "\n",
    "namespace py = pybind11;\n",
    "using namespace pybind11::literals;\n",
    "\n",
    "PYBIND11_MODULE(example, m) {\n",
    "    m.doc() = \"pybind11 example plugin\"; // optional module docstring\n",
    "\n",
    "    m.def(\"add\", &add, \"A function which adds two numbers\",\n",
    "          \"i\"_a, \"j\"_a=2);\n",
    "}"
   ]
  },
  {
   "cell_type": "code",
   "execution_count": 35,
   "metadata": {},
   "outputs": [],
   "source": [
    "%%bash\n",
    "c++ -O3 -Wall -shared -std=c++11 -fPIC `python3 -m pybind11 --includes` wrap1.cpp -o wrap1`python3-config --extension-suffix`"
   ]
  },
  {
   "cell_type": "code",
   "execution_count": 36,
   "metadata": {},
   "outputs": [],
   "source": [
    "import wrap1"
   ]
  },
  {
   "cell_type": "code",
   "execution_count": 37,
   "metadata": {},
   "outputs": [
    {
     "data": {
      "text/plain": [
       "4"
      ]
     },
     "execution_count": 37,
     "metadata": {},
     "output_type": "execute_result"
    }
   ],
   "source": [
    "wrap1.add(i=2)"
   ]
  },
  {
   "cell_type": "code",
   "execution_count": 33,
   "metadata": {},
   "outputs": [
    {
     "name": "stdout",
     "output_type": "stream",
     "text": [
      "Help on module wrap1:\n",
      "\n",
      "NAME\n",
      "    wrap1 - pybind11 example plugin\n",
      "\n",
      "FUNCTIONS\n",
      "    add(...) method of builtins.PyCapsule instance\n",
      "        add(i: int=1, j: int=2) -> int\n",
      "        \n",
      "        A function which adds two numbers\n",
      "\n",
      "FILE\n",
      "    /home/olszewskip/Desktop/git-repos/MDFS_playground/python/scheduler/example1/wrap1.cpython-35m-x86_64-linux-gnu.so\n",
      "\n",
      "\n"
     ]
    }
   ],
   "source": [
    "help(wrap1)"
   ]
  },
  {
   "cell_type": "markdown",
   "metadata": {},
   "source": [
    "---\n",
    "07.02"
   ]
  },
  {
   "cell_type": "code",
   "execution_count": 10,
   "metadata": {},
   "outputs": [
    {
     "name": "stdout",
     "output_type": "stream",
     "text": [
      "Overwriting pi.cpp\n"
     ]
    }
   ],
   "source": [
    "%%writefile pi.cpp\n",
    "/*\n",
    "<%\n",
    "setup_pybind11(cfg)\n",
    "%>\n",
    "*/\n",
    "#include <pybind11/pybind11.h>\n",
    "\n",
    "namespace py = pybind11;\n",
    "\n",
    "double compute_pi(int n) {\n",
    "    \n",
    "    double step = 1.0/n;\n",
    "    double pi = 0;\n",
    "\n",
    "    double x;\n",
    "    for(int i = 0 ; i < n ; i++){\n",
    "        x = (i + 0.5) * step;\n",
    "        pi += 4.0 / (1 + x*x);\n",
    "    }\n",
    "    \n",
    "    pi *= step;\n",
    "    return pi;\n",
    "}\n",
    "\n",
    "\n",
    "PYBIND11_MODULE(pi, m) {\n",
    "    m.def(\"compute_pi\", &compute_pi);\n",
    "}"
   ]
  },
  {
   "cell_type": "code",
   "execution_count": 11,
   "metadata": {},
   "outputs": [],
   "source": [
    "import cppimport"
   ]
  },
  {
   "cell_type": "code",
   "execution_count": 12,
   "metadata": {},
   "outputs": [],
   "source": [
    "pi = cppimport.imp(\"pi\")"
   ]
  },
  {
   "cell_type": "code",
   "execution_count": 13,
   "metadata": {},
   "outputs": [
    {
     "name": "stdout",
     "output_type": "stream",
     "text": [
      "4.37 ms ± 60.5 µs per loop (mean ± std. dev. of 7 runs, 100 loops each)\n"
     ]
    }
   ],
   "source": [
    "%timeit pi.compute_pi(1000000)"
   ]
  },
  {
   "cell_type": "code",
   "execution_count": 5,
   "metadata": {},
   "outputs": [
    {
     "name": "stdout",
     "output_type": "stream",
     "text": [
      "Overwriting openmp_pi.cpp\n"
     ]
    }
   ],
   "source": [
    "%%writefile openmp_pi.cpp\n",
    "/*\n",
    "<%\n",
    "setup_pybind11(cfg)\n",
    "cfg['compiler_args'] = ['-fopenmp']\n",
    "cfg['linker_args'] = ['-fopenmp']\n",
    "%>\n",
    "*/\n",
    "#include <pybind11/pybind11.h>\n",
    "#include <omp.h>\n",
    "\n",
    "namespace py = pybind11;\n",
    "\n",
    "double compute_pi(int n) {\n",
    "    \n",
    "    double step = 1.0/n;\n",
    "    double pi = 0;\n",
    "    \n",
    "    omp_set_num_threads(2);\n",
    "    #pragma omp parallel\n",
    "    {\n",
    "        double x;\n",
    "        #pragma omp for reduction(+:pi)\n",
    "        for(int i = 0 ; i < n ; i++){\n",
    "            x = (i + 0.5) * step;\n",
    "            pi += 4.0 / (1 + x*x);\n",
    "        }\n",
    "    }\n",
    "    \n",
    "    pi *= step;\n",
    "    return pi;\n",
    "}\n",
    "\n",
    "\n",
    "PYBIND11_MODULE(openmp_pi, m) {\n",
    "    m.def(\"compute_pi\", &compute_pi);\n",
    "}"
   ]
  },
  {
   "cell_type": "code",
   "execution_count": 6,
   "metadata": {},
   "outputs": [],
   "source": [
    "# m.def(\"compute_pi\", &compute_pi, py::call_guard<py::gil_scoped_release>() )?"
   ]
  },
  {
   "cell_type": "code",
   "execution_count": 1,
   "metadata": {},
   "outputs": [],
   "source": [
    "import cppimport"
   ]
  },
  {
   "cell_type": "code",
   "execution_count": 2,
   "metadata": {},
   "outputs": [],
   "source": [
    "# cppimport.force_rebuild()\n",
    "openmp_pi = cppimport.imp(\"openmp_pi\")"
   ]
  },
  {
   "cell_type": "code",
   "execution_count": 3,
   "metadata": {},
   "outputs": [
    {
     "data": {
      "text/plain": [
       "3.1424259850010987"
      ]
     },
     "execution_count": 3,
     "metadata": {},
     "output_type": "execute_result"
    }
   ],
   "source": [
    "openmp_pi.compute_pi(10)"
   ]
  },
  {
   "cell_type": "code",
   "execution_count": 4,
   "metadata": {},
   "outputs": [
    {
     "name": "stdout",
     "output_type": "stream",
     "text": [
      "2.35 ms ± 3.95 µs per loop (mean ± std. dev. of 7 runs, 100 loops each)\n"
     ]
    }
   ],
   "source": [
    "%timeit openmp_pi.compute_pi(1000000)"
   ]
  },
  {
   "cell_type": "code",
   "execution_count": 21,
   "metadata": {},
   "outputs": [
    {
     "name": "stdout",
     "output_type": "stream",
     "text": [
      "Overwriting takietam.cpp\n"
     ]
    }
   ],
   "source": [
    "%%writefile takietam.cpp\n",
    "/*\n",
    "<%\n",
    "setup_pybind11(cfg)\n",
    "%>\n",
    "*/\n",
    "#include <pybind11/pybind11.h>\n",
    "#include <pybind11/numpy.h>\n",
    "namespace py = pybind11;\n",
    "\n",
    "void sayhi() {\n",
    "    py::print(\"hi!\");\n",
    "}\n",
    "        \n",
    "PYBIND11_MODULE(takietam, module) {\n",
    "    module.def(\"sayhi\", &sayhi);\n",
    "}"
   ]
  },
  {
   "cell_type": "code",
   "execution_count": 1,
   "metadata": {},
   "outputs": [],
   "source": [
    "import cppimport"
   ]
  },
  {
   "cell_type": "code",
   "execution_count": 2,
   "metadata": {},
   "outputs": [],
   "source": [
    "cppimport.set_quiet(True)"
   ]
  },
  {
   "cell_type": "code",
   "execution_count": 3,
   "metadata": {},
   "outputs": [],
   "source": [
    "takietam = cppimport.imp(\"takietam\")"
   ]
  },
  {
   "cell_type": "code",
   "execution_count": 4,
   "metadata": {},
   "outputs": [
    {
     "name": "stdout",
     "output_type": "stream",
     "text": [
      "hi!\n"
     ]
    }
   ],
   "source": [
    "takietam.sayhi()"
   ]
  },
  {
   "cell_type": "code",
   "execution_count": 1,
   "metadata": {},
   "outputs": [
    {
     "name": "stdout",
     "output_type": "stream",
     "text": [
      "Overwriting np1.cpp\n"
     ]
    }
   ],
   "source": [
    "%%writefile np1.cpp\n",
    "/*\n",
    "<%\n",
    "setup_pybind11(cfg)\n",
    "%>\n",
    "*/\n",
    "#include <pybind11/pybind11.h>\n",
    "#include <pybind11/numpy.h>\n",
    "namespace py = pybind11;\n",
    "\n",
    "void print_info(py::array_t<int> input1) {\n",
    "    py::buffer_info buf1 = input1.request();\n",
    "    py::print(\"ptr:\", buf1.ptr);\n",
    "    py::print(\"itemsize:\", buf1.itemsize);\n",
    "    py::print(\"format:\", buf1.format);\n",
    "    py::print(\"ndim:\", buf1.ndim);\n",
    "    for (int i = 0; i < buf1.shape.size(); i++) {\n",
    "      py::print(i, \"shape:\", buf1.shape[i]);\n",
    "    }\n",
    "    for (int i = 0; i < buf1.strides.size(); i++) {\n",
    "      py::print(i, \"stride:\", buf1.strides[i]);\n",
    "    }\n",
    "    \n",
    "    int *ptr = (int *) buf1.ptr;\n",
    "    int element_count = 1;\n",
    "    for (auto r: buf1.shape) {\n",
    "      element_count *= r;\n",
    "    }\n",
    "    for (int i = 0; i < element_count; i++) {\n",
    "        py::print(i, \"element:\", *ptr++);\n",
    "    }\n",
    "\n",
    "}\n",
    "        \n",
    "PYBIND11_MODULE(np1, module) {\n",
    "    module.def(\"print_info\", &print_info);\n",
    "}"
   ]
  },
  {
   "cell_type": "code",
   "execution_count": 2,
   "metadata": {},
   "outputs": [],
   "source": [
    "import cppimport\n",
    "np1 = cppimport.imp(\"np1\")\n",
    "import numpy as np"
   ]
  },
  {
   "cell_type": "code",
   "execution_count": 4,
   "metadata": {},
   "outputs": [
    {
     "name": "stdout",
     "output_type": "stream",
     "text": [
      "ptr: <capsule object NULL at 0x7fc2a80dafc0>\n",
      "itemsize: 4\n",
      "format: i\n",
      "ndim: 2\n",
      "0 shape: 2\n",
      "1 shape: 3\n",
      "0 stride: 12\n",
      "1 stride: 4\n",
      "0 element: 11\n",
      "1 element: 12\n",
      "2 element: 13\n",
      "3 element: 14\n",
      "4 element: 15\n",
      "5 element: 16\n"
     ]
    }
   ],
   "source": [
    "np1.print_info([[11,12,13],[14,15,16]])"
   ]
  },
  {
   "cell_type": "code",
   "execution_count": 9,
   "metadata": {},
   "outputs": [
    {
     "name": "stdout",
     "output_type": "stream",
     "text": [
      "Overwriting np2.cpp\n"
     ]
    }
   ],
   "source": [
    "%%writefile np2.cpp\n",
    "/*\n",
    "<%\n",
    "setup_pybind11(cfg)\n",
    "%>\n",
    "*/\n",
    "#include <pybind11/pybind11.h>\n",
    "#include <pybind11/numpy.h>\n",
    "namespace py = pybind11;\n",
    "\n",
    "void double_elems(py::array_t<int> input) {\n",
    "    \n",
    "    py::buffer_info buf = input.request();\n",
    "    int *ptr = (int *) buf.ptr;\n",
    "    \n",
    "    int element_count = 1;\n",
    "    for (auto r: buf.shape) {\n",
    "      element_count *= r;\n",
    "    }\n",
    "    for (int i = 0; i < element_count; i++) {\n",
    "        *ptr++ *= 2;\n",
    "    }\n",
    "}\n",
    "        \n",
    "PYBIND11_MODULE(np2, module) {\n",
    "    module.def(\"double_elems\", &double_elems);\n",
    "}"
   ]
  },
  {
   "cell_type": "code",
   "execution_count": 1,
   "metadata": {},
   "outputs": [],
   "source": [
    "import cppimport\n",
    "np2 = cppimport.imp(\"np2\")\n",
    "import numpy as np"
   ]
  },
  {
   "cell_type": "code",
   "execution_count": 2,
   "metadata": {},
   "outputs": [],
   "source": [
    "my_array = np.array([[11,12,13],[14,15,16]], dtype='int32') # dtype!!!\n",
    "np2.double_elems(my_array)"
   ]
  },
  {
   "cell_type": "code",
   "execution_count": 3,
   "metadata": {},
   "outputs": [
    {
     "data": {
      "text/plain": [
       "array([[22, 24, 26],\n",
       "       [28, 30, 32]], dtype=int32)"
      ]
     },
     "execution_count": 3,
     "metadata": {},
     "output_type": "execute_result"
    }
   ],
   "source": [
    "my_array"
   ]
  },
  {
   "cell_type": "code",
   "execution_count": 4,
   "metadata": {},
   "outputs": [
    {
     "name": "stdout",
     "output_type": "stream",
     "text": [
      "Overwriting np3.cpp\n"
     ]
    }
   ],
   "source": [
    "%%writefile np3.cpp\n",
    "/*\n",
    "<%\n",
    "setup_pybind11(cfg)\n",
    "cfg['compiler_args'] = ['-fopenmp']\n",
    "cfg['linker_args'] = ['-fopenmp']\n",
    "%>\n",
    "*/\n",
    "#include <pybind11/pybind11.h>\n",
    "// #include <pybind11/numpy.h>\n",
    "#include <omp.h>\n",
    "\n",
    "#define NUM_THREADS 2\n",
    "namespace py = pybind11;\n",
    "\n",
    "double compute_pi(int n) {\n",
    "    \n",
    "    double step = 1.0 / n;\n",
    "    double pi_parts[NUM_THREADS];\n",
    "    omp_set_num_threads(NUM_THREADS);\n",
    "    \n",
    "    int nthreads;\n",
    "    \n",
    "    #pragma omp parallel\n",
    "    {\n",
    "        int id = omp_get_thread_num();\n",
    "        pi_parts[id] = 0.0;\n",
    "        int nthrds = omp_get_num_threads();\n",
    "        if (id == 0) nthreads = nthrds;\n",
    "        double x;\n",
    "        for (int i=id; i<n; i=i+nthrds) {\n",
    "            x = (i + 0.5) * step;\n",
    "            pi_parts[id] += 4.0 / (1.0 + x*x);\n",
    "        }\n",
    "    }\n",
    "    \n",
    "    double pi = 0.0;\n",
    "    for (int i=0; i<nthreads; i++){\n",
    "        pi += pi_parts[i] * step;\n",
    "    }\n",
    "    return pi;\n",
    "}\n",
    "\n",
    "\n",
    "PYBIND11_MODULE(np3, m) {\n",
    "    m.def(\"compute_pi\", &compute_pi);\n",
    "}"
   ]
  },
  {
   "cell_type": "code",
   "execution_count": 5,
   "metadata": {},
   "outputs": [],
   "source": [
    "import cppimport\n",
    "np3 = cppimport.imp(\"np3\")\n",
    "import numpy as np"
   ]
  },
  {
   "cell_type": "code",
   "execution_count": 6,
   "metadata": {},
   "outputs": [
    {
     "data": {
      "text/plain": [
       "3.141592654423132"
      ]
     },
     "execution_count": 6,
     "metadata": {},
     "output_type": "execute_result"
    }
   ],
   "source": [
    "np3.compute_pi(10000)"
   ]
  },
  {
   "cell_type": "code",
   "execution_count": 6,
   "metadata": {},
   "outputs": [
    {
     "name": "stdout",
     "output_type": "stream",
     "text": [
      "Overwriting np3.cpp\n"
     ]
    }
   ],
   "source": [
    "%%writefile np3.cpp\n",
    "/*\n",
    "<%\n",
    "setup_pybind11(cfg)\n",
    "cfg['compiler_args'] = ['-fopenmp']\n",
    "cfg['linker_args'] = ['-fopenmp']\n",
    "%>\n",
    "*/\n",
    "#include <omp.h>\n",
    "#include <pybind11/pybind11.h>\n",
    "#include <pybind11/numpy.h>\n",
    "\n",
    "#define NUM_THREADS 2\n",
    "namespace py = pybind11;\n",
    "\n",
    "void double_elems(py::array_t<int> input){\n",
    "     \n",
    "    py::buffer_info buf = input.request();\n",
    "    int *ptr = (int *) buf.ptr;\n",
    "    \n",
    "    int element_count = 1;\n",
    "    for (auto r: buf.shape) {\n",
    "      element_count *= r;\n",
    "    }\n",
    "    \n",
    "    omp_set_num_threads(NUM_THREADS);\n",
    "    #pragma omp parallel\n",
    "    {\n",
    "        int id = omp_get_thread_num();\n",
    "        int nthrds = omp_get_num_threads();\n",
    "        for (int i = id; i < element_count; i += nthrds) {\n",
    "            ptr[i] *= 2;\n",
    "        }\n",
    "    }\n",
    "     \n",
    "}\n",
    "        \n",
    "PYBIND11_MODULE(np3, module) {\n",
    "    module.def(\"double_elems\", &double_elems);\n",
    "}"
   ]
  },
  {
   "cell_type": "code",
   "execution_count": 1,
   "metadata": {},
   "outputs": [],
   "source": [
    "import cppimport\n",
    "np3 = cppimport.imp(\"np3\")\n",
    "import numpy as np"
   ]
  },
  {
   "cell_type": "code",
   "execution_count": 3,
   "metadata": {},
   "outputs": [],
   "source": [
    "my_array = np.array(range(100), dtype = 'int32')\n",
    "np3.double_elems(my_array)"
   ]
  },
  {
   "cell_type": "code",
   "execution_count": 4,
   "metadata": {},
   "outputs": [
    {
     "data": {
      "text/plain": [
       "array([  0,   2,   4,   6,   8,  10,  12,  14,  16,  18,  20,  22,  24,\n",
       "        26,  28,  30,  32,  34,  36,  38,  40,  42,  44,  46,  48,  50,\n",
       "        52,  54,  56,  58,  60,  62,  64,  66,  68,  70,  72,  74,  76,\n",
       "        78,  80,  82,  84,  86,  88,  90,  92,  94,  96,  98, 100, 102,\n",
       "       104, 106, 108, 110, 112, 114, 116, 118, 120, 122, 124, 126, 128,\n",
       "       130, 132, 134, 136, 138, 140, 142, 144, 146, 148, 150, 152, 154,\n",
       "       156, 158, 160, 162, 164, 166, 168, 170, 172, 174, 176, 178, 180,\n",
       "       182, 184, 186, 188, 190, 192, 194, 196, 198], dtype=int32)"
      ]
     },
     "execution_count": 4,
     "metadata": {},
     "output_type": "execute_result"
    }
   ],
   "source": [
    "my_array"
   ]
  },
  {
   "cell_type": "code",
   "execution_count": 8,
   "metadata": {},
   "outputs": [
    {
     "name": "stdout",
     "output_type": "stream",
     "text": [
      "Overwriting np4.cpp\n"
     ]
    }
   ],
   "source": [
    "%%writefile np4.cpp\n",
    "/*\n",
    "<%\n",
    "setup_pybind11(cfg)\n",
    "cfg['compiler_args'] = ['-fopenmp']\n",
    "cfg['linker_args'] = ['-fopenmp']\n",
    "%>\n",
    "*/\n",
    "#include <omp.h>\n",
    "#include <pybind11/pybind11.h>\n",
    "#include <pybind11/numpy.h>\n",
    "\n",
    "#define NUM_THREADS 2\n",
    "namespace py = pybind11;\n",
    "\n",
    "void double_elems(py::array_t<int> input){\n",
    "     \n",
    "    py::buffer_info buf = input.request();\n",
    "    int *ptr = (int *) buf.ptr;\n",
    "    \n",
    "    int element_count = 1;\n",
    "    for (auto r: buf.shape) {\n",
    "      element_count *= r;\n",
    "    }\n",
    "    \n",
    "    omp_set_num_threads(NUM_THREADS);\n",
    "    #pragma omp parallel for schedule(static, 1)\n",
    "    for (int i = 0; i < element_count; i++) {\n",
    "        ptr[i] *= 2;\n",
    "    }\n",
    "     \n",
    "}\n",
    "        \n",
    "PYBIND11_MODULE(np4, module) {\n",
    "    module.def(\"double_elems\", &double_elems);\n",
    "}"
   ]
  },
  {
   "cell_type": "code",
   "execution_count": 9,
   "metadata": {},
   "outputs": [],
   "source": [
    "import cppimport\n",
    "np4 = cppimport.imp(\"np4\")\n",
    "import numpy as np"
   ]
  },
  {
   "cell_type": "code",
   "execution_count": 10,
   "metadata": {},
   "outputs": [
    {
     "data": {
      "text/plain": [
       "array([ 0,  2,  4,  6,  8, 10, 12, 14, 16, 18], dtype=int32)"
      ]
     },
     "execution_count": 10,
     "metadata": {},
     "output_type": "execute_result"
    }
   ],
   "source": [
    "my_array = np.array(range(10), dtype = 'int32')\n",
    "np3.double_elems(my_array)\n",
    "my_array"
   ]
  },
  {
   "cell_type": "code",
   "execution_count": null,
   "metadata": {},
   "outputs": [],
   "source": [
    "%%writefile np5.cpp\n",
    "/*\n",
    "<%\n",
    "setup_pybind11(cfg)\n",
    "cfg['compiler_args'] = ['-fopenmp']\n",
    "cfg['linker_args'] = ['-fopenmp']\n",
    "%>\n",
    "*/\n",
    "#include <cmath>\n",
    "#include <omp.h>\n",
    "#include <pybind11/pybind11.h>\n",
    "#include <pybind11/numpy.h>\n",
    "\n",
    "#define NUM_THREADS 2\n",
    "namespace py = pybind11;\n",
    "\n",
    "int contingency(const int divisions, const int N, py::array_t<int> input1, py::array_t<int> input2){\n",
    "    \n",
    "    double l = std::log(3);\n",
    "    py::print(l);\n",
    "    \n",
    "    int contingency_m[divisions][divisions] = {};\n",
    "    \n",
    "    for (int i = 0; i < divisions; i++)\n",
    "        for (int j = 0; j < divisions; j++)\n",
    "            py::print(contingency_m[i][j]);\n",
    "\n",
    "    \n",
    "    py::buffer_info buf1 = input1.request();\n",
    "    py::buffer_info buf2 = input2.request();\n",
    "    int *ptr1 = (int *) buf1.ptr;\n",
    "    int *ptr2 = (int *) buf2.ptr;\n",
    "    \n",
    "    \n",
    "    omp_set_num_threads(NUM_THREADS);\n",
    "    \n",
    "    int prod = 0;\n",
    "    \n",
    "    #pragma omp parallel for reduction(+:prod)\n",
    "    for (int i = 0; i < N; i++) {\n",
    "        prod += ptr1[i] * ptr2[i];\n",
    "    }\n",
    "    \n",
    "    return prod;\n",
    "}\n",
    "        \n",
    "PYBIND11_MODULE(np5, module) {\n",
    "    module.def(\"contingency\", &contingency);\n",
    "}"
   ]
  },
  {
   "cell_type": "code",
   "execution_count": 1,
   "metadata": {},
   "outputs": [
    {
     "name": "stdout",
     "output_type": "stream",
     "text": [
      "Overwriting np6.cpp\n"
     ]
    }
   ],
   "source": [
    "%%writefile np6.cpp\n",
    "/*\n",
    "<%\n",
    "setup_pybind11(cfg)\n",
    "cfg['compiler_args'] = ['-fopenmp']\n",
    "cfg['linker_args'] = ['-fopenmp']\n",
    "%>\n",
    "*/\n",
    "#include <omp.h>\n",
    "#include <pybind11/pybind11.h>\n",
    "#include <pybind11/numpy.h>\n",
    "\n",
    "#define NUM_THREADS 2\n",
    "namespace py = pybind11;\n",
    "\n",
    "int scalar_prod(py::array_t<int> input1, py::array_t<int> input2){\n",
    "    \n",
    "    py::buffer_info buf1 = input1.request();\n",
    "    py::buffer_info buf2 = input2.request();\n",
    "    int *ptr1 = (int *) buf1.ptr;\n",
    "    int *ptr2 = (int *) buf2.ptr;\n",
    "    \n",
    "    int element_count = 1;\n",
    "    for (auto r: buf1.shape) {\n",
    "      element_count *= r;\n",
    "    }\n",
    "    \n",
    "    omp_set_num_threads(NUM_THREADS);\n",
    "    \n",
    "    int prod = 0;\n",
    "    \n",
    "    #pragma omp parallel\n",
    "    {\n",
    "        #pragma omp for reduction(+:prod)\n",
    "        for (int i = 0; i < element_count; i++) {\n",
    "            prod += ptr1[i] * ptr2[i];\n",
    "        }\n",
    "    }\n",
    "    \n",
    "    return prod;\n",
    "}\n",
    "        \n",
    "PYBIND11_MODULE(np6, module) {\n",
    "    module.def(\"scalar_prod\", &scalar_prod);\n",
    "}"
   ]
  },
  {
   "cell_type": "code",
   "execution_count": 2,
   "metadata": {},
   "outputs": [],
   "source": [
    "import cppimport\n",
    "np6 = cppimport.imp(\"np6\")\n",
    "import numpy as np"
   ]
  },
  {
   "cell_type": "code",
   "execution_count": 3,
   "metadata": {},
   "outputs": [],
   "source": [
    "N = 1000\n",
    "my_array1 = np.ones(N, dtype='int32') * 7\n",
    "my_array2 = np.ones(N, dtype='int32') * 5"
   ]
  },
  {
   "cell_type": "code",
   "execution_count": 10,
   "metadata": {},
   "outputs": [
    {
     "name": "stdout",
     "output_type": "stream",
     "text": [
      "5.51 µs ± 85.4 ns per loop (mean ± std. dev. of 7 runs, 100000 loops each)\n"
     ]
    }
   ],
   "source": [
    "%%timeit\n",
    "np.sum(my_array1 * my_array2)"
   ]
  },
  {
   "cell_type": "code",
   "execution_count": 11,
   "metadata": {},
   "outputs": [
    {
     "name": "stdout",
     "output_type": "stream",
     "text": [
      "2.78 µs ± 117 ns per loop (mean ± std. dev. of 7 runs, 100000 loops each)\n"
     ]
    }
   ],
   "source": [
    "%%timeit\n",
    "np6.scalar_prod(my_array1, my_array2) # NUM_THREADS 1"
   ]
  },
  {
   "cell_type": "code",
   "execution_count": 5,
   "metadata": {},
   "outputs": [
    {
     "name": "stdout",
     "output_type": "stream",
     "text": [
      "3.17 µs ± 101 ns per loop (mean ± std. dev. of 7 runs, 100000 loops each)\n"
     ]
    }
   ],
   "source": [
    "%%timeit\n",
    "np6.scalar_prod(my_array1, my_array2) # NUM_THREADS 2"
   ]
  },
  {
   "cell_type": "code",
   "execution_count": null,
   "metadata": {},
   "outputs": [],
   "source": [
    "%%writefile mpi4py_openmp.py\n",
    "import numpy as np\n",
    "np.random.seed(123)\n",
    "\n",
    "from mpi4py import MPI\n",
    "comm = MPI.COMM_WORLD\n",
    "comm.Barrier()\n",
    "time0 = MPI.Wtime()\n",
    "size = comm.Get_size()\n",
    "rank = comm.Get_rank()"
   ]
  }
 ],
 "metadata": {
  "kernelspec": {
   "display_name": "Python 3",
   "language": "python",
   "name": "python3"
  },
  "language_info": {
   "codemirror_mode": {
    "name": "ipython",
    "version": 3
   },
   "file_extension": ".py",
   "mimetype": "text/x-python",
   "name": "python",
   "nbconvert_exporter": "python",
   "pygments_lexer": "ipython3",
   "version": "3.5.2"
  }
 },
 "nbformat": 4,
 "nbformat_minor": 2
}
