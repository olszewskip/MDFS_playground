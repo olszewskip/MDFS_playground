{
 "cells": [
  {
   "cell_type": "code",
   "execution_count": 6,
   "metadata": {},
   "outputs": [
    {
     "name": "stdout",
     "output_type": "stream",
     "text": [
      "Overwriting funcs.hpp\n"
     ]
    }
   ],
   "source": [
    "%%writefile funcs.hpp\n",
    "\n",
    "int add(int i, int j);"
   ]
  },
  {
   "cell_type": "code",
   "execution_count": 7,
   "metadata": {},
   "outputs": [
    {
     "name": "stdout",
     "output_type": "stream",
     "text": [
      "Overwriting funcs.cpp\n"
     ]
    }
   ],
   "source": [
    "%%writefile funcs.cpp\n",
    "\n",
    "int add(int i, int j) {\n",
    "    return i + j;\n",
    "};"
   ]
  },
  {
   "cell_type": "code",
   "execution_count": 8,
   "metadata": {},
   "outputs": [
    {
     "name": "stdout",
     "output_type": "stream",
     "text": [
      "Overwriting wrap1.cpp\n"
     ]
    }
   ],
   "source": [
    "%%writefile wrap1.cpp\n",
    "#include <pybind11/pybind11.h>\n",
    "#include \"funcs.hpp\"\n",
    "\n",
    "namespace py = pybind11;\n",
    "using namespace pybind11::literals;\n",
    "\n",
    "PYBIND11_MODULE(example, m) {\n",
    "    m.doc() = \"pybind11 example plugin\"; // optional module docstring\n",
    "\n",
    "    m.def(\"add\", &add, \"A function which adds two numbers\",\n",
    "          \"i\"_a, \"j\"_a=2);\n",
    "}"
   ]
  },
  {
   "cell_type": "code",
   "execution_count": 35,
   "metadata": {},
   "outputs": [],
   "source": [
    "%%bash\n",
    "c++ -O3 -Wall -shared -std=c++11 -fPIC `python3 -m pybind11 --includes` wrap1.cpp -o wrap1`python3-config --extension-suffix`"
   ]
  },
  {
   "cell_type": "code",
   "execution_count": 36,
   "metadata": {},
   "outputs": [],
   "source": [
    "import wrap1"
   ]
  },
  {
   "cell_type": "code",
   "execution_count": 37,
   "metadata": {},
   "outputs": [
    {
     "data": {
      "text/plain": [
       "4"
      ]
     },
     "execution_count": 37,
     "metadata": {},
     "output_type": "execute_result"
    }
   ],
   "source": [
    "wrap1.add(i=2)"
   ]
  },
  {
   "cell_type": "code",
   "execution_count": 33,
   "metadata": {},
   "outputs": [
    {
     "name": "stdout",
     "output_type": "stream",
     "text": [
      "Help on module wrap1:\n",
      "\n",
      "NAME\n",
      "    wrap1 - pybind11 example plugin\n",
      "\n",
      "FUNCTIONS\n",
      "    add(...) method of builtins.PyCapsule instance\n",
      "        add(i: int=1, j: int=2) -> int\n",
      "        \n",
      "        A function which adds two numbers\n",
      "\n",
      "FILE\n",
      "    /home/olszewskip/Desktop/git-repos/MDFS_playground/python/scheduler/example1/wrap1.cpython-35m-x86_64-linux-gnu.so\n",
      "\n",
      "\n"
     ]
    }
   ],
   "source": [
    "help(wrap1)"
   ]
  },
  {
   "cell_type": "markdown",
   "metadata": {},
   "source": [
    "---\n",
    "07.02"
   ]
  },
  {
   "cell_type": "code",
   "execution_count": 10,
   "metadata": {},
   "outputs": [
    {
     "name": "stdout",
     "output_type": "stream",
     "text": [
      "Overwriting pi.cpp\n"
     ]
    }
   ],
   "source": [
    "%%writefile pi.cpp\n",
    "/*\n",
    "<%\n",
    "setup_pybind11(cfg)\n",
    "%>\n",
    "*/\n",
    "#include <pybind11/pybind11.h>\n",
    "\n",
    "namespace py = pybind11;\n",
    "\n",
    "double compute_pi(int n) {\n",
    "    \n",
    "    double step = 1.0/n;\n",
    "    double pi = 0;\n",
    "\n",
    "    double x;\n",
    "    for(int i = 0 ; i < n ; i++){\n",
    "        x = (i + 0.5) * step;\n",
    "        pi += 4.0 / (1 + x*x);\n",
    "    }\n",
    "    \n",
    "    pi *= step;\n",
    "    return pi;\n",
    "}\n",
    "\n",
    "\n",
    "PYBIND11_MODULE(pi, m) {\n",
    "    m.def(\"compute_pi\", &compute_pi);\n",
    "}"
   ]
  },
  {
   "cell_type": "code",
   "execution_count": 11,
   "metadata": {},
   "outputs": [],
   "source": [
    "import cppimport"
   ]
  },
  {
   "cell_type": "code",
   "execution_count": 12,
   "metadata": {},
   "outputs": [],
   "source": [
    "pi = cppimport.imp(\"pi\")"
   ]
  },
  {
   "cell_type": "code",
   "execution_count": 13,
   "metadata": {},
   "outputs": [
    {
     "name": "stdout",
     "output_type": "stream",
     "text": [
      "4.37 ms ± 60.5 µs per loop (mean ± std. dev. of 7 runs, 100 loops each)\n"
     ]
    }
   ],
   "source": [
    "%timeit pi.compute_pi(1000000)"
   ]
  },
  {
   "cell_type": "code",
   "execution_count": 5,
   "metadata": {},
   "outputs": [
    {
     "name": "stdout",
     "output_type": "stream",
     "text": [
      "Overwriting openmp_pi.cpp\n"
     ]
    }
   ],
   "source": [
    "%%writefile openmp_pi.cpp\n",
    "/*\n",
    "<%\n",
    "setup_pybind11(cfg)\n",
    "cfg['compiler_args'] = ['-fopenmp']\n",
    "cfg['linker_args'] = ['-fopenmp']\n",
    "%>\n",
    "*/\n",
    "#include <pybind11/pybind11.h>\n",
    "#include <omp.h>\n",
    "\n",
    "namespace py = pybind11;\n",
    "\n",
    "double compute_pi(int n) {\n",
    "    \n",
    "    double step = 1.0/n;\n",
    "    double pi = 0;\n",
    "    \n",
    "    omp_set_num_threads(2);\n",
    "    #pragma omp parallel\n",
    "    {\n",
    "        double x;\n",
    "        #pragma omp for reduction(+:pi)\n",
    "        for(int i = 0 ; i < n ; i++){\n",
    "            x = (i + 0.5) * step;\n",
    "            pi += 4.0 / (1 + x*x);\n",
    "        }\n",
    "    }\n",
    "    \n",
    "    pi *= step;\n",
    "    return pi;\n",
    "}\n",
    "\n",
    "\n",
    "PYBIND11_MODULE(openmp_pi, m) {\n",
    "    m.def(\"compute_pi\", &compute_pi);\n",
    "}"
   ]
  },
  {
   "cell_type": "code",
   "execution_count": 6,
   "metadata": {},
   "outputs": [],
   "source": [
    "# m.def(\"compute_pi\", &compute_pi, py::call_guard<py::gil_scoped_release>() )?"
   ]
  },
  {
   "cell_type": "code",
   "execution_count": 1,
   "metadata": {},
   "outputs": [],
   "source": [
    "import cppimport"
   ]
  },
  {
   "cell_type": "code",
   "execution_count": 2,
   "metadata": {},
   "outputs": [],
   "source": [
    "# cppimport.force_rebuild()\n",
    "openmp_pi = cppimport.imp(\"openmp_pi\")"
   ]
  },
  {
   "cell_type": "code",
   "execution_count": 3,
   "metadata": {},
   "outputs": [
    {
     "data": {
      "text/plain": [
       "3.1424259850010987"
      ]
     },
     "execution_count": 3,
     "metadata": {},
     "output_type": "execute_result"
    }
   ],
   "source": [
    "openmp_pi.compute_pi(10)"
   ]
  },
  {
   "cell_type": "code",
   "execution_count": 4,
   "metadata": {},
   "outputs": [
    {
     "name": "stdout",
     "output_type": "stream",
     "text": [
      "2.35 ms ± 3.95 µs per loop (mean ± std. dev. of 7 runs, 100 loops each)\n"
     ]
    }
   ],
   "source": [
    "%timeit openmp_pi.compute_pi(1000000)"
   ]
  },
  {
   "cell_type": "code",
   "execution_count": 21,
   "metadata": {},
   "outputs": [
    {
     "name": "stdout",
     "output_type": "stream",
     "text": [
      "Overwriting takietam.cpp\n"
     ]
    }
   ],
   "source": [
    "%%writefile takietam.cpp\n",
    "/*\n",
    "<%\n",
    "setup_pybind11(cfg)\n",
    "%>\n",
    "*/\n",
    "#include <pybind11/pybind11.h>\n",
    "#include <pybind11/numpy.h>\n",
    "namespace py = pybind11;\n",
    "\n",
    "void sayhi() {\n",
    "    py::print(\"hi!\");\n",
    "}\n",
    "        \n",
    "PYBIND11_MODULE(takietam, module) {\n",
    "    module.def(\"sayhi\", &sayhi);\n",
    "}"
   ]
  },
  {
   "cell_type": "code",
   "execution_count": 1,
   "metadata": {},
   "outputs": [],
   "source": [
    "import cppimport"
   ]
  },
  {
   "cell_type": "code",
   "execution_count": 2,
   "metadata": {},
   "outputs": [],
   "source": [
    "cppimport.set_quiet(True)"
   ]
  },
  {
   "cell_type": "code",
   "execution_count": 3,
   "metadata": {},
   "outputs": [],
   "source": [
    "takietam = cppimport.imp(\"takietam\")"
   ]
  },
  {
   "cell_type": "code",
   "execution_count": 4,
   "metadata": {},
   "outputs": [
    {
     "name": "stdout",
     "output_type": "stream",
     "text": [
      "hi!\n"
     ]
    }
   ],
   "source": [
    "takietam.sayhi()"
   ]
  },
  {
   "cell_type": "code",
   "execution_count": 1,
   "metadata": {},
   "outputs": [
    {
     "name": "stdout",
     "output_type": "stream",
     "text": [
      "Overwriting np1.cpp\n"
     ]
    }
   ],
   "source": [
    "%%writefile np1.cpp\n",
    "/*\n",
    "<%\n",
    "setup_pybind11(cfg)\n",
    "%>\n",
    "*/\n",
    "#include <pybind11/pybind11.h>\n",
    "#include <pybind11/numpy.h>\n",
    "namespace py = pybind11;\n",
    "\n",
    "void print_info(py::array_t<int> input1) {\n",
    "    py::buffer_info buf1 = input1.request();\n",
    "    py::print(\"ptr:\", buf1.ptr);\n",
    "    py::print(\"itemsize:\", buf1.itemsize);\n",
    "    py::print(\"format:\", buf1.format);\n",
    "    py::print(\"ndim:\", buf1.ndim);\n",
    "    for (int i = 0; i < buf1.shape.size(); i++) {\n",
    "      py::print(i, \"shape:\", buf1.shape[i]);\n",
    "    }\n",
    "    for (int i = 0; i < buf1.strides.size(); i++) {\n",
    "      py::print(i, \"stride:\", buf1.strides[i]);\n",
    "    }\n",
    "    \n",
    "    int *ptr = (int *) buf1.ptr;\n",
    "    int element_count = 1;\n",
    "    for (auto r: buf1.shape) {\n",
    "      element_count *= r;\n",
    "    }\n",
    "    for (int i = 0; i < element_count; i++) {\n",
    "        py::print(i, \"element:\", *ptr++);\n",
    "    }\n",
    "\n",
    "}\n",
    "        \n",
    "PYBIND11_MODULE(np1, module) {\n",
    "    module.def(\"print_info\", &print_info);\n",
    "}"
   ]
  },
  {
   "cell_type": "code",
   "execution_count": 2,
   "metadata": {},
   "outputs": [],
   "source": [
    "import cppimport\n",
    "np1 = cppimport.imp(\"np1\")\n",
    "import numpy as np"
   ]
  },
  {
   "cell_type": "code",
   "execution_count": 4,
   "metadata": {},
   "outputs": [
    {
     "name": "stdout",
     "output_type": "stream",
     "text": [
      "ptr: <capsule object NULL at 0x7fc2a80dafc0>\n",
      "itemsize: 4\n",
      "format: i\n",
      "ndim: 2\n",
      "0 shape: 2\n",
      "1 shape: 3\n",
      "0 stride: 12\n",
      "1 stride: 4\n",
      "0 element: 11\n",
      "1 element: 12\n",
      "2 element: 13\n",
      "3 element: 14\n",
      "4 element: 15\n",
      "5 element: 16\n"
     ]
    }
   ],
   "source": [
    "np1.print_info([[11,12,13],[14,15,16]])"
   ]
  },
  {
   "cell_type": "code",
   "execution_count": 9,
   "metadata": {},
   "outputs": [
    {
     "name": "stdout",
     "output_type": "stream",
     "text": [
      "Overwriting np2.cpp\n"
     ]
    }
   ],
   "source": [
    "%%writefile np2.cpp\n",
    "/*\n",
    "<%\n",
    "setup_pybind11(cfg)\n",
    "%>\n",
    "*/\n",
    "#include <pybind11/pybind11.h>\n",
    "#include <pybind11/numpy.h>\n",
    "namespace py = pybind11;\n",
    "\n",
    "void double_elems(py::array_t<int> input) {\n",
    "    \n",
    "    py::buffer_info buf = input.request();\n",
    "    int *ptr = (int *) buf.ptr;\n",
    "    \n",
    "    int element_count = 1;\n",
    "    for (auto r: buf.shape) {\n",
    "      element_count *= r;\n",
    "    }\n",
    "    for (int i = 0; i < element_count; i++) {\n",
    "        *ptr++ *= 2;\n",
    "    }\n",
    "}\n",
    "        \n",
    "PYBIND11_MODULE(np2, module) {\n",
    "    module.def(\"double_elems\", &double_elems);\n",
    "}"
   ]
  },
  {
   "cell_type": "code",
   "execution_count": 1,
   "metadata": {},
   "outputs": [],
   "source": [
    "import cppimport\n",
    "np2 = cppimport.imp(\"np2\")\n",
    "import numpy as np"
   ]
  },
  {
   "cell_type": "code",
   "execution_count": 2,
   "metadata": {},
   "outputs": [],
   "source": [
    "my_array = np.array([[11,12,13],[14,15,16]], dtype='int32') # dtype!!!\n",
    "np2.double_elems(my_array)"
   ]
  },
  {
   "cell_type": "code",
   "execution_count": 3,
   "metadata": {},
   "outputs": [
    {
     "data": {
      "text/plain": [
       "array([[22, 24, 26],\n",
       "       [28, 30, 32]], dtype=int32)"
      ]
     },
     "execution_count": 3,
     "metadata": {},
     "output_type": "execute_result"
    }
   ],
   "source": [
    "my_array"
   ]
  },
  {
   "cell_type": "code",
   "execution_count": 4,
   "metadata": {},
   "outputs": [
    {
     "name": "stdout",
     "output_type": "stream",
     "text": [
      "Overwriting np3.cpp\n"
     ]
    }
   ],
   "source": [
    "%%writefile np3.cpp\n",
    "/*\n",
    "<%\n",
    "setup_pybind11(cfg)\n",
    "cfg['compiler_args'] = ['-fopenmp']\n",
    "cfg['linker_args'] = ['-fopenmp']\n",
    "%>\n",
    "*/\n",
    "#include <pybind11/pybind11.h>\n",
    "// #include <pybind11/numpy.h>\n",
    "#include <omp.h>\n",
    "\n",
    "#define NUM_THREADS 2\n",
    "namespace py = pybind11;\n",
    "\n",
    "double compute_pi(int n) {\n",
    "    \n",
    "    double step = 1.0 / n;\n",
    "    double pi_parts[NUM_THREADS];\n",
    "    omp_set_num_threads(NUM_THREADS);\n",
    "    \n",
    "    int nthreads;\n",
    "    \n",
    "    #pragma omp parallel\n",
    "    {\n",
    "        int id = omp_get_thread_num();\n",
    "        pi_parts[id] = 0.0;\n",
    "        int nthrds = omp_get_num_threads();\n",
    "        if (id == 0) nthreads = nthrds;\n",
    "        double x;\n",
    "        for (int i=id; i<n; i=i+nthrds) {\n",
    "            x = (i + 0.5) * step;\n",
    "            pi_parts[id] += 4.0 / (1.0 + x*x);\n",
    "        }\n",
    "    }\n",
    "    \n",
    "    double pi = 0.0;\n",
    "    for (int i=0; i<nthreads; i++){\n",
    "        pi += pi_parts[i] * step;\n",
    "    }\n",
    "    return pi;\n",
    "}\n",
    "\n",
    "\n",
    "PYBIND11_MODULE(np3, m) {\n",
    "    m.def(\"compute_pi\", &compute_pi);\n",
    "}"
   ]
  },
  {
   "cell_type": "code",
   "execution_count": 5,
   "metadata": {},
   "outputs": [],
   "source": [
    "import cppimport\n",
    "np3 = cppimport.imp(\"np3\")\n",
    "import numpy as np"
   ]
  },
  {
   "cell_type": "code",
   "execution_count": 6,
   "metadata": {},
   "outputs": [
    {
     "data": {
      "text/plain": [
       "3.141592654423132"
      ]
     },
     "execution_count": 6,
     "metadata": {},
     "output_type": "execute_result"
    }
   ],
   "source": [
    "np3.compute_pi(10000)"
   ]
  },
  {
   "cell_type": "code",
   "execution_count": 6,
   "metadata": {},
   "outputs": [
    {
     "name": "stdout",
     "output_type": "stream",
     "text": [
      "Overwriting np3.cpp\n"
     ]
    }
   ],
   "source": [
    "%%writefile np3.cpp\n",
    "/*\n",
    "<%\n",
    "setup_pybind11(cfg)\n",
    "cfg['compiler_args'] = ['-fopenmp']\n",
    "cfg['linker_args'] = ['-fopenmp']\n",
    "%>\n",
    "*/\n",
    "#include <omp.h>\n",
    "#include <pybind11/pybind11.h>\n",
    "#include <pybind11/numpy.h>\n",
    "\n",
    "#define NUM_THREADS 2\n",
    "namespace py = pybind11;\n",
    "\n",
    "void double_elems(py::array_t<int> input){\n",
    "     \n",
    "    py::buffer_info buf = input.request();\n",
    "    int *ptr = (int *) buf.ptr;\n",
    "    \n",
    "    int element_count = 1;\n",
    "    for (auto r: buf.shape) {\n",
    "      element_count *= r;\n",
    "    }\n",
    "    \n",
    "    omp_set_num_threads(NUM_THREADS);\n",
    "    #pragma omp parallel\n",
    "    {\n",
    "        int id = omp_get_thread_num();\n",
    "        int nthrds = omp_get_num_threads();\n",
    "        for (int i = id; i < element_count; i += nthrds) {\n",
    "            ptr[i] *= 2;\n",
    "        }\n",
    "    }\n",
    "     \n",
    "}\n",
    "        \n",
    "PYBIND11_MODULE(np3, module) {\n",
    "    module.def(\"double_elems\", &double_elems);\n",
    "}"
   ]
  },
  {
   "cell_type": "code",
   "execution_count": 1,
   "metadata": {},
   "outputs": [],
   "source": [
    "import cppimport\n",
    "np3 = cppimport.imp(\"np3\")\n",
    "import numpy as np"
   ]
  },
  {
   "cell_type": "code",
   "execution_count": 3,
   "metadata": {},
   "outputs": [],
   "source": [
    "my_array = np.array(range(100), dtype = 'int32')\n",
    "np3.double_elems(my_array)"
   ]
  },
  {
   "cell_type": "code",
   "execution_count": 4,
   "metadata": {},
   "outputs": [
    {
     "data": {
      "text/plain": [
       "array([  0,   2,   4,   6,   8,  10,  12,  14,  16,  18,  20,  22,  24,\n",
       "        26,  28,  30,  32,  34,  36,  38,  40,  42,  44,  46,  48,  50,\n",
       "        52,  54,  56,  58,  60,  62,  64,  66,  68,  70,  72,  74,  76,\n",
       "        78,  80,  82,  84,  86,  88,  90,  92,  94,  96,  98, 100, 102,\n",
       "       104, 106, 108, 110, 112, 114, 116, 118, 120, 122, 124, 126, 128,\n",
       "       130, 132, 134, 136, 138, 140, 142, 144, 146, 148, 150, 152, 154,\n",
       "       156, 158, 160, 162, 164, 166, 168, 170, 172, 174, 176, 178, 180,\n",
       "       182, 184, 186, 188, 190, 192, 194, 196, 198], dtype=int32)"
      ]
     },
     "execution_count": 4,
     "metadata": {},
     "output_type": "execute_result"
    }
   ],
   "source": [
    "my_array"
   ]
  },
  {
   "cell_type": "code",
   "execution_count": 8,
   "metadata": {},
   "outputs": [
    {
     "name": "stdout",
     "output_type": "stream",
     "text": [
      "Overwriting np4.cpp\n"
     ]
    }
   ],
   "source": [
    "%%writefile np4.cpp\n",
    "/*\n",
    "<%\n",
    "setup_pybind11(cfg)\n",
    "cfg['compiler_args'] = ['-fopenmp']\n",
    "cfg['linker_args'] = ['-fopenmp']\n",
    "%>\n",
    "*/\n",
    "#include <omp.h>\n",
    "#include <pybind11/pybind11.h>\n",
    "#include <pybind11/numpy.h>\n",
    "\n",
    "#define NUM_THREADS 2\n",
    "namespace py = pybind11;\n",
    "\n",
    "void double_elems(py::array_t<int> input){\n",
    "     \n",
    "    py::buffer_info buf = input.request();\n",
    "    int *ptr = (int *) buf.ptr;\n",
    "    \n",
    "    int element_count = 1;\n",
    "    for (auto r: buf.shape) {\n",
    "      element_count *= r;\n",
    "    }\n",
    "    \n",
    "    omp_set_num_threads(NUM_THREADS);\n",
    "    #pragma omp parallel for schedule(static, 1)\n",
    "    for (int i = 0; i < element_count; i++) {\n",
    "        ptr[i] *= 2;\n",
    "    }\n",
    "     \n",
    "}\n",
    "        \n",
    "PYBIND11_MODULE(np4, module) {\n",
    "    module.def(\"double_elems\", &double_elems);\n",
    "}"
   ]
  },
  {
   "cell_type": "code",
   "execution_count": 9,
   "metadata": {},
   "outputs": [],
   "source": [
    "import cppimport\n",
    "np4 = cppimport.imp(\"np4\")\n",
    "import numpy as np"
   ]
  },
  {
   "cell_type": "code",
   "execution_count": 10,
   "metadata": {},
   "outputs": [
    {
     "data": {
      "text/plain": [
       "array([ 0,  2,  4,  6,  8, 10, 12, 14, 16, 18], dtype=int32)"
      ]
     },
     "execution_count": 10,
     "metadata": {},
     "output_type": "execute_result"
    }
   ],
   "source": [
    "my_array = np.array(range(10), dtype = 'int32')\n",
    "np3.double_elems(my_array)\n",
    "my_array"
   ]
  },
  {
   "cell_type": "code",
   "execution_count": null,
   "metadata": {},
   "outputs": [],
   "source": [
    "%%writefile np5.cpp\n",
    "/*\n",
    "<%\n",
    "setup_pybind11(cfg)\n",
    "cfg['compiler_args'] = ['-fopenmp']\n",
    "cfg['linker_args'] = ['-fopenmp']\n",
    "%>\n",
    "*/\n",
    "#include <cmath>\n",
    "#include <omp.h>\n",
    "#include <pybind11/pybind11.h>\n",
    "#include <pybind11/numpy.h>\n",
    "\n",
    "#define NUM_THREADS 2\n",
    "namespace py = pybind11;\n",
    "\n",
    "int contingency(const int divisions, const int N, py::array_t<int> input1, py::array_t<int> input2){\n",
    "    \n",
    "    double l = std::log(3);\n",
    "    py::print(l);\n",
    "    \n",
    "    int contingency_m[divisions][divisions] = {};\n",
    "    \n",
    "    for (int i = 0; i < divisions; i++)\n",
    "        for (int j = 0; j < divisions; j++)\n",
    "            py::print(contingency_m[i][j]);\n",
    "\n",
    "    \n",
    "    py::buffer_info buf1 = input1.request();\n",
    "    py::buffer_info buf2 = input2.request();\n",
    "    int *ptr1 = (int *) buf1.ptr;\n",
    "    int *ptr2 = (int *) buf2.ptr;\n",
    "    \n",
    "    \n",
    "    omp_set_num_threads(NUM_THREADS);\n",
    "    \n",
    "    int prod = 0;\n",
    "    \n",
    "    #pragma omp parallel for reduction(+:prod)\n",
    "    for (int i = 0; i < N; i++) {\n",
    "        prod += ptr1[i] * ptr2[i];\n",
    "    }\n",
    "    \n",
    "    return prod;\n",
    "}\n",
    "        \n",
    "PYBIND11_MODULE(np5, module) {\n",
    "    module.def(\"contingency\", &contingency);\n",
    "}"
   ]
  },
  {
   "cell_type": "code",
   "execution_count": 1,
   "metadata": {},
   "outputs": [
    {
     "name": "stdout",
     "output_type": "stream",
     "text": [
      "Overwriting np6.cpp\n"
     ]
    }
   ],
   "source": [
    "%%writefile np6.cpp\n",
    "/*\n",
    "<%\n",
    "setup_pybind11(cfg)\n",
    "cfg['compiler_args'] = ['-fopenmp']\n",
    "cfg['linker_args'] = ['-fopenmp']\n",
    "%>\n",
    "*/\n",
    "#include <omp.h>\n",
    "#include <pybind11/pybind11.h>\n",
    "#include <pybind11/numpy.h>\n",
    "\n",
    "#define NUM_THREADS 2\n",
    "namespace py = pybind11;\n",
    "\n",
    "int scalar_prod(py::array_t<int> input1, py::array_t<int> input2){\n",
    "    \n",
    "    py::buffer_info buf1 = input1.request();\n",
    "    py::buffer_info buf2 = input2.request();\n",
    "    int *ptr1 = (int *) buf1.ptr;\n",
    "    int *ptr2 = (int *) buf2.ptr;\n",
    "    \n",
    "    int element_count = 1;\n",
    "    for (auto r: buf1.shape) {\n",
    "      element_count *= r;\n",
    "    }\n",
    "    \n",
    "    omp_set_num_threads(NUM_THREADS);\n",
    "    \n",
    "    int prod = 0;\n",
    "    \n",
    "    #pragma omp parallel\n",
    "    {\n",
    "        #pragma omp for reduction(+:prod)\n",
    "        for (int i = 0; i < element_count; i++) {\n",
    "            prod += ptr1[i] * ptr2[i];\n",
    "        }\n",
    "    }\n",
    "    \n",
    "    return prod;\n",
    "}\n",
    "        \n",
    "PYBIND11_MODULE(np6, module) {\n",
    "    module.def(\"scalar_prod\", &scalar_prod);\n",
    "}"
   ]
  },
  {
   "cell_type": "code",
   "execution_count": 2,
   "metadata": {},
   "outputs": [],
   "source": [
    "import cppimport\n",
    "np6 = cppimport.imp(\"np6\")\n",
    "import numpy as np"
   ]
  },
  {
   "cell_type": "code",
   "execution_count": 3,
   "metadata": {},
   "outputs": [],
   "source": [
    "N = 1000\n",
    "my_array1 = np.ones(N, dtype='int32') * 7\n",
    "my_array2 = np.ones(N, dtype='int32') * 5"
   ]
  },
  {
   "cell_type": "code",
   "execution_count": 10,
   "metadata": {},
   "outputs": [
    {
     "name": "stdout",
     "output_type": "stream",
     "text": [
      "5.51 µs ± 85.4 ns per loop (mean ± std. dev. of 7 runs, 100000 loops each)\n"
     ]
    }
   ],
   "source": [
    "%%timeit\n",
    "np.sum(my_array1 * my_array2)"
   ]
  },
  {
   "cell_type": "code",
   "execution_count": 11,
   "metadata": {},
   "outputs": [
    {
     "name": "stdout",
     "output_type": "stream",
     "text": [
      "2.78 µs ± 117 ns per loop (mean ± std. dev. of 7 runs, 100000 loops each)\n"
     ]
    }
   ],
   "source": [
    "%%timeit\n",
    "np6.scalar_prod(my_array1, my_array2) # NUM_THREADS 1"
   ]
  },
  {
   "cell_type": "code",
   "execution_count": 5,
   "metadata": {},
   "outputs": [
    {
     "name": "stdout",
     "output_type": "stream",
     "text": [
      "3.17 µs ± 101 ns per loop (mean ± std. dev. of 7 runs, 100000 loops each)\n"
     ]
    }
   ],
   "source": [
    "%%timeit\n",
    "np6.scalar_prod(my_array1, my_array2) # NUM_THREADS 2"
   ]
  },
  {
   "cell_type": "code",
   "execution_count": null,
   "metadata": {},
   "outputs": [],
   "source": [
    "%%writefile mpi4py_openmp.py\n",
    "import numpy as np\n",
    "np.random.seed(123)\n",
    "\n",
    "from mpi4py import MPI\n",
    "comm = MPI.COMM_WORLD\n",
    "comm.Barrier()\n",
    "time0 = MPI.Wtime()\n",
    "size = comm.Get_size()\n",
    "rank = comm.Get_rank()"
   ]
  },
  {
   "cell_type": "markdown",
   "metadata": {},
   "source": [
    "---\n",
    "18.02"
   ]
  },
  {
   "cell_type": "code",
   "execution_count": 1,
   "metadata": {},
   "outputs": [
    {
     "name": "stdout",
     "output_type": "stream",
     "text": [
      "Overwriting buffer_info.cpp\n"
     ]
    }
   ],
   "source": [
    "%%writefile buffer_info.cpp\n",
    "/*\n",
    "<%\n",
    "setup_pybind11(cfg)\n",
    "%>\n",
    "*/\n",
    "\n",
    "//#include <iostream>\n",
    "//#include <chrono>\n",
    "//#include <thread>\n",
    "#include <pybind11/pybind11.h>\n",
    "#include <pybind11/numpy.h>\n",
    "\n",
    "namespace py = pybind11;\n",
    "\n",
    "void print_info(py::array_t<int>& input) {\n",
    "    \n",
    "    py::buffer_info buf = input.request();\n",
    "    py::print(\"ptr:\", buf.ptr);\n",
    "    py::print(\"itemsize:\", buf.itemsize);\n",
    "    py::print(\"format:\", buf.format);\n",
    "    py::print(\"ndim:\", buf.ndim);\n",
    "    for (int i = 0; i < buf.shape.size(); i++) {\n",
    "      py::print(i, \"shape:\", buf.shape[i]);\n",
    "    }\n",
    "    for (int i = 0; i < buf.strides.size(); i++) {\n",
    "      py::print(i, \"stride:\", buf.strides[i]);\n",
    "    }\n",
    "    \n",
    "    int *ptr = (int *) buf.ptr;\n",
    "    int element_count = 1;\n",
    "    for (auto r: buf.shape) {\n",
    "      element_count *= r;\n",
    "    }\n",
    "    for (int i = 0; i < element_count; i++) {\n",
    "      py::print(i, \"element:\", *ptr++);\n",
    "    }\n",
    "    \n",
    "//    std::this_thread::sleep_for(3s);\n",
    "\n",
    "}\n",
    "        \n",
    "PYBIND11_MODULE(buffer_info, module) {\n",
    "    module.def(\"print_info\", &print_info);\n",
    "}"
   ]
  },
  {
   "cell_type": "code",
   "execution_count": 2,
   "metadata": {},
   "outputs": [],
   "source": [
    "import numpy as np\n",
    "import cppimport\n",
    "buffer_info = cppimport.imp(\"buffer_info\")"
   ]
  },
  {
   "cell_type": "code",
   "execution_count": 3,
   "metadata": {},
   "outputs": [],
   "source": [
    "import time"
   ]
  },
  {
   "cell_type": "code",
   "execution_count": 5,
   "metadata": {},
   "outputs": [
    {
     "data": {
      "text/plain": [
       "array([[3, 0, 0],\n",
       "       [5, 6, 7]])"
      ]
     },
     "execution_count": 5,
     "metadata": {},
     "output_type": "execute_result"
    }
   ],
   "source": [
    "arr_1 = np.random.randint(0,10, (3,2)).T\n",
    "arr_1"
   ]
  },
  {
   "cell_type": "code",
   "execution_count": 6,
   "metadata": {},
   "outputs": [
    {
     "data": {
      "text/plain": [
       "  C_CONTIGUOUS : False\n",
       "  F_CONTIGUOUS : True\n",
       "  OWNDATA : False\n",
       "  WRITEABLE : True\n",
       "  ALIGNED : True\n",
       "  UPDATEIFCOPY : False"
      ]
     },
     "execution_count": 6,
     "metadata": {},
     "output_type": "execute_result"
    }
   ],
   "source": [
    "arr_1.flags"
   ]
  },
  {
   "cell_type": "code",
   "execution_count": 8,
   "metadata": {},
   "outputs": [
    {
     "data": {
      "text/plain": [
       "  C_CONTIGUOUS : True\n",
       "  F_CONTIGUOUS : True\n",
       "  OWNDATA : True\n",
       "  WRITEABLE : True\n",
       "  ALIGNED : True\n",
       "  UPDATEIFCOPY : False"
      ]
     },
     "execution_count": 8,
     "metadata": {},
     "output_type": "execute_result"
    }
   ],
   "source": [
    "np.arange(3).flags"
   ]
  },
  {
   "cell_type": "code",
   "execution_count": 7,
   "metadata": {},
   "outputs": [
    {
     "name": "stdout",
     "output_type": "stream",
     "text": [
      "ptr: <capsule object NULL at 0x7f86e1da12a0>\n",
      "itemsize: 4\n",
      "format: i\n",
      "ndim: 2\n",
      "0 shape: 2\n",
      "1 shape: 3\n",
      "0 stride: 4\n",
      "1 stride: 8\n",
      "0 element: 3\n",
      "1 element: 5\n",
      "2 element: 0\n",
      "3 element: 6\n",
      "4 element: 0\n",
      "5 element: 7\n"
     ]
    }
   ],
   "source": [
    "buffer_info.print_info(arr_1)"
   ]
  },
  {
   "cell_type": "code",
   "execution_count": 12,
   "metadata": {},
   "outputs": [
    {
     "name": "stdout",
     "output_type": "stream",
     "text": [
      "ptr: <capsule object NULL at 0x7f03c834a810>\n",
      "itemsize: 4\n",
      "format: i\n",
      "ndim: 2\n",
      "0 shape: 1000\n",
      "1 shape: 34000\n",
      "0 stride: 4\n",
      "1 stride: 4000\n"
     ]
    }
   ],
   "source": [
    "np.random.seed(123)\n",
    "big1 = np.random.randint(0,10, (34000,1000)).T\n",
    "time.sleep(1)\n",
    "del big1\n",
    "time.sleep(2)\n",
    "np.random.seed(123)\n",
    "big2 = np.random.randint(0,10, (34000,1000)).T\n",
    "buffer_info.print_info(big2)\n",
    "time.sleep(1)\n",
    "del big2"
   ]
  },
  {
   "cell_type": "markdown",
   "metadata": {},
   "source": [
    "---\n",
    "21.02"
   ]
  },
  {
   "cell_type": "code",
   "execution_count": 11,
   "metadata": {},
   "outputs": [
    {
     "name": "stdout",
     "output_type": "stream",
     "text": [
      "Overwriting locks.cpp\n"
     ]
    }
   ],
   "source": [
    "%%writefile locks.cpp\n",
    "/*\n",
    "<%\n",
    "cfg['compiler_args'] = ['-fopenmp']\n",
    "cfg['linker_args'] = ['-fopenmp']\n",
    "setup_pybind11(cfg)\n",
    "%>\n",
    "*/\n",
    "\n",
    "//#include <iostream>\n",
    "//#include <chrono>\n",
    "//#include <thread>\n",
    "#include <pybind11/pybind11.h>\n",
    "#include <pybind11/numpy.h>\n",
    "\n",
    "namespace py = pybind11;\n",
    "\n",
    "void example0(py::array_t<int>& input) {\n",
    "    \n",
    "    py::buffer_info buf = input.request();\n",
    "    py::print(\"ptr:\", buf.ptr);\n",
    "    py::print(\"itemsize:\", buf.itemsize);\n",
    "    py::print(\"format:\", buf.format);\n",
    "    py::print(\"ndim:\", buf.ndim);\n",
    "    for (int i = 0; i < buf.shape.size(); i++) {\n",
    "      py::print(i, \"shape:\", buf.shape[i]);\n",
    "    }\n",
    "    for (int i = 0; i < buf.strides.size(); i++) {\n",
    "      py::print(i, \"stride:\", buf.strides[i]);\n",
    "    }\n",
    "    \n",
    "    int *ptr = (int *) buf.ptr;\n",
    "    int element_count = 1;\n",
    "    for (auto r: buf.shape) {\n",
    "      element_count *= r;\n",
    "    }\n",
    "    for (int i = 0; i < element_count; i++) {\n",
    "      py::print(i, \"element:\", *ptr++);\n",
    "    }\n",
    "    \n",
    "    int NBUCKETS = 100;\n",
    "    \n",
    "    omp_lock_t my_lock;\n",
    "    \n",
    "    //#pragma omp parallel for\n",
    "    //for(i=0; i<NBUCKETS; i++){\n",
    "    //    omp_init_lock(&hist_locks[i]);\n",
    "    //}\n",
    "\n",
    "\n",
    "}\n",
    "        \n",
    "PYBIND11_MODULE(locks, module) {\n",
    "    module.def(\"example0\", &example0);\n",
    "}"
   ]
  },
  {
   "cell_type": "code",
   "execution_count": 12,
   "metadata": {},
   "outputs": [
    {
     "ename": "SystemExit",
     "evalue": "error: command 'gcc' failed with exit status 1",
     "output_type": "error",
     "traceback": [
      "An exception has occurred, use %tb to see the full traceback.\n",
      "\u001b[0;31mSystemExit\u001b[0m\u001b[0;31m:\u001b[0m error: command 'gcc' failed with exit status 1\n"
     ]
    },
    {
     "name": "stderr",
     "output_type": "stream",
     "text": [
      "/home/olszewskip/miniconda3/envs/mpiX4py352/lib/python3.5/site-packages/IPython/core/interactiveshell.py:2969: UserWarning: To exit: use 'exit', 'quit', or Ctrl-D.\n",
      "  warn(\"To exit: use 'exit', 'quit', or Ctrl-D.\", stacklevel=1)\n"
     ]
    }
   ],
   "source": [
    "import numpy as np\n",
    "import cppimport\n",
    "locks = cppimport.imp(\"locks\")"
   ]
  },
  {
   "cell_type": "code",
   "execution_count": 3,
   "metadata": {},
   "outputs": [
    {
     "name": "stdout",
     "output_type": "stream",
     "text": [
      "ptr: <capsule object NULL at 0x7f57e614f1e0>\n",
      "itemsize: 4\n",
      "format: i\n",
      "ndim: 1\n",
      "0 shape: 3\n",
      "0 stride: 4\n",
      "0 element: 0\n",
      "1 element: 1\n",
      "2 element: 2\n"
     ]
    }
   ],
   "source": [
    "locks.example0(np.array([0,1,2]))"
   ]
  },
  {
   "cell_type": "markdown",
   "metadata": {},
   "source": [
    "---\n",
    "26.02"
   ]
  },
  {
   "cell_type": "code",
   "execution_count": 29,
   "metadata": {},
   "outputs": [
    {
     "name": "stdout",
     "output_type": "stream",
     "text": [
      "Overwriting my_pi.cpp\n"
     ]
    }
   ],
   "source": [
    "%%writefile my_pi.cpp\n",
    "/*\n",
    "<%\n",
    "cfg['compiler_args'] = ['-fopenmp']\n",
    "cfg['linker_args'] = ['-fopenmp']\n",
    "setup_pybind11(cfg)\n",
    "%>\n",
    "*/\n",
    "\n",
    "#include <omp.h>\n",
    "#include <pybind11/pybind11.h>\n",
    "\n",
    "namespace py = pybind11;\n",
    "\n",
    "double sequential(int n) {\n",
    "    \n",
    "    double step = 1.0 / n;\n",
    "    double pi = 0;\n",
    "\n",
    "    double x;\n",
    "    for(int i = 0 ; i < n ; i++){\n",
    "        x = (i + 0.5) * step;\n",
    "        pi += 4.0 / (1 + x*x);\n",
    "    }\n",
    "    \n",
    "    pi *= step;\n",
    "    return pi;\n",
    "}\n",
    "\n",
    "// #define NUM_THREADS 1\n",
    "\n",
    "double parallel(int n) {\n",
    "    \n",
    "    double step = 1.0 / n;\n",
    "    double pi = 0;\n",
    "    \n",
    "    int nthreads = 0;\n",
    "\n",
    "    //omp_set_num_threads(NUM_THREADS);\n",
    "    \n",
    "    #pragma omp parallel\n",
    "    {\n",
    "        int id = omp_get_thread_num();\n",
    "        if (id==0) nthreads = omp_get_num_threads();\n",
    "        \n",
    "        double x;\n",
    "        #pragma omp for reduction(+:pi)\n",
    "        for(int i = 0 ; i < n ; i++){\n",
    "            x = (i + 0.5) * step;\n",
    "            pi += 4.0 / (1 + x*x);\n",
    "        }\n",
    "    }    \n",
    "    \n",
    "    py::print(\"I got\", nthreads, \"threads!\");\n",
    "    \n",
    "    pi *= step;\n",
    "    return pi;\n",
    "}\n",
    "\n",
    "\n",
    "PYBIND11_MODULE(my_pi, m) {\n",
    "    m.def(\"sequential\", &sequential);\n",
    "    m.def(\"parallel\", &parallel);\n",
    "}"
   ]
  },
  {
   "cell_type": "code",
   "execution_count": 30,
   "metadata": {},
   "outputs": [],
   "source": [
    "import cppimport\n",
    "my_pi = cppimport.imp(\"my_pi\")"
   ]
  },
  {
   "cell_type": "code",
   "execution_count": 2,
   "metadata": {},
   "outputs": [
    {
     "name": "stdout",
     "output_type": "stream",
     "text": [
      "4.68 µs ± 44.7 ns per loop (mean ± std. dev. of 7 runs, 100000 loops each)\n"
     ]
    }
   ],
   "source": [
    "%%timeit\n",
    "my_pi.sequential(1000)"
   ]
  },
  {
   "cell_type": "code",
   "execution_count": 3,
   "metadata": {},
   "outputs": [
    {
     "name": "stdout",
     "output_type": "stream",
     "text": [
      "5.18 µs ± 28.2 ns per loop (mean ± std. dev. of 7 runs, 100000 loops each)\n"
     ]
    }
   ],
   "source": [
    "%%timeit\n",
    "my_pi.parallel(1000)"
   ]
  },
  {
   "cell_type": "code",
   "execution_count": 22,
   "metadata": {},
   "outputs": [
    {
     "name": "stdout",
     "output_type": "stream",
     "text": [
      "Overwriting dummy_work_pi.py\n"
     ]
    }
   ],
   "source": [
    "%%writefile dummy_work_pi.py\n",
    "import time\n",
    "import my_pi\n",
    "\n",
    "time_0 = time.time()\n",
    "pi = my_pi.parallel(1000000000)\n",
    "print(pi)\n",
    "print(\"Finished in\", time.time() - time_0)"
   ]
  },
  {
   "cell_type": "code",
   "execution_count": 25,
   "metadata": {},
   "outputs": [
    {
     "name": "stdout",
     "output_type": "stream",
     "text": [
      "2\n",
      "I got 2 threads!\n",
      "3.141592653589901\n",
      "Finished in 2.3686070442199707\n"
     ]
    }
   ],
   "source": [
    "%%bash\n",
    "export OMP_NUM_THREADS=2\n",
    "echo $OMP_NUM_THREADS\n",
    "python dummy_work_pi.py"
   ]
  },
  {
   "cell_type": "code",
   "execution_count": 31,
   "metadata": {},
   "outputs": [
    {
     "name": "stdout",
     "output_type": "stream",
     "text": [
      "4\n",
      "I got 4 threads!\n",
      "3.141592653589821\n",
      "Finished in 2.3871002197265625\n"
     ]
    }
   ],
   "source": [
    "%%bash\n",
    "export OMP_NUM_THREADS=4\n",
    "echo $OMP_NUM_THREADS\n",
    "python dummy_work_pi.py"
   ]
  },
  {
   "cell_type": "code",
   "execution_count": null,
   "metadata": {},
   "outputs": [],
   "source": []
  },
  {
   "cell_type": "code",
   "execution_count": null,
   "metadata": {},
   "outputs": [],
   "source": []
  },
  {
   "cell_type": "code",
   "execution_count": 7,
   "metadata": {},
   "outputs": [
    {
     "name": "stdout",
     "output_type": "stream",
     "text": [
      "Overwriting dummy_work1.cpp\n"
     ]
    }
   ],
   "source": [
    "%%writefile dummy_work1.cpp\n",
    "/*\n",
    "<%\n",
    "setup_pybind11(cfg)\n",
    "cfg['compiler_args'] = ['-std=c++11', '-fopenmp']\n",
    "cfg['linker_args'] = ['-fopenmp']\n",
    "%>\n",
    "*/\n",
    "#include <omp.h>\n",
    "#include <pybind11/pybind11.h>\n",
    "#include <pybind11/numpy.h>\n",
    "\n",
    "namespace py = pybind11;\n",
    "\n",
    "// define NUM_THREADS 2\n",
    "\n",
    "double parallel_pi(int n) {\n",
    "    \n",
    "    double step = 1.0 / n;\n",
    "    double pi = 0;\n",
    "\n",
    "    #pragma omp parallel\n",
    "    {\n",
    "        double x;\n",
    "        #pragma omp for reduction(+:pi)\n",
    "        for(int i = 0 ; i < n ; i++){\n",
    "            x = (i + 0.5) * step;\n",
    "            pi += 4.0 / (1 + x*x);\n",
    "        }\n",
    "    }    \n",
    "    \n",
    "    pi *= step;\n",
    "    return pi;\n",
    "}\n",
    "\n",
    "\n",
    "double scalar_prod(py::array_t<double> input1, py::array_t<double> input2){\n",
    "    \n",
    "    py::buffer_info buf1 = input1.request();\n",
    "    py::buffer_info buf2 = input2.request();\n",
    "    auto *ptr1 = (double *) buf1.ptr;\n",
    "    auto *ptr2 = (double *) buf2.ptr;\n",
    "    \n",
    "    int element_count = 1;\n",
    "    for (auto r: buf1.shape) {\n",
    "      element_count *= r;\n",
    "    }\n",
    "    \n",
    "    int nthreads;\n",
    "    double prod = 0.;\n",
    "    \n",
    "    #pragma omp parallel\n",
    "    {\n",
    "        int id = omp_get_thread_num();\n",
    "        if (id==0) nthreads = omp_get_num_threads();\n",
    "    \n",
    "        #pragma omp for reduction(+:prod)\n",
    "        for (int i = 0; i < element_count; ++i) {\n",
    "            prod += ptr1[i] * ptr2[i];\n",
    "        }\n",
    "    }\n",
    "    \n",
    "    py::print(\"I got\", nthreads, \"threads!\");\n",
    "    \n",
    "    return prod;\n",
    "}\n",
    "        \n",
    "PYBIND11_MODULE(dummy_work1, module) {\n",
    "    module.def(\"parallel_pi\", &parallel_pi);\n",
    "    module.def(\"scalar_prod\", &scalar_prod);\n",
    "}"
   ]
  },
  {
   "cell_type": "code",
   "execution_count": 1,
   "metadata": {},
   "outputs": [],
   "source": [
    "import cppimport\n",
    "dummy_work1 = cppimport.imp(\"dummy_work1\")"
   ]
  },
  {
   "cell_type": "code",
   "execution_count": 3,
   "metadata": {},
   "outputs": [
    {
     "name": "stdout",
     "output_type": "stream",
     "text": [
      "263 µs ± 11.5 µs per loop (mean ± std. dev. of 7 runs, 1000 loops each)\n"
     ]
    }
   ],
   "source": [
    "%timeit dummy_work1.parallel_pi(100000)"
   ]
  },
  {
   "cell_type": "code",
   "execution_count": 3,
   "metadata": {},
   "outputs": [
    {
     "name": "stdout",
     "output_type": "stream",
     "text": [
      "251 µs ± 12 µs per loop (mean ± std. dev. of 7 runs, 1000 loops each)\n"
     ]
    }
   ],
   "source": [
    "%timeit dummy_work1.parallel_pi(100000)"
   ]
  },
  {
   "cell_type": "code",
   "execution_count": 3,
   "metadata": {},
   "outputs": [
    {
     "name": "stdout",
     "output_type": "stream",
     "text": [
      "I got 4 threads!\n"
     ]
    },
    {
     "data": {
      "text/plain": [
       "16776224.292219158"
      ]
     },
     "execution_count": 3,
     "metadata": {},
     "output_type": "execute_result"
    }
   ],
   "source": [
    "import numpy as np\n",
    "N = 2 ** 13\n",
    "dummy_work1.scalar_prod(np.random.rand(N, N), np.random.rand(N, N))"
   ]
  },
  {
   "cell_type": "code",
   "execution_count": 16,
   "metadata": {},
   "outputs": [
    {
     "name": "stdout",
     "output_type": "stream",
     "text": [
      "Overwriting dummy_work1_n1.py\n"
     ]
    }
   ],
   "source": [
    "%%writefile dummy_work1_n1.py\n",
    "import numpy as np\n",
    "import time\n",
    "import dummy_work1\n",
    "\n",
    "time_0 = time.time()\n",
    "\n",
    "N = 2 ** 13\n",
    "\n",
    "np.random.seed(0)\n",
    "#array1 = np.random.rand(N, N)\n",
    "#array2 = np.random.rand(N, N)\n",
    "\n",
    "#prod = dummy_work1.scalar_prod(array1, array2)\n",
    "prod = dummy_work1.parallel_pi(1000000000)\n",
    "\n",
    "print(\"Finished in\", time.time() - time_0, \"sec.\")\n",
    "print(prod)"
   ]
  },
  {
   "cell_type": "code",
   "execution_count": 17,
   "metadata": {},
   "outputs": [
    {
     "name": "stdout",
     "output_type": "stream",
     "text": [
      "2\n",
      "Finished in 2.3520619869232178 sec.\n",
      "3.141592653589901\n"
     ]
    }
   ],
   "source": [
    "%%bash\n",
    "export OMP_NUM_THREADS=2\n",
    "echo $OMP_NUM_THREADS\n",
    "python dummy_work1_n1.py"
   ]
  },
  {
   "cell_type": "code",
   "execution_count": 18,
   "metadata": {},
   "outputs": [
    {
     "name": "stdout",
     "output_type": "stream",
     "text": [
      "4\n",
      "Finished in 2.3763458728790283 sec.\n",
      "3.141592653589821\n"
     ]
    }
   ],
   "source": [
    "%%bash\n",
    "export OMP_NUM_THREADS=4\n",
    "echo $OMP_NUM_THREADS\n",
    "python dummy_work1_n1.py"
   ]
  },
  {
   "cell_type": "markdown",
   "metadata": {},
   "source": [
    "---\n",
    "28.02"
   ]
  },
  {
   "cell_type": "code",
   "execution_count": 1,
   "metadata": {},
   "outputs": [
    {
     "name": "stdout",
     "output_type": "stream",
     "text": [
      "Writing fast11.cpp\n"
     ]
    }
   ],
   "source": [
    "%%writefile fast11.cpp\n",
    "/*\n",
    "<%\n",
    "cfg['compiler_args'] = ['-std=c++11', '-fopenmp']\n",
    "cfg['linker_args'] = ['-fopenmp']\n",
    "setup_pybind11(cfg)\n",
    "%>\n",
    "*/\n",
    "\n",
    "#include <math.h>\n",
    "#include <tuple>\n",
    "#include <vector>\n",
    "#include <pybind11/pybind11.h>\n",
    "//#include <pybind11/stl.h>\n",
    "#include <pybind11/numpy.h>\n",
    "#include <omp.h>\n",
    "\n",
    "namespace py = pybind11;\n",
    "\n",
    "std::tuple<double, double, double> work_3a(const int kData_dim,\n",
    "                                           const int kDivisions,\n",
    "                                           py::array_t<int> &py_X0,\n",
    "                                           py::array_t<int> &py_X1,\n",
    "                                           py::array_t<int> &py_X2,\n",
    "                                           const int kN_classes,\n",
    "                                           py::array_t<double> &py_pseudo_counts,\n",
    "                                           py::array_t<int> &py_y) {\n",
    "    \n",
    "    const int kC_Xdim = kDivisions + 1;\n",
    "    const int kC_ydim = kN_classes;\n",
    "    \n",
    "    py::buffer_info py_X0_buf = py_X0.request();\n",
    "    auto *X0 = static_cast<int *>(py_X0_buf.ptr);\n",
    "    py::buffer_info py_X1_buf = py_X1.request();\n",
    "    auto *X1 = static_cast<int *>(py_X1_buf.ptr);\n",
    "    py::buffer_info py_X2_buf = py_X2.request();\n",
    "    auto *X2 = static_cast<int *>(py_X2_buf.ptr);\n",
    "    \n",
    "    py::buffer_info py_y_buf = py_y.request();\n",
    "    auto *y = static_cast<int *>(py_y_buf.ptr);\n",
    "    \n",
    "    py::buffer_info py_pseudo_counts_buf = py_pseudo_counts.request();\n",
    "    auto *pseudo_counts = static_cast<double *>(py_pseudo_counts_buf.ptr);\n",
    "    \n",
    "    int contingency_m[kC_Xdim][kC_Xdim][kC_Xdim][kC_ydim] = {};\n",
    "    double contingency_m_y[kC_Xdim][kC_Xdim][kC_Xdim] = {};\n",
    "\n",
    "    for (int data_idx = 0; data_idx < kData_dim; data_idx++) {\n",
    "        contingency_m[X0[data_idx]][X1[data_idx]][X2[data_idx]][y[data_idx]]++;\n",
    "    }\n",
    "\n",
    "    double neg_H = 0., neg_H_X0 = 0., neg_H_X1 = 0., neg_H_X2 = 0.;\n",
    "    \n",
    "    #pragma omp parallel\n",
    "    {\n",
    "    \n",
    "    #pragma omp for reduction (+: neg_H, neg_H_X0, neg_H_X1, neg_H_X2)\n",
    "    for (int C_Xidx_i = 0; C_Xidx_i < kC_Xdim; C_Xidx_i++) {\n",
    "        for (int C_Xidx_j = 0; C_Xidx_j < kC_Xdim; C_Xidx_j++) {\n",
    "            for (int C_yidx = 0; C_yidx < kC_ydim; C_yidx++) {\n",
    "                double count_X0 = 0;\n",
    "                double count_X1 = 0;\n",
    "                double count_X2 = 0;\n",
    "                for (int C_Xidx_k = 0; C_Xidx_k < kC_Xdim; C_Xidx_k++) {\n",
    "                    double count_ijk = pseudo_counts[C_yidx] + contingency_m[C_Xidx_i][C_Xidx_j][C_Xidx_k][C_yidx];\n",
    "                    count_X0 += pseudo_counts[C_yidx] + contingency_m[C_Xidx_k][C_Xidx_i][C_Xidx_j][C_yidx];\n",
    "                    count_X1 += pseudo_counts[C_yidx] + contingency_m[C_Xidx_i][C_Xidx_k][C_Xidx_j][C_yidx];\n",
    "                    count_X2 += count_ijk;\n",
    "                    contingency_m_y[C_Xidx_i][C_Xidx_j][C_Xidx_k] += count_ijk;\n",
    "                    neg_H += count_ijk * log2(count_ijk);\n",
    "                }\n",
    "                neg_H_X0 += count_X0 * log2(count_X0);\n",
    "                neg_H_X1 += count_X1 * log2(count_X1);\n",
    "                neg_H_X2 += count_X2 * log2(count_X2);\n",
    "            }\n",
    "        }\n",
    "    }\n",
    "\n",
    "    #pragma omp for reduction (+: neg_H, neg_H_X0, neg_H_X1, neg_H_X2)\n",
    "    for (int C_Xidx_i = 0; C_Xidx_i < kC_Xdim; C_Xidx_i++) {\n",
    "        for (int C_Xidx_j = 0; C_Xidx_j < kC_Xdim; C_Xidx_j++) {\n",
    "            double count_X0_y = 0;\n",
    "            double count_X1_y = 0;\n",
    "            double count_X2_y = 0;\n",
    "            for (int C_Xidx_k = 0; C_Xidx_k < kC_Xdim; C_Xidx_k++) {\n",
    "                neg_H -= contingency_m_y[C_Xidx_i][C_Xidx_j][C_Xidx_k] * log2(contingency_m_y[C_Xidx_i][C_Xidx_j][C_Xidx_k]);\n",
    "                count_X0_y += contingency_m_y[C_Xidx_k][C_Xidx_i][C_Xidx_j];\n",
    "                count_X1_y += contingency_m_y[C_Xidx_i][C_Xidx_k][C_Xidx_j];\n",
    "                count_X2_y += contingency_m_y[C_Xidx_i][C_Xidx_j][C_Xidx_k];\n",
    "            }\n",
    "            neg_H_X0 -= count_X0_y * log2(count_X0_y);\n",
    "            neg_H_X1 -= count_X1_y * log2(count_X1_y);\n",
    "            neg_H_X2 -= count_X2_y * log2(count_X2_y);\n",
    "        }\n",
    "    }\n",
    "    \n",
    "    }\n",
    "        \n",
    "    return std::make_tuple(neg_H - neg_H_X0,\n",
    "                           neg_H - neg_H_X1,\n",
    "                           neg_H - neg_H_X2\n",
    "                          );\n",
    "}\n",
    "\n",
    "    \n",
    "\n",
    "std::tuple<double, double, double> work_3b(const int kData_dim,\n",
    "                                           const int kDivisions,\n",
    "                                           py::array_t<int> &py_X0,\n",
    "                                           py::array_t<int> &py_X1,\n",
    "                                           py::array_t<int> &py_X2,\n",
    "                                           const int kN_classes,\n",
    "                                           py::array_t<double> &py_pseudo_counts,\n",
    "                                           py::array_t<int> &py_y) {\n",
    "    \n",
    "    const int kC_Xdim = kDivisions + 1;\n",
    "    const int kC_ydim = kN_classes;\n",
    "    \n",
    "    py::buffer_info py_X0_buf = py_X0.request();\n",
    "    auto *X0 = static_cast<int *>(py_X0_buf.ptr);\n",
    "    py::buffer_info py_X1_buf = py_X1.request();\n",
    "    auto *X1 = static_cast<int *>(py_X1_buf.ptr);\n",
    "    py::buffer_info py_X2_buf = py_X2.request();\n",
    "    auto *X2 = static_cast<int *>(py_X2_buf.ptr);\n",
    "    \n",
    "    py::buffer_info py_y_buf = py_y.request();\n",
    "    auto *y = static_cast<int *>(py_y_buf.ptr);\n",
    "    \n",
    "    py::buffer_info py_pseudo_counts_buf = py_pseudo_counts.request();\n",
    "    auto *pseudo_counts = static_cast<double *>(py_pseudo_counts_buf.ptr);\n",
    "    \n",
    "    int contingency_m[kC_Xdim][kC_Xdim][kC_Xdim][kC_ydim] = {};\n",
    "    double contingency_m_y[kC_Xdim][kC_Xdim][kC_Xdim] = {};\n",
    "        \n",
    "    omp_lock_t contingency_m_lock[kC_Xdim][kC_Xdim][kC_Xdim][kC_ydim];\n",
    "                                                                                                \n",
    "    for (int C_Xidx_0 = 0; C_Xidx_0 < kC_Xdim; C_Xidx_0++) {\n",
    "        for (int C_Xidx_1 = 0; C_Xidx_1 < kC_Xdim; C_Xidx_1++) {\n",
    "            for (int C_Xidx_2 = 0; C_Xidx_2 < kC_Xdim; C_Xidx_2++) {\n",
    "                for (int C_yidx = 0; C_yidx < kC_ydim; C_yidx++) {\n",
    "                    omp_init_lock(&contingency_m_lock[C_Xidx_0][C_Xidx_1][C_Xidx_2][C_yidx]);\n",
    "                }\n",
    "            }\n",
    "        }\n",
    "    }\n",
    "    \n",
    "    double neg_H = 0., neg_H_X0 = 0., neg_H_X1 = 0., neg_H_X2 = 0.;\n",
    "    \n",
    "    #pragma omp parallel\n",
    "    {\n",
    "    \n",
    "    #pragma omp for                                           \n",
    "    for (int data_idx = 0; data_idx < kData_dim; data_idx++) {\n",
    "        omp_set_lock(&contingency_m_lock[X0[data_idx]][X1[data_idx]][X2[data_idx]][y[data_idx]]);\n",
    "        contingency_m[X0[data_idx]][X1[data_idx]][X2[data_idx]][y[data_idx]]++;\n",
    "        omp_unset_lock(&contingency_m_lock[X0[data_idx]][X1[data_idx]][X2[data_idx]][y[data_idx]]);\n",
    "    }\n",
    "    \n",
    "    #pragma omp for reduction (+: neg_H, neg_H_X0, neg_H_X1, neg_H_X2)\n",
    "    for (int C_Xidx_i = 0; C_Xidx_i < kC_Xdim; C_Xidx_i++) {\n",
    "        for (int C_Xidx_j = 0; C_Xidx_j < kC_Xdim; C_Xidx_j++) {\n",
    "            for (int C_yidx = 0; C_yidx < kC_ydim; C_yidx++) {\n",
    "                double count_X0 = 0;\n",
    "                double count_X1 = 0;\n",
    "                double count_X2 = 0;\n",
    "                for (int C_Xidx_k = 0; C_Xidx_k < kC_Xdim; C_Xidx_k++) {\n",
    "                    double count_ijk = pseudo_counts[C_yidx] + contingency_m[C_Xidx_i][C_Xidx_j][C_Xidx_k][C_yidx];\n",
    "                    count_X0 += pseudo_counts[C_yidx] + contingency_m[C_Xidx_k][C_Xidx_i][C_Xidx_j][C_yidx];\n",
    "                    count_X1 += pseudo_counts[C_yidx] + contingency_m[C_Xidx_i][C_Xidx_k][C_Xidx_j][C_yidx];\n",
    "                    count_X2 += count_ijk;\n",
    "                    contingency_m_y[C_Xidx_i][C_Xidx_j][C_Xidx_k] += count_ijk;\n",
    "                    neg_H += count_ijk * log2(count_ijk);\n",
    "                }\n",
    "                neg_H_X0 += count_X0 * log2(count_X0);\n",
    "                neg_H_X1 += count_X1 * log2(count_X1);\n",
    "                neg_H_X2 += count_X2 * log2(count_X2);\n",
    "            }\n",
    "        }\n",
    "    }\n",
    "\n",
    "    #pragma omp for reduction (+: neg_H, neg_H_X0, neg_H_X1, neg_H_X2)\n",
    "    for (int C_Xidx_i = 0; C_Xidx_i < kC_Xdim; C_Xidx_i++) {\n",
    "        for (int C_Xidx_j = 0; C_Xidx_j < kC_Xdim; C_Xidx_j++) {\n",
    "            double count_X0_y = 0;\n",
    "            double count_X1_y = 0;\n",
    "            double count_X2_y = 0;\n",
    "            for (int C_Xidx_k = 0; C_Xidx_k < kC_Xdim; C_Xidx_k++) {\n",
    "                neg_H -= contingency_m_y[C_Xidx_i][C_Xidx_j][C_Xidx_k] * log2(contingency_m_y[C_Xidx_i][C_Xidx_j][C_Xidx_k]);\n",
    "                count_X0_y += contingency_m_y[C_Xidx_k][C_Xidx_i][C_Xidx_j];\n",
    "                count_X1_y += contingency_m_y[C_Xidx_i][C_Xidx_k][C_Xidx_j];\n",
    "                count_X2_y += contingency_m_y[C_Xidx_i][C_Xidx_j][C_Xidx_k];\n",
    "            }\n",
    "            neg_H_X0 -= count_X0_y * log2(count_X0_y);\n",
    "            neg_H_X1 -= count_X1_y * log2(count_X1_y);\n",
    "            neg_H_X2 -= count_X2_y * log2(count_X2_y);\n",
    "        }\n",
    "    }\n",
    "    \n",
    "    }\n",
    "    \n",
    "    for (int C_Xidx_0 = 0; C_Xidx_0 < kC_Xdim; C_Xidx_0++) {\n",
    "        for (int C_Xidx_1 = 0; C_Xidx_1 < kC_Xdim; C_Xidx_1++) {\n",
    "            for (int C_Xidx_2 = 0; C_Xidx_2 < kC_Xdim; C_Xidx_2++) {\n",
    "                for (int C_yidx = 0; C_yidx < kC_ydim; C_yidx++) {\n",
    "                    omp_destroy_lock(&contingency_m_lock[C_Xidx_0][C_Xidx_1][C_Xidx_2][C_yidx]);\n",
    "                }\n",
    "            }\n",
    "        }\n",
    "    }\n",
    "        \n",
    "    return std::make_tuple(neg_H - neg_H_X0,\n",
    "                           neg_H - neg_H_X1,\n",
    "                           neg_H - neg_H_X2\n",
    "                          );\n",
    "}\n",
    "\n",
    "std::tuple<double, double, double> work_3c(const int kData_dim,\n",
    "                                           const int kDivisions,\n",
    "                                           py::array_t<int> &py_X0,\n",
    "                                           py::array_t<int> &py_X1,\n",
    "                                           py::array_t<int> &py_X2,\n",
    "                                           const int kN_classes,\n",
    "                                           py::array_t<double> &py_pseudo_counts,\n",
    "                                           py::array_t<int> &py_y) {\n",
    "    \n",
    "    const int kC_Xdim = kDivisions + 1;\n",
    "    const int kC_ydim = kN_classes;\n",
    "    \n",
    "    py::buffer_info py_X0_buf = py_X0.request();\n",
    "    auto *X0 = static_cast<int *>(py_X0_buf.ptr);\n",
    "    py::buffer_info py_X1_buf = py_X1.request();\n",
    "    auto *X1 = static_cast<int *>(py_X1_buf.ptr);\n",
    "    py::buffer_info py_X2_buf = py_X2.request();\n",
    "    auto *X2 = static_cast<int *>(py_X2_buf.ptr);\n",
    "    \n",
    "    py::buffer_info py_y_buf = py_y.request();\n",
    "    auto *y = static_cast<int *>(py_y_buf.ptr);\n",
    "    \n",
    "    py::buffer_info py_pseudo_counts_buf = py_pseudo_counts.request();\n",
    "    auto *pseudo_counts = static_cast<double *>(py_pseudo_counts_buf.ptr);\n",
    "    \n",
    "    int contingency_m[kC_Xdim][kC_Xdim][kC_Xdim][kC_ydim] = {};\n",
    "    double contingency_m_y[kC_Xdim][kC_Xdim][kC_Xdim] = {};\n",
    "    \n",
    "    double neg_H = 0., neg_H_X0 = 0., neg_H_X1 = 0., neg_H_X2 = 0.;\n",
    "    \n",
    "    #pragma omp parallel\n",
    "    {\n",
    "    #pragma omp for\n",
    "    for (int data_idx = 0; data_idx < kData_dim; data_idx++) {\n",
    "        #pragma omp atomic\n",
    "            contingency_m[X0[data_idx]][X1[data_idx]][X2[data_idx]][y[data_idx]]++;\n",
    "    }\n",
    "    \n",
    "    #pragma omp for reduction (+: neg_H, neg_H_X0, neg_H_X1, neg_H_X2)\n",
    "    for (int C_Xidx_i = 0; C_Xidx_i < kC_Xdim; C_Xidx_i++) {\n",
    "        for (int C_Xidx_j = 0; C_Xidx_j < kC_Xdim; C_Xidx_j++) {\n",
    "            for (int C_yidx = 0; C_yidx < kC_ydim; C_yidx++) {\n",
    "                double count_X0 = 0;\n",
    "                double count_X1 = 0;\n",
    "                double count_X2 = 0;\n",
    "                for (int C_Xidx_k = 0; C_Xidx_k < kC_Xdim; C_Xidx_k++) {\n",
    "                    double count_ijk = pseudo_counts[C_yidx] + contingency_m[C_Xidx_i][C_Xidx_j][C_Xidx_k][C_yidx];\n",
    "                    count_X0 += pseudo_counts[C_yidx] + contingency_m[C_Xidx_k][C_Xidx_i][C_Xidx_j][C_yidx];\n",
    "                    count_X1 += pseudo_counts[C_yidx] + contingency_m[C_Xidx_i][C_Xidx_k][C_Xidx_j][C_yidx];\n",
    "                    count_X2 += count_ijk;\n",
    "                    contingency_m_y[C_Xidx_i][C_Xidx_j][C_Xidx_k] += count_ijk;\n",
    "                    neg_H += count_ijk * log2(count_ijk);\n",
    "                }\n",
    "                neg_H_X0 += count_X0 * log2(count_X0);\n",
    "                neg_H_X1 += count_X1 * log2(count_X1);\n",
    "                neg_H_X2 += count_X2 * log2(count_X2);\n",
    "            }\n",
    "        }\n",
    "    }\n",
    "\n",
    "    #pragma omp for reduction (+: neg_H, neg_H_X0, neg_H_X1, neg_H_X2)\n",
    "    for (int C_Xidx_i = 0; C_Xidx_i < kC_Xdim; C_Xidx_i++) {\n",
    "        for (int C_Xidx_j = 0; C_Xidx_j < kC_Xdim; C_Xidx_j++) {\n",
    "            double count_X0_y = 0;\n",
    "            double count_X1_y = 0;\n",
    "            double count_X2_y = 0;\n",
    "            for (int C_Xidx_k = 0; C_Xidx_k < kC_Xdim; C_Xidx_k++) {\n",
    "                neg_H -= contingency_m_y[C_Xidx_i][C_Xidx_j][C_Xidx_k] * log2(contingency_m_y[C_Xidx_i][C_Xidx_j][C_Xidx_k]);\n",
    "                count_X0_y += contingency_m_y[C_Xidx_k][C_Xidx_i][C_Xidx_j];\n",
    "                count_X1_y += contingency_m_y[C_Xidx_i][C_Xidx_k][C_Xidx_j];\n",
    "                count_X2_y += contingency_m_y[C_Xidx_i][C_Xidx_j][C_Xidx_k];\n",
    "            }\n",
    "            neg_H_X0 -= count_X0_y * log2(count_X0_y);\n",
    "            neg_H_X1 -= count_X1_y * log2(count_X1_y);\n",
    "            neg_H_X2 -= count_X2_y * log2(count_X2_y);\n",
    "        }\n",
    "    }\n",
    "        \n",
    "    }\n",
    "\n",
    "        \n",
    "    return std::make_tuple(neg_H - neg_H_X0,\n",
    "                           neg_H - neg_H_X1,\n",
    "                           neg_H - neg_H_X2\n",
    "                          );\n",
    "}\n",
    "        \n",
    "\n",
    "PYBIND11_MODULE(fast11, module) {\n",
    "    module.def(\"work_3a\", &work_3a);\n",
    "    module.def(\"work_3b\", &work_3b);\n",
    "    module.def(\"work_3c\", &work_3c);\n",
    "}"
   ]
  },
  {
   "cell_type": "code",
   "execution_count": 2,
   "metadata": {},
   "outputs": [
    {
     "ename": "ImportError",
     "evalue": "dynamic module does not define module export function (PyInit_fast11)",
     "output_type": "error",
     "traceback": [
      "\u001b[0;31m---------------------------------------------------------------------------\u001b[0m",
      "\u001b[0;31mImportError\u001b[0m                               Traceback (most recent call last)",
      "\u001b[0;32m<ipython-input-2-8d7f0b2ea02c>\u001b[0m in \u001b[0;36m<module>\u001b[0;34m()\u001b[0m\n\u001b[1;32m      1\u001b[0m \u001b[0;32mimport\u001b[0m \u001b[0mcppimport\u001b[0m\u001b[0;34m\u001b[0m\u001b[0m\n\u001b[0;32m----> 2\u001b[0;31m \u001b[0mcppimport\u001b[0m\u001b[0;34m.\u001b[0m\u001b[0mimp\u001b[0m\u001b[0;34m(\u001b[0m\u001b[0;34m\"fast11\"\u001b[0m\u001b[0;34m)\u001b[0m\u001b[0;34m\u001b[0m\u001b[0m\n\u001b[0m",
      "\u001b[0;32m~/miniconda3/envs/mpiX4py352/lib/python3.5/site-packages/cppimport/importer.py\u001b[0m in \u001b[0;36mimp\u001b[0;34m(fullname, opt_in)\u001b[0m\n\u001b[1;32m     82\u001b[0m     \u001b[0;31m# Search through sys.path to find a file that matches the module\u001b[0m\u001b[0;34m\u001b[0m\u001b[0;34m\u001b[0m\u001b[0m\n\u001b[1;32m     83\u001b[0m     \u001b[0mfilepath\u001b[0m \u001b[0;34m=\u001b[0m \u001b[0mcppimport\u001b[0m\u001b[0;34m.\u001b[0m\u001b[0mfind\u001b[0m\u001b[0;34m.\u001b[0m\u001b[0mfind_module_cpppath\u001b[0m\u001b[0;34m(\u001b[0m\u001b[0mfullname\u001b[0m\u001b[0;34m,\u001b[0m \u001b[0mopt_in\u001b[0m\u001b[0;34m)\u001b[0m\u001b[0;34m\u001b[0m\u001b[0m\n\u001b[0;32m---> 84\u001b[0;31m     \u001b[0;32mreturn\u001b[0m \u001b[0mimp_from_filepath\u001b[0m\u001b[0;34m(\u001b[0m\u001b[0mfilepath\u001b[0m\u001b[0;34m,\u001b[0m \u001b[0mfullname\u001b[0m\u001b[0;34m)\u001b[0m\u001b[0;34m\u001b[0m\u001b[0m\n\u001b[0m\u001b[1;32m     85\u001b[0m \u001b[0;34m\u001b[0m\u001b[0m\n\u001b[1;32m     86\u001b[0m \u001b[0;32mdef\u001b[0m \u001b[0mbuild\u001b[0m\u001b[0;34m(\u001b[0m\u001b[0mfullname\u001b[0m\u001b[0;34m)\u001b[0m\u001b[0;34m:\u001b[0m\u001b[0;34m\u001b[0m\u001b[0m\n",
      "\u001b[0;32m~/miniconda3/envs/mpiX4py352/lib/python3.5/site-packages/cppimport/importer.py\u001b[0m in \u001b[0;36mimp_from_filepath\u001b[0;34m(filepath, fullname)\u001b[0m\n\u001b[1;32m     76\u001b[0m     \u001b[0;32mif\u001b[0m \u001b[0;32mnot\u001b[0m \u001b[0mcheck_checksum\u001b[0m\u001b[0;34m(\u001b[0m\u001b[0mmodule_data\u001b[0m\u001b[0;34m)\u001b[0m \u001b[0;32mor\u001b[0m \u001b[0;32mnot\u001b[0m \u001b[0mtry_load\u001b[0m\u001b[0;34m(\u001b[0m\u001b[0mmodule_data\u001b[0m\u001b[0;34m)\u001b[0m\u001b[0;34m:\u001b[0m\u001b[0;34m\u001b[0m\u001b[0m\n\u001b[1;32m     77\u001b[0m         \u001b[0mtemplate_and_build\u001b[0m\u001b[0;34m(\u001b[0m\u001b[0mfilepath\u001b[0m\u001b[0;34m,\u001b[0m \u001b[0mmodule_data\u001b[0m\u001b[0;34m)\u001b[0m\u001b[0;34m\u001b[0m\u001b[0m\n\u001b[0;32m---> 78\u001b[0;31m         \u001b[0mload_module\u001b[0m\u001b[0;34m(\u001b[0m\u001b[0mmodule_data\u001b[0m\u001b[0;34m)\u001b[0m\u001b[0;34m\u001b[0m\u001b[0m\n\u001b[0m\u001b[1;32m     79\u001b[0m     \u001b[0;32mreturn\u001b[0m \u001b[0mmodule_data\u001b[0m\u001b[0;34m[\u001b[0m\u001b[0;34m'module'\u001b[0m\u001b[0;34m]\u001b[0m\u001b[0;34m\u001b[0m\u001b[0m\n\u001b[1;32m     80\u001b[0m \u001b[0;34m\u001b[0m\u001b[0m\n",
      "\u001b[0;32m~/miniconda3/envs/mpiX4py352/lib/python3.5/site-packages/cppimport/importer.py\u001b[0m in \u001b[0;36mload_module\u001b[0;34m(module_data)\u001b[0m\n\u001b[1;32m     39\u001b[0m         \u001b[0mnew_flags\u001b[0m \u001b[0;34m=\u001b[0m \u001b[0mold_flags\u001b[0m \u001b[0;34m|\u001b[0m \u001b[0mcppimport\u001b[0m\u001b[0;34m.\u001b[0m\u001b[0mconfig\u001b[0m\u001b[0;34m.\u001b[0m\u001b[0mrtld_flags\u001b[0m\u001b[0;34m\u001b[0m\u001b[0m\n\u001b[1;32m     40\u001b[0m         \u001b[0msys\u001b[0m\u001b[0;34m.\u001b[0m\u001b[0msetdlopenflags\u001b[0m\u001b[0;34m(\u001b[0m\u001b[0mnew_flags\u001b[0m\u001b[0;34m)\u001b[0m\u001b[0;34m\u001b[0m\u001b[0m\n\u001b[0;32m---> 41\u001b[0;31m         \u001b[0m_load_module\u001b[0m\u001b[0;34m(\u001b[0m\u001b[0mmodule_data\u001b[0m\u001b[0;34m)\u001b[0m\u001b[0;34m\u001b[0m\u001b[0m\n\u001b[0m\u001b[1;32m     42\u001b[0m         \u001b[0msys\u001b[0m\u001b[0;34m.\u001b[0m\u001b[0msetdlopenflags\u001b[0m\u001b[0;34m(\u001b[0m\u001b[0mold_flags\u001b[0m\u001b[0;34m)\u001b[0m\u001b[0;34m\u001b[0m\u001b[0m\n\u001b[1;32m     43\u001b[0m     \u001b[0;32melse\u001b[0m\u001b[0;34m:\u001b[0m\u001b[0;34m\u001b[0m\u001b[0m\n",
      "\u001b[0;32m~/miniconda3/envs/mpiX4py352/lib/python3.5/site-packages/cppimport/importer.py\u001b[0m in \u001b[0;36m_load_module\u001b[0;34m(module_data)\u001b[0m\n\u001b[1;32m     32\u001b[0m \u001b[0;34m\u001b[0m\u001b[0m\n\u001b[1;32m     33\u001b[0m \u001b[0;32mdef\u001b[0m \u001b[0m_load_module\u001b[0m\u001b[0;34m(\u001b[0m\u001b[0mmodule_data\u001b[0m\u001b[0;34m)\u001b[0m\u001b[0;34m:\u001b[0m\u001b[0;34m\u001b[0m\u001b[0m\n\u001b[0;32m---> 34\u001b[0;31m     \u001b[0mmodule_data\u001b[0m\u001b[0;34m[\u001b[0m\u001b[0;34m'module'\u001b[0m\u001b[0;34m]\u001b[0m \u001b[0;34m=\u001b[0m \u001b[0mimportlib\u001b[0m\u001b[0;34m.\u001b[0m\u001b[0mimport_module\u001b[0m\u001b[0;34m(\u001b[0m\u001b[0mmodule_data\u001b[0m\u001b[0;34m[\u001b[0m\u001b[0;34m'fullname'\u001b[0m\u001b[0;34m]\u001b[0m\u001b[0;34m)\u001b[0m\u001b[0;34m\u001b[0m\u001b[0m\n\u001b[0m\u001b[1;32m     35\u001b[0m \u001b[0;34m\u001b[0m\u001b[0m\n\u001b[1;32m     36\u001b[0m \u001b[0;32mdef\u001b[0m \u001b[0mload_module\u001b[0m\u001b[0;34m(\u001b[0m\u001b[0mmodule_data\u001b[0m\u001b[0;34m)\u001b[0m\u001b[0;34m:\u001b[0m\u001b[0;34m\u001b[0m\u001b[0m\n",
      "\u001b[0;32m~/miniconda3/envs/mpiX4py352/lib/python3.5/importlib/__init__.py\u001b[0m in \u001b[0;36mimport_module\u001b[0;34m(name, package)\u001b[0m\n\u001b[1;32m    124\u001b[0m                 \u001b[0;32mbreak\u001b[0m\u001b[0;34m\u001b[0m\u001b[0m\n\u001b[1;32m    125\u001b[0m             \u001b[0mlevel\u001b[0m \u001b[0;34m+=\u001b[0m \u001b[0;36m1\u001b[0m\u001b[0;34m\u001b[0m\u001b[0m\n\u001b[0;32m--> 126\u001b[0;31m     \u001b[0;32mreturn\u001b[0m \u001b[0m_bootstrap\u001b[0m\u001b[0;34m.\u001b[0m\u001b[0m_gcd_import\u001b[0m\u001b[0;34m(\u001b[0m\u001b[0mname\u001b[0m\u001b[0;34m[\u001b[0m\u001b[0mlevel\u001b[0m\u001b[0;34m:\u001b[0m\u001b[0;34m]\u001b[0m\u001b[0;34m,\u001b[0m \u001b[0mpackage\u001b[0m\u001b[0;34m,\u001b[0m \u001b[0mlevel\u001b[0m\u001b[0;34m)\u001b[0m\u001b[0;34m\u001b[0m\u001b[0m\n\u001b[0m\u001b[1;32m    127\u001b[0m \u001b[0;34m\u001b[0m\u001b[0m\n\u001b[1;32m    128\u001b[0m \u001b[0;34m\u001b[0m\u001b[0m\n",
      "\u001b[0;32m~/miniconda3/envs/mpiX4py352/lib/python3.5/importlib/_bootstrap.py\u001b[0m in \u001b[0;36m_gcd_import\u001b[0;34m(name, package, level)\u001b[0m\n",
      "\u001b[0;32m~/miniconda3/envs/mpiX4py352/lib/python3.5/importlib/_bootstrap.py\u001b[0m in \u001b[0;36m_find_and_load\u001b[0;34m(name, import_)\u001b[0m\n",
      "\u001b[0;32m~/miniconda3/envs/mpiX4py352/lib/python3.5/importlib/_bootstrap.py\u001b[0m in \u001b[0;36m_find_and_load_unlocked\u001b[0;34m(name, import_)\u001b[0m\n",
      "\u001b[0;32m~/miniconda3/envs/mpiX4py352/lib/python3.5/importlib/_bootstrap.py\u001b[0m in \u001b[0;36m_load_unlocked\u001b[0;34m(spec)\u001b[0m\n",
      "\u001b[0;32m~/miniconda3/envs/mpiX4py352/lib/python3.5/importlib/_bootstrap.py\u001b[0m in \u001b[0;36mmodule_from_spec\u001b[0;34m(spec)\u001b[0m\n",
      "\u001b[0;32m~/miniconda3/envs/mpiX4py352/lib/python3.5/importlib/_bootstrap_external.py\u001b[0m in \u001b[0;36mcreate_module\u001b[0;34m(self, spec)\u001b[0m\n",
      "\u001b[0;32m~/miniconda3/envs/mpiX4py352/lib/python3.5/importlib/_bootstrap.py\u001b[0m in \u001b[0;36m_call_with_frames_removed\u001b[0;34m(f, *args, **kwds)\u001b[0m\n",
      "\u001b[0;31mImportError\u001b[0m: dynamic module does not define module export function (PyInit_fast11)"
     ]
    }
   ],
   "source": [
    "import cppimport\n",
    "cppimport.imp(\"fast11\")"
   ]
  },
  {
   "cell_type": "code",
   "execution_count": null,
   "metadata": {},
   "outputs": [],
   "source": []
  }
 ],
 "metadata": {
  "kernelspec": {
   "display_name": "Python 3",
   "language": "python",
   "name": "python3"
  },
  "language_info": {
   "codemirror_mode": {
    "name": "ipython",
    "version": 3
   },
   "file_extension": ".py",
   "mimetype": "text/x-python",
   "name": "python",
   "nbconvert_exporter": "python",
   "pygments_lexer": "ipython3",
   "version": "3.5.2"
  }
 },
 "nbformat": 4,
 "nbformat_minor": 2
}
