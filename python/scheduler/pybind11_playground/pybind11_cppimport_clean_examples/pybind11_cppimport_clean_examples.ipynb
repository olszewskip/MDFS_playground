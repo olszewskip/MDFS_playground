{
 "cells": [
  {
   "cell_type": "markdown",
   "metadata": {},
   "source": [
    "```\n",
    ">>> pip install pybind11\n",
    ">>> pip install cppimport\n",
    "```"
   ]
  },
  {
   "cell_type": "markdown",
   "metadata": {},
   "source": [
    "---\n",
    "1.\n",
    "* Simplest module.\n",
    "* Example of a python-print from cpp (this dos not work with openmp)."
   ]
  },
  {
   "cell_type": "code",
   "execution_count": 1,
   "metadata": {},
   "outputs": [
    {
     "name": "stdout",
     "output_type": "stream",
     "text": [
      "Overwriting greet.cpp\n"
     ]
    }
   ],
   "source": [
    "%%writefile greet.cpp\n",
    "/*\n",
    "<%\n",
    "setup_pybind11(cfg)\n",
    "%>\n",
    "*/\n",
    "\n",
    "#include <pybind11/pybind11.h>\n",
    "\n",
    "namespace py = pybind11;\n",
    "\n",
    "void sayhi() {\n",
    "    py::print(\"hi!\");\n",
    "}\n",
    "        \n",
    "PYBIND11_MODULE(greet, module) {\n",
    "    module.def(\"sayhi\", &sayhi);\n",
    "}"
   ]
  },
  {
   "cell_type": "code",
   "execution_count": 4,
   "metadata": {},
   "outputs": [],
   "source": [
    "import cppimport\n",
    "greet = cppimport.imp(\"greet\")"
   ]
  },
  {
   "cell_type": "code",
   "execution_count": 5,
   "metadata": {},
   "outputs": [
    {
     "name": "stdout",
     "output_type": "stream",
     "text": [
      "hi!\n"
     ]
    }
   ],
   "source": [
    "greet.sayhi()"
   ]
  },
  {
   "cell_type": "markdown",
   "metadata": {},
   "source": [
    "---\n",
    "2.\n",
    "* Separate files\n",
    "* Basic function documentation\n",
    "* Named arguments, default argument values"
   ]
  },
  {
   "cell_type": "code",
   "execution_count": 9,
   "metadata": {},
   "outputs": [
    {
     "name": "stdout",
     "output_type": "stream",
     "text": [
      "Writing my_math.hpp\n"
     ]
    }
   ],
   "source": [
    "%%writefile my_math.hpp\n",
    "\n",
    "int add(int i, int j);\n",
    "int multiply(int i, int j);"
   ]
  },
  {
   "cell_type": "code",
   "execution_count": 10,
   "metadata": {},
   "outputs": [
    {
     "name": "stdout",
     "output_type": "stream",
     "text": [
      "Writing my_math.cpp\n"
     ]
    }
   ],
   "source": [
    "%%writefile my_math.cpp\n",
    "\n",
    "int add(int i, int j) {\n",
    "    return i + j;\n",
    "};\n",
    "\n",
    "int multiply(int i, int j) {\n",
    "    return i * j;\n",
    "};"
   ]
  },
  {
   "cell_type": "code",
   "execution_count": 4,
   "metadata": {},
   "outputs": [
    {
     "name": "stdout",
     "output_type": "stream",
     "text": [
      "Overwriting wrap_my_math.cpp\n"
     ]
    }
   ],
   "source": [
    "%%writefile wrap_my_math.cpp\n",
    "/*\n",
    "<%\n",
    "setup_pybind11(cfg)\n",
    "cfg['linker_args'] = ['my_math.cpp']\n",
    "%>\n",
    "*/\n",
    "\n",
    "#include <pybind11/pybind11.h>\n",
    "#include \"my_math.hpp\"\n",
    "\n",
    "namespace py = pybind11;\n",
    "using namespace pybind11::literals;\n",
    "\n",
    "PYBIND11_MODULE(wrap_my_math, m) {\n",
    "    m.doc() = \"The best mathematical library in the universe\";\n",
    "    m.def(\"add\", &add, \"A function which adds two numbers\", \"i\"_a, \"j\"_a=0);\n",
    "    m.def(\"multiply\", &multiply, \"A function which multiplies two numbers\", \"i\"_a, \"j\"_a=1);\n",
    "}"
   ]
  },
  {
   "cell_type": "code",
   "execution_count": 1,
   "metadata": {},
   "outputs": [],
   "source": [
    "import cppimport\n",
    "wrap_my_math = cppimport.imp(\"wrap_my_math\")"
   ]
  },
  {
   "cell_type": "code",
   "execution_count": 3,
   "metadata": {},
   "outputs": [
    {
     "data": {
      "text/plain": [
       "4"
      ]
     },
     "execution_count": 3,
     "metadata": {},
     "output_type": "execute_result"
    }
   ],
   "source": [
    "wrap_my_math.add(4)"
   ]
  },
  {
   "cell_type": "code",
   "execution_count": 2,
   "metadata": {},
   "outputs": [
    {
     "name": "stdout",
     "output_type": "stream",
     "text": [
      "Help on module wrap_my_math:\n",
      "\n",
      "NAME\n",
      "    wrap_my_math - The best mathematical library in the universe\n",
      "\n",
      "FUNCTIONS\n",
      "    add(...) method of builtins.PyCapsule instance\n",
      "        add(i: int, j: int=0) -> int\n",
      "        \n",
      "        A function which adds two numbers\n",
      "    \n",
      "    multiply(...) method of builtins.PyCapsule instance\n",
      "        multiply(i: int, j: int=1) -> int\n",
      "        \n",
      "        A function which multiplies two numbers\n",
      "\n",
      "FILE\n",
      "    /home/olszewskip/Desktop/git-repos/MDFS_playground/python/scheduler/pybind11_example1/pybind11_cppimport_clean_examples/wrap_my_math.cpython-35m-x86_64-linux-gnu.so\n",
      "\n",
      "\n"
     ]
    }
   ],
   "source": [
    "help(wrap_my_math)"
   ]
  },
  {
   "cell_type": "markdown",
   "metadata": {},
   "source": [
    "---\n",
    "3.\n",
    "\n",
    "* Parallel hello-world via openmp from cpp"
   ]
  },
  {
   "cell_type": "code",
   "execution_count": 3,
   "metadata": {},
   "outputs": [
    {
     "name": "stdout",
     "output_type": "stream",
     "text": [
      "Overwriting my_pi.cpp\n"
     ]
    }
   ],
   "source": [
    "%%writefile my_pi.cpp\n",
    "/*\n",
    "<%\n",
    "cfg['compiler_args'] = ['-fopenmp']\n",
    "cfg['linker_args'] = ['-fopenmp']\n",
    "setup_pybind11(cfg)\n",
    "%>\n",
    "*/\n",
    "\n",
    "#include <omp.h>\n",
    "#include <pybind11/pybind11.h>\n",
    "\n",
    "namespace py = pybind11;\n",
    "\n",
    "\n",
    "double sequential(int n) {\n",
    "    \n",
    "    double step = 1.0 / n;\n",
    "    double pi = 0;\n",
    "\n",
    "    double x;\n",
    "    for(int i = 0 ; i < n ; i++){\n",
    "        x = (i + 0.5) * step;\n",
    "        pi += 4.0 / (1 + x*x);\n",
    "    }\n",
    "    \n",
    "    pi *= step;\n",
    "    return pi;\n",
    "}\n",
    "\n",
    "#define NUM_THREADS 2\n",
    "\n",
    "double parallel(int n) {\n",
    "    \n",
    "    double step = 1.0 / n;\n",
    "    double pi = 0;\n",
    "\n",
    "    omp_set_num_threads(NUM_THREADS);\n",
    "    #pragma omp parallel\n",
    "    {\n",
    "        double x;\n",
    "        #pragma omp for reduction(+:pi)\n",
    "        for(int i = 0 ; i < n ; i++){\n",
    "            x = (i + 0.5) * step;\n",
    "            pi += 4.0 / (1 + x*x);\n",
    "        }\n",
    "    }    \n",
    "    \n",
    "    pi *= step;\n",
    "    return pi;\n",
    "}\n",
    "\n",
    "\n",
    "PYBIND11_MODULE(my_pi, m) {\n",
    "    m.def(\"sequential\", &sequential);\n",
    "    m.def(\"parallel\", &parallel);\n",
    "}"
   ]
  },
  {
   "cell_type": "code",
   "execution_count": 1,
   "metadata": {},
   "outputs": [],
   "source": [
    "import cppimport\n",
    "my_pi = cppimport.imp(\"my_pi\")"
   ]
  },
  {
   "cell_type": "code",
   "execution_count": 2,
   "metadata": {},
   "outputs": [
    {
     "name": "stdout",
     "output_type": "stream",
     "text": [
      "3.1415927369231227\n",
      "3.1415927369231276\n"
     ]
    }
   ],
   "source": [
    "print(my_pi.sequential(1000))\n",
    "print(my_pi.parallel(1000))"
   ]
  },
  {
   "cell_type": "code",
   "execution_count": 3,
   "metadata": {},
   "outputs": [
    {
     "name": "stdout",
     "output_type": "stream",
     "text": [
      "4.7 µs ± 36.9 ns per loop (mean ± std. dev. of 7 runs, 100000 loops each)\n"
     ]
    }
   ],
   "source": [
    "%%timeit\n",
    "my_pi.sequential(1000)"
   ]
  },
  {
   "cell_type": "code",
   "execution_count": 2,
   "metadata": {},
   "outputs": [
    {
     "name": "stdout",
     "output_type": "stream",
     "text": [
      "3.62 µs ± 154 ns per loop (mean ± std. dev. of 7 runs, 100000 loops each)\n"
     ]
    }
   ],
   "source": [
    "%%timeit\n",
    "my_pi.parallel(1000)"
   ]
  },
  {
   "cell_type": "markdown",
   "metadata": {},
   "source": [
    "---\n",
    "4.\n",
    "\n",
    "* Display information about the buffer passed from python to cpp\n",
    "* Infering the length seems awkward\n",
    "* Notice the need to include *pybind11/numpy.h*"
   ]
  },
  {
   "cell_type": "code",
   "execution_count": 1,
   "metadata": {},
   "outputs": [
    {
     "name": "stdout",
     "output_type": "stream",
     "text": [
      "Overwriting buffer_info.cpp\n"
     ]
    }
   ],
   "source": [
    "%%writefile buffer_info.cpp\n",
    "/*\n",
    "<%\n",
    "setup_pybind11(cfg)\n",
    "%>\n",
    "*/\n",
    "\n",
    "#include <pybind11/pybind11.h>\n",
    "#include <pybind11/numpy.h>\n",
    "\n",
    "namespace py = pybind11;\n",
    "\n",
    "void print_info(py::array_t<int> input, uint8_t num) {\n",
    "    \n",
    "    py::buffer_info buf = input.request();\n",
    "    py::print(\"ptr:\", buf.ptr);\n",
    "    py::print(\"itemsize:\", buf.itemsize);\n",
    "    py::print(\"format:\", buf.format);\n",
    "    py::print(\"ndim:\", buf.ndim);\n",
    "    for (int i = 0; i < buf.shape.size(); i++) {\n",
    "      py::print(i, \"shape:\", buf.shape[i]);\n",
    "    }\n",
    "    for (int i = 0; i < buf.strides.size(); i++) {\n",
    "      py::print(i, \"stride:\", buf.strides[i]);\n",
    "    }\n",
    "    \n",
    "    uint8_t *ptr = (uint8_t *) buf.ptr;\n",
    "    int element_count = 1;\n",
    "    for (auto r: buf.shape) {\n",
    "      element_count *= r;\n",
    "    }\n",
    "    for (int i = 0; i < element_count; i++) {\n",
    "        py::print(i, \"element:\", *ptr++);\n",
    "    }\n",
    "    \n",
    "    py::print(\"number\", num, \"fit into type of size\", sizeof(num));\n",
    "\n",
    "}\n",
    "        \n",
    "PYBIND11_MODULE(buffer_info, module) {\n",
    "    module.def(\"print_info\", &print_info);\n",
    "}"
   ]
  },
  {
   "cell_type": "code",
   "execution_count": 2,
   "metadata": {},
   "outputs": [],
   "source": [
    "import cppimport\n",
    "buffer_info = cppimport.imp(\"buffer_info\")"
   ]
  },
  {
   "cell_type": "code",
   "execution_count": 3,
   "metadata": {},
   "outputs": [
    {
     "data": {
      "text/plain": [
       "  C_CONTIGUOUS : True\n",
       "  F_CONTIGUOUS : False\n",
       "  OWNDATA : True\n",
       "  WRITEABLE : True\n",
       "  ALIGNED : True\n",
       "  UPDATEIFCOPY : False"
      ]
     },
     "execution_count": 3,
     "metadata": {},
     "output_type": "execute_result"
    }
   ],
   "source": [
    "import numpy as np\n",
    "arr = np.array([[1,2,3], [6,5,4]], dtype='int32')\n",
    "arr.flags"
   ]
  },
  {
   "cell_type": "code",
   "execution_count": 4,
   "metadata": {},
   "outputs": [
    {
     "name": "stdout",
     "output_type": "stream",
     "text": [
      "ptr: <capsule object NULL at 0x7eff500a97b0>\n",
      "itemsize: 4\n",
      "format: i\n",
      "ndim: 2\n",
      "0 shape: 2\n",
      "1 shape: 3\n",
      "0 stride: 12\n",
      "1 stride: 4\n",
      "0 element: 1\n",
      "1 element: 0\n",
      "2 element: 0\n",
      "3 element: 0\n",
      "4 element: 2\n",
      "5 element: 0\n",
      "number 255 fit into type of size 1\n"
     ]
    }
   ],
   "source": [
    "buffer_info.print_info(arr, 255)"
   ]
  },
  {
   "cell_type": "markdown",
   "metadata": {},
   "source": [
    "---\n",
    "5.\n",
    "\n",
    "* Update a numpy array from cpp\n",
    "* The dtype int c type need to matched by hand (*int -> np.dtype('int32'), double -> np.dtype('float64')*)"
   ]
  },
  {
   "cell_type": "code",
   "execution_count": 5,
   "metadata": {},
   "outputs": [
    {
     "name": "stdout",
     "output_type": "stream",
     "text": [
      "Overwriting inplace.cpp\n"
     ]
    }
   ],
   "source": [
    "%%writefile inplace.cpp\n",
    "/*\n",
    "<%\n",
    "setup_pybind11(cfg)\n",
    "%>\n",
    "*/\n",
    "#include <pybind11/pybind11.h>\n",
    "#include <pybind11/numpy.h>\n",
    "namespace py = pybind11;\n",
    "\n",
    "void twice(py::array_t<double> input) {\n",
    "    \n",
    "    py::buffer_info buf = input.request();\n",
    "    auto *ptr = (double *) buf.ptr;\n",
    "    \n",
    "    int element_count = 1;\n",
    "    for (auto r: buf.shape) {\n",
    "      element_count *= r;\n",
    "    }\n",
    "    \n",
    "    for (int i = 0; i < element_count; i++) {\n",
    "        *ptr++ *= 2;\n",
    "    }\n",
    "}\n",
    "        \n",
    "PYBIND11_MODULE(inplace, module) {\n",
    "    module.def(\"twice\", &twice);\n",
    "}"
   ]
  },
  {
   "cell_type": "code",
   "execution_count": 1,
   "metadata": {},
   "outputs": [],
   "source": [
    "import cppimport\n",
    "inplace = cppimport.imp(\"inplace\")"
   ]
  },
  {
   "cell_type": "code",
   "execution_count": 2,
   "metadata": {},
   "outputs": [
    {
     "data": {
      "text/plain": [
       "array([[ 0.66468419,  0.68114818],\n",
       "       [ 0.44617756,  0.42648686],\n",
       "       [ 0.74013229,  0.53455372]])"
      ]
     },
     "execution_count": 2,
     "metadata": {},
     "output_type": "execute_result"
    }
   ],
   "source": [
    "import numpy as np\n",
    "my_array = np.random.rand(3, 2)\n",
    "my_array"
   ]
  },
  {
   "cell_type": "code",
   "execution_count": 3,
   "metadata": {},
   "outputs": [
    {
     "data": {
      "text/plain": [
       "array([[ 1.32936839,  1.36229637],\n",
       "       [ 0.89235513,  0.85297372],\n",
       "       [ 1.48026457,  1.06910745]])"
      ]
     },
     "execution_count": 3,
     "metadata": {},
     "output_type": "execute_result"
    }
   ],
   "source": [
    "inplace.twice(my_array)\n",
    "my_array"
   ]
  },
  {
   "cell_type": "markdown",
   "metadata": {},
   "source": [
    "---\n",
    "6.\n",
    "\n",
    "* Scalar product of two arrays from python via openmp in cpp"
   ]
  },
  {
   "cell_type": "code",
   "execution_count": 1,
   "metadata": {},
   "outputs": [
    {
     "name": "stdout",
     "output_type": "stream",
     "text": [
      "Overwriting dummy_work1.cpp\n"
     ]
    }
   ],
   "source": [
    "%%writefile dummy_work1.cpp\n",
    "/*\n",
    "<%\n",
    "setup_pybind11(cfg)\n",
    "cfg['compiler_args'] = ['-fopenmp']\n",
    "cfg['linker_args'] = ['-fopenmp']\n",
    "%>\n",
    "*/\n",
    "#include <omp.h>\n",
    "#include <pybind11/pybind11.h>\n",
    "#include <pybind11/numpy.h>\n",
    "\n",
    "namespace py = pybind11;\n",
    "\n",
    "#define NUM_THREADS 2\n",
    "\n",
    "double scalar_prod(py::array_t<double> input1, py::array_t<double> input2){\n",
    "    \n",
    "    py::buffer_info buf1 = input1.request();\n",
    "    py::buffer_info buf2 = input2.request();\n",
    "    auto *ptr1 = (double *) buf1.ptr;\n",
    "    auto *ptr2 = (double *) buf2.ptr;\n",
    "    \n",
    "    int element_count = 1;\n",
    "    for (auto r: buf1.shape) {\n",
    "      element_count *= r;\n",
    "    }\n",
    "    \n",
    "    omp_set_num_threads(NUM_THREADS);\n",
    "    \n",
    "    double prod = 0.;\n",
    "    \n",
    "    int nthreads;\n",
    "    #pragma omp parallel\n",
    "    {\n",
    "        int nthrds = omp_get_num_threads();\n",
    "        int id = omp_get_thread_num();\n",
    "        if (id==0) nthreads = nthrds;\n",
    "        \n",
    "        #pragma omp for reduction(+:prod)\n",
    "        for (int i = 0; i < element_count; i++) {\n",
    "            prod += ptr1[i] * ptr2[i];\n",
    "        }\n",
    "    }\n",
    "    \n",
    "    py::print(\"I got\", nthreads, \"threads!\");\n",
    "    \n",
    "    return prod;\n",
    "}\n",
    "        \n",
    "PYBIND11_MODULE(dummy_work1, module) {\n",
    "    module.def(\"scalar_prod\", &scalar_prod);\n",
    "}"
   ]
  },
  {
   "cell_type": "code",
   "execution_count": 2,
   "metadata": {},
   "outputs": [],
   "source": [
    "import cppimport\n",
    "dummy_work1 = cppimport.imp(\"dummy_work1\")"
   ]
  },
  {
   "cell_type": "code",
   "execution_count": 3,
   "metadata": {},
   "outputs": [],
   "source": [
    "N = 100\n",
    "\n",
    "import numpy as np\n",
    "np.random.seed(123)\n",
    "my_array1 = np.random.rand(2 * N, N)\n",
    "my_array2 = np.random.rand(2 * N, N)"
   ]
  },
  {
   "cell_type": "code",
   "execution_count": 4,
   "metadata": {},
   "outputs": [
    {
     "name": "stdout",
     "output_type": "stream",
     "text": [
      "5005.30781325\n",
      "I got 2 threads!\n",
      "5005.307813249297\n"
     ]
    }
   ],
   "source": [
    "print(np.sum(my_array1 * my_array2))\n",
    "print(dummy_work1.scalar_prod(my_array1, my_array2))"
   ]
  },
  {
   "cell_type": "code",
   "execution_count": 4,
   "metadata": {},
   "outputs": [
    {
     "name": "stdout",
     "output_type": "stream",
     "text": [
      "26.8 µs ± 370 ns per loop (mean ± std. dev. of 7 runs, 10000 loops each)\n"
     ]
    }
   ],
   "source": [
    "%%timeit\n",
    "np.sum(my_array1 * my_array2)"
   ]
  },
  {
   "cell_type": "code",
   "execution_count": 4,
   "metadata": {},
   "outputs": [
    {
     "name": "stdout",
     "output_type": "stream",
     "text": [
      "21.8 µs ± 237 ns per loop (mean ± std. dev. of 7 runs, 10000 loops each)\n"
     ]
    }
   ],
   "source": [
    "%%timeit\n",
    "dummy_work1.scalar_prod(my_array1, my_array2) # NUM_THREADS 1"
   ]
  },
  {
   "cell_type": "code",
   "execution_count": 5,
   "metadata": {},
   "outputs": [
    {
     "name": "stdout",
     "output_type": "stream",
     "text": [
      "13.4 µs ± 413 ns per loop (mean ± std. dev. of 7 runs, 100000 loops each)\n"
     ]
    }
   ],
   "source": [
    "%%timeit\n",
    "dummy_work1.scalar_prod(my_array1, my_array2) # NUM_THREADS 2"
   ]
  },
  {
   "cell_type": "markdown",
   "metadata": {},
   "source": [
    "---\n",
    "7.\n",
    "\n",
    "* mpi4py + openmp from cpp\n",
    "* uses the module from last section and repeats the summation that was done there"
   ]
  },
  {
   "cell_type": "code",
   "execution_count": 1,
   "metadata": {},
   "outputs": [],
   "source": [
    "import numpy as np"
   ]
  },
  {
   "cell_type": "code",
   "execution_count": 6,
   "metadata": {},
   "outputs": [
    {
     "data": {
      "text/plain": [
       "array([[  6.91463669e-310,   6.91463669e-310],\n",
       "       [  6.91463762e-310,   6.91460780e-310],\n",
       "       [  6.91463759e-310,   6.91460783e-310],\n",
       "       [  6.91463762e-310,   6.91460780e-310],\n",
       "       [  6.91463759e-310,   6.91460781e-310]])"
      ]
     },
     "execution_count": 6,
     "metadata": {},
     "output_type": "execute_result"
    }
   ],
   "source": [
    "np.empty((5, 2))"
   ]
  },
  {
   "cell_type": "code",
   "execution_count": 9,
   "metadata": {},
   "outputs": [
    {
     "name": "stdout",
     "output_type": "stream",
     "text": [
      "Overwriting parallel_dummy_work1.py\n"
     ]
    }
   ],
   "source": [
    "%%writefile parallel_dummy_work1.py\n",
    "import numpy as np\n",
    "import cppimport\n",
    "dummy_work1 = cppimport.imp(\"dummy_work1\")\n",
    "\n",
    "from mpi4py import MPI\n",
    "comm = MPI.COMM_WORLD\n",
    "comm.Barrier()\n",
    "time0 = MPI.Wtime()\n",
    "size = comm.Get_size()\n",
    "rank = comm.Get_rank()\n",
    "\n",
    "N = 7000\n",
    "N_part = N // size\n",
    "\n",
    "if rank == 0:\n",
    "    np.random.seed(123)\n",
    "    array1 = np.random.rand(2 * N, N)\n",
    "    array2 = np.random.rand(2 * N, N)\n",
    "else:\n",
    "    array1 = None\n",
    "    array2 = None\n",
    "    \n",
    "array1_part = np.empty((2 * N_part, N))\n",
    "array2_part = np.empty((2 * N_part, N))\n",
    "\n",
    "comm.Scatter(array1, array1_part, root=0)\n",
    "comm.Scatter(array2, array2_part, root=0)\n",
    "\n",
    "prod = np.empty(1)\n",
    "prod_part = np.array(dummy_work1.scalar_prod(array1_part, array2_part))\n",
    "\n",
    "comm.Reduce(prod_part, prod, root=0)\n",
    "\n",
    "if rank == 0:\n",
    "    print(prod[0])\n"
   ]
  },
  {
   "cell_type": "code",
   "execution_count": 13,
   "metadata": {},
   "outputs": [
    {
     "name": "stdout",
     "output_type": "stream",
     "text": [
      "I got 2 threads!\n",
      "24495333.7661\n"
     ]
    }
   ],
   "source": [
    "%%bash\n",
    "mpirun -n 1 python parallel_dummy_work1.py"
   ]
  },
  {
   "cell_type": "code",
   "execution_count": 12,
   "metadata": {},
   "outputs": [
    {
     "name": "stdout",
     "output_type": "stream",
     "text": [
      "I got 2 threads!\n",
      "I got 2 threads!\n",
      "24495333.7661\n"
     ]
    }
   ],
   "source": [
    "%%bash\n",
    "mpirun -n 2 python parallel_dummy_work1.py"
   ]
  },
  {
   "cell_type": "code",
   "execution_count": null,
   "metadata": {},
   "outputs": [],
   "source": []
  }
 ],
 "metadata": {
  "kernelspec": {
   "display_name": "Python 3",
   "language": "python",
   "name": "python3"
  },
  "language_info": {
   "codemirror_mode": {
    "name": "ipython",
    "version": 3
   },
   "file_extension": ".py",
   "mimetype": "text/x-python",
   "name": "python",
   "nbconvert_exporter": "python",
   "pygments_lexer": "ipython3",
   "version": "3.5.2"
  }
 },
 "nbformat": 4,
 "nbformat_minor": 2
}
