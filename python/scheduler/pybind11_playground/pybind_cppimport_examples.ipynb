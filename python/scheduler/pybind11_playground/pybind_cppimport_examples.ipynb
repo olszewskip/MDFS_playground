{
 "cells": [
  {
   "cell_type": "code",
   "execution_count": 6,
   "metadata": {},
   "outputs": [
    {
     "name": "stdout",
     "output_type": "stream",
     "text": [
      "Overwriting funcs.hpp\n"
     ]
    }
   ],
   "source": [
    "%%writefile funcs.hpp\n",
    "\n",
    "int add(int i, int j);"
   ]
  },
  {
   "cell_type": "code",
   "execution_count": 7,
   "metadata": {},
   "outputs": [
    {
     "name": "stdout",
     "output_type": "stream",
     "text": [
      "Overwriting funcs.cpp\n"
     ]
    }
   ],
   "source": [
    "%%writefile funcs.cpp\n",
    "\n",
    "int add(int i, int j) {\n",
    "    return i + j;\n",
    "};"
   ]
  },
  {
   "cell_type": "code",
   "execution_count": 8,
   "metadata": {},
   "outputs": [
    {
     "name": "stdout",
     "output_type": "stream",
     "text": [
      "Overwriting wrap1.cpp\n"
     ]
    }
   ],
   "source": [
    "%%writefile wrap1.cpp\n",
    "#include <pybind11/pybind11.h>\n",
    "#include \"funcs.hpp\"\n",
    "\n",
    "namespace py = pybind11;\n",
    "using namespace pybind11::literals;\n",
    "\n",
    "PYBIND11_MODULE(example, m) {\n",
    "    m.doc() = \"pybind11 example plugin\"; // optional module docstring\n",
    "\n",
    "    m.def(\"add\", &add, \"A function which adds two numbers\",\n",
    "          \"i\"_a, \"j\"_a=2);\n",
    "}"
   ]
  },
  {
   "cell_type": "code",
   "execution_count": 35,
   "metadata": {},
   "outputs": [],
   "source": [
    "%%bash\n",
    "c++ -O3 -Wall -shared -std=c++11 -fPIC `python3 -m pybind11 --includes` wrap1.cpp -o wrap1`python3-config --extension-suffix`"
   ]
  },
  {
   "cell_type": "code",
   "execution_count": 36,
   "metadata": {},
   "outputs": [],
   "source": [
    "import wrap1"
   ]
  },
  {
   "cell_type": "code",
   "execution_count": 37,
   "metadata": {},
   "outputs": [
    {
     "data": {
      "text/plain": [
       "4"
      ]
     },
     "execution_count": 37,
     "metadata": {},
     "output_type": "execute_result"
    }
   ],
   "source": [
    "wrap1.add(i=2)"
   ]
  },
  {
   "cell_type": "code",
   "execution_count": 33,
   "metadata": {},
   "outputs": [
    {
     "name": "stdout",
     "output_type": "stream",
     "text": [
      "Help on module wrap1:\n",
      "\n",
      "NAME\n",
      "    wrap1 - pybind11 example plugin\n",
      "\n",
      "FUNCTIONS\n",
      "    add(...) method of builtins.PyCapsule instance\n",
      "        add(i: int=1, j: int=2) -> int\n",
      "        \n",
      "        A function which adds two numbers\n",
      "\n",
      "FILE\n",
      "    /home/olszewskip/Desktop/git-repos/MDFS_playground/python/scheduler/example1/wrap1.cpython-35m-x86_64-linux-gnu.so\n",
      "\n",
      "\n"
     ]
    }
   ],
   "source": [
    "help(wrap1)"
   ]
  },
  {
   "cell_type": "markdown",
   "metadata": {},
   "source": [
    "---\n",
    "07.02"
   ]
  },
  {
   "cell_type": "code",
   "execution_count": 10,
   "metadata": {},
   "outputs": [
    {
     "name": "stdout",
     "output_type": "stream",
     "text": [
      "Overwriting pi.cpp\n"
     ]
    }
   ],
   "source": [
    "%%writefile pi.cpp\n",
    "/*\n",
    "<%\n",
    "setup_pybind11(cfg)\n",
    "%>\n",
    "*/\n",
    "#include <pybind11/pybind11.h>\n",
    "\n",
    "namespace py = pybind11;\n",
    "\n",
    "double compute_pi(int n) {\n",
    "    \n",
    "    double step = 1.0/n;\n",
    "    double pi = 0;\n",
    "\n",
    "    double x;\n",
    "    for(int i = 0 ; i < n ; i++){\n",
    "        x = (i + 0.5) * step;\n",
    "        pi += 4.0 / (1 + x*x);\n",
    "    }\n",
    "    \n",
    "    pi *= step;\n",
    "    return pi;\n",
    "}\n",
    "\n",
    "\n",
    "PYBIND11_MODULE(pi, m) {\n",
    "    m.def(\"compute_pi\", &compute_pi);\n",
    "}"
   ]
  },
  {
   "cell_type": "code",
   "execution_count": 11,
   "metadata": {},
   "outputs": [],
   "source": [
    "import cppimport"
   ]
  },
  {
   "cell_type": "code",
   "execution_count": 12,
   "metadata": {},
   "outputs": [],
   "source": [
    "pi = cppimport.imp(\"pi\")"
   ]
  },
  {
   "cell_type": "code",
   "execution_count": 13,
   "metadata": {},
   "outputs": [
    {
     "name": "stdout",
     "output_type": "stream",
     "text": [
      "4.37 ms ± 60.5 µs per loop (mean ± std. dev. of 7 runs, 100 loops each)\n"
     ]
    }
   ],
   "source": [
    "%timeit pi.compute_pi(1000000)"
   ]
  },
  {
   "cell_type": "code",
   "execution_count": 5,
   "metadata": {},
   "outputs": [
    {
     "name": "stdout",
     "output_type": "stream",
     "text": [
      "Overwriting openmp_pi.cpp\n"
     ]
    }
   ],
   "source": [
    "%%writefile openmp_pi.cpp\n",
    "/*\n",
    "<%\n",
    "setup_pybind11(cfg)\n",
    "cfg['compiler_args'] = ['-fopenmp']\n",
    "cfg['linker_args'] = ['-fopenmp']\n",
    "%>\n",
    "*/\n",
    "#include <pybind11/pybind11.h>\n",
    "#include <omp.h>\n",
    "\n",
    "namespace py = pybind11;\n",
    "\n",
    "double compute_pi(int n) {\n",
    "    \n",
    "    double step = 1.0/n;\n",
    "    double pi = 0;\n",
    "    \n",
    "    omp_set_num_threads(2);\n",
    "    #pragma omp parallel\n",
    "    {\n",
    "        double x;\n",
    "        #pragma omp for reduction(+:pi)\n",
    "        for(int i = 0 ; i < n ; i++){\n",
    "            x = (i + 0.5) * step;\n",
    "            pi += 4.0 / (1 + x*x);\n",
    "        }\n",
    "    }\n",
    "    \n",
    "    pi *= step;\n",
    "    return pi;\n",
    "}\n",
    "\n",
    "\n",
    "PYBIND11_MODULE(openmp_pi, m) {\n",
    "    m.def(\"compute_pi\", &compute_pi);\n",
    "}"
   ]
  },
  {
   "cell_type": "code",
   "execution_count": 6,
   "metadata": {},
   "outputs": [],
   "source": [
    "# m.def(\"compute_pi\", &compute_pi, py::call_guard<py::gil_scoped_release>() )?"
   ]
  },
  {
   "cell_type": "code",
   "execution_count": 1,
   "metadata": {},
   "outputs": [],
   "source": [
    "import cppimport"
   ]
  },
  {
   "cell_type": "code",
   "execution_count": 2,
   "metadata": {},
   "outputs": [],
   "source": [
    "# cppimport.force_rebuild()\n",
    "openmp_pi = cppimport.imp(\"openmp_pi\")"
   ]
  },
  {
   "cell_type": "code",
   "execution_count": 3,
   "metadata": {},
   "outputs": [
    {
     "data": {
      "text/plain": [
       "3.1424259850010987"
      ]
     },
     "execution_count": 3,
     "metadata": {},
     "output_type": "execute_result"
    }
   ],
   "source": [
    "openmp_pi.compute_pi(10)"
   ]
  },
  {
   "cell_type": "code",
   "execution_count": 4,
   "metadata": {},
   "outputs": [
    {
     "name": "stdout",
     "output_type": "stream",
     "text": [
      "2.35 ms ± 3.95 µs per loop (mean ± std. dev. of 7 runs, 100 loops each)\n"
     ]
    }
   ],
   "source": [
    "%timeit openmp_pi.compute_pi(1000000)"
   ]
  },
  {
   "cell_type": "code",
   "execution_count": 21,
   "metadata": {},
   "outputs": [
    {
     "name": "stdout",
     "output_type": "stream",
     "text": [
      "Overwriting takietam.cpp\n"
     ]
    }
   ],
   "source": [
    "%%writefile takietam.cpp\n",
    "/*\n",
    "<%\n",
    "setup_pybind11(cfg)\n",
    "%>\n",
    "*/\n",
    "#include <pybind11/pybind11.h>\n",
    "#include <pybind11/numpy.h>\n",
    "namespace py = pybind11;\n",
    "\n",
    "void sayhi() {\n",
    "    py::print(\"hi!\");\n",
    "}\n",
    "        \n",
    "PYBIND11_MODULE(takietam, module) {\n",
    "    module.def(\"sayhi\", &sayhi);\n",
    "}"
   ]
  },
  {
   "cell_type": "code",
   "execution_count": 1,
   "metadata": {},
   "outputs": [],
   "source": [
    "import cppimport"
   ]
  },
  {
   "cell_type": "code",
   "execution_count": 2,
   "metadata": {},
   "outputs": [],
   "source": [
    "cppimport.set_quiet(True)"
   ]
  },
  {
   "cell_type": "code",
   "execution_count": 3,
   "metadata": {},
   "outputs": [],
   "source": [
    "takietam = cppimport.imp(\"takietam\")"
   ]
  },
  {
   "cell_type": "code",
   "execution_count": 4,
   "metadata": {},
   "outputs": [
    {
     "name": "stdout",
     "output_type": "stream",
     "text": [
      "hi!\n"
     ]
    }
   ],
   "source": [
    "takietam.sayhi()"
   ]
  },
  {
   "cell_type": "code",
   "execution_count": 1,
   "metadata": {},
   "outputs": [
    {
     "name": "stdout",
     "output_type": "stream",
     "text": [
      "Overwriting np1.cpp\n"
     ]
    }
   ],
   "source": [
    "%%writefile np1.cpp\n",
    "/*\n",
    "<%\n",
    "setup_pybind11(cfg)\n",
    "%>\n",
    "*/\n",
    "#include <pybind11/pybind11.h>\n",
    "#include <pybind11/numpy.h>\n",
    "namespace py = pybind11;\n",
    "\n",
    "void print_info(py::array_t<int> input1) {\n",
    "    py::buffer_info buf1 = input1.request();\n",
    "    py::print(\"ptr:\", buf1.ptr);\n",
    "    py::print(\"itemsize:\", buf1.itemsize);\n",
    "    py::print(\"format:\", buf1.format);\n",
    "    py::print(\"ndim:\", buf1.ndim);\n",
    "    for (int i = 0; i < buf1.shape.size(); i++) {\n",
    "      py::print(i, \"shape:\", buf1.shape[i]);\n",
    "    }\n",
    "    for (int i = 0; i < buf1.strides.size(); i++) {\n",
    "      py::print(i, \"stride:\", buf1.strides[i]);\n",
    "    }\n",
    "    \n",
    "    int *ptr = (int *) buf1.ptr;\n",
    "    int element_count = 1;\n",
    "    for (auto r: buf1.shape) {\n",
    "      element_count *= r;\n",
    "    }\n",
    "    for (int i = 0; i < element_count; i++) {\n",
    "        py::print(i, \"element:\", *ptr++);\n",
    "    }\n",
    "\n",
    "}\n",
    "        \n",
    "PYBIND11_MODULE(np1, module) {\n",
    "    module.def(\"print_info\", &print_info);\n",
    "}"
   ]
  },
  {
   "cell_type": "code",
   "execution_count": 2,
   "metadata": {},
   "outputs": [],
   "source": [
    "import cppimport\n",
    "np1 = cppimport.imp(\"np1\")\n",
    "import numpy as np"
   ]
  },
  {
   "cell_type": "code",
   "execution_count": 4,
   "metadata": {},
   "outputs": [
    {
     "name": "stdout",
     "output_type": "stream",
     "text": [
      "ptr: <capsule object NULL at 0x7fc2a80dafc0>\n",
      "itemsize: 4\n",
      "format: i\n",
      "ndim: 2\n",
      "0 shape: 2\n",
      "1 shape: 3\n",
      "0 stride: 12\n",
      "1 stride: 4\n",
      "0 element: 11\n",
      "1 element: 12\n",
      "2 element: 13\n",
      "3 element: 14\n",
      "4 element: 15\n",
      "5 element: 16\n"
     ]
    }
   ],
   "source": [
    "np1.print_info([[11,12,13],[14,15,16]])"
   ]
  },
  {
   "cell_type": "code",
   "execution_count": 9,
   "metadata": {},
   "outputs": [
    {
     "name": "stdout",
     "output_type": "stream",
     "text": [
      "Overwriting np2.cpp\n"
     ]
    }
   ],
   "source": [
    "%%writefile np2.cpp\n",
    "/*\n",
    "<%\n",
    "setup_pybind11(cfg)\n",
    "%>\n",
    "*/\n",
    "#include <pybind11/pybind11.h>\n",
    "#include <pybind11/numpy.h>\n",
    "namespace py = pybind11;\n",
    "\n",
    "void double_elems(py::array_t<int> input) {\n",
    "    \n",
    "    py::buffer_info buf = input.request();\n",
    "    int *ptr = (int *) buf.ptr;\n",
    "    \n",
    "    int element_count = 1;\n",
    "    for (auto r: buf.shape) {\n",
    "      element_count *= r;\n",
    "    }\n",
    "    for (int i = 0; i < element_count; i++) {\n",
    "        *ptr++ *= 2;\n",
    "    }\n",
    "}\n",
    "        \n",
    "PYBIND11_MODULE(np2, module) {\n",
    "    module.def(\"double_elems\", &double_elems);\n",
    "}"
   ]
  },
  {
   "cell_type": "code",
   "execution_count": 1,
   "metadata": {},
   "outputs": [],
   "source": [
    "import cppimport\n",
    "np2 = cppimport.imp(\"np2\")\n",
    "import numpy as np"
   ]
  },
  {
   "cell_type": "code",
   "execution_count": 2,
   "metadata": {},
   "outputs": [],
   "source": [
    "my_array = np.array([[11,12,13],[14,15,16]], dtype='int32') # dtype!!!\n",
    "np2.double_elems(my_array)"
   ]
  },
  {
   "cell_type": "code",
   "execution_count": 3,
   "metadata": {},
   "outputs": [
    {
     "data": {
      "text/plain": [
       "array([[22, 24, 26],\n",
       "       [28, 30, 32]], dtype=int32)"
      ]
     },
     "execution_count": 3,
     "metadata": {},
     "output_type": "execute_result"
    }
   ],
   "source": [
    "my_array"
   ]
  },
  {
   "cell_type": "code",
   "execution_count": 4,
   "metadata": {},
   "outputs": [
    {
     "name": "stdout",
     "output_type": "stream",
     "text": [
      "Overwriting np3.cpp\n"
     ]
    }
   ],
   "source": [
    "%%writefile np3.cpp\n",
    "/*\n",
    "<%\n",
    "setup_pybind11(cfg)\n",
    "cfg['compiler_args'] = ['-fopenmp']\n",
    "cfg['linker_args'] = ['-fopenmp']\n",
    "%>\n",
    "*/\n",
    "#include <pybind11/pybind11.h>\n",
    "// #include <pybind11/numpy.h>\n",
    "#include <omp.h>\n",
    "\n",
    "#define NUM_THREADS 2\n",
    "namespace py = pybind11;\n",
    "\n",
    "double compute_pi(int n) {\n",
    "    \n",
    "    double step = 1.0 / n;\n",
    "    double pi_parts[NUM_THREADS];\n",
    "    omp_set_num_threads(NUM_THREADS);\n",
    "    \n",
    "    int nthreads;\n",
    "    \n",
    "    #pragma omp parallel\n",
    "    {\n",
    "        int id = omp_get_thread_num();\n",
    "        pi_parts[id] = 0.0;\n",
    "        int nthrds = omp_get_num_threads();\n",
    "        if (id == 0) nthreads = nthrds;\n",
    "        double x;\n",
    "        for (int i=id; i<n; i=i+nthrds) {\n",
    "            x = (i + 0.5) * step;\n",
    "            pi_parts[id] += 4.0 / (1.0 + x*x);\n",
    "        }\n",
    "    }\n",
    "    \n",
    "    double pi = 0.0;\n",
    "    for (int i=0; i<nthreads; i++){\n",
    "        pi += pi_parts[i] * step;\n",
    "    }\n",
    "    return pi;\n",
    "}\n",
    "\n",
    "\n",
    "PYBIND11_MODULE(np3, m) {\n",
    "    m.def(\"compute_pi\", &compute_pi);\n",
    "}"
   ]
  },
  {
   "cell_type": "code",
   "execution_count": 5,
   "metadata": {},
   "outputs": [],
   "source": [
    "import cppimport\n",
    "np3 = cppimport.imp(\"np3\")\n",
    "import numpy as np"
   ]
  },
  {
   "cell_type": "code",
   "execution_count": 6,
   "metadata": {},
   "outputs": [
    {
     "data": {
      "text/plain": [
       "3.141592654423132"
      ]
     },
     "execution_count": 6,
     "metadata": {},
     "output_type": "execute_result"
    }
   ],
   "source": [
    "np3.compute_pi(10000)"
   ]
  },
  {
   "cell_type": "code",
   "execution_count": 6,
   "metadata": {},
   "outputs": [
    {
     "name": "stdout",
     "output_type": "stream",
     "text": [
      "Overwriting np3.cpp\n"
     ]
    }
   ],
   "source": [
    "%%writefile np3.cpp\n",
    "/*\n",
    "<%\n",
    "setup_pybind11(cfg)\n",
    "cfg['compiler_args'] = ['-fopenmp']\n",
    "cfg['linker_args'] = ['-fopenmp']\n",
    "%>\n",
    "*/\n",
    "#include <omp.h>\n",
    "#include <pybind11/pybind11.h>\n",
    "#include <pybind11/numpy.h>\n",
    "\n",
    "#define NUM_THREADS 2\n",
    "namespace py = pybind11;\n",
    "\n",
    "void double_elems(py::array_t<int> input){\n",
    "     \n",
    "    py::buffer_info buf = input.request();\n",
    "    int *ptr = (int *) buf.ptr;\n",
    "    \n",
    "    int element_count = 1;\n",
    "    for (auto r: buf.shape) {\n",
    "      element_count *= r;\n",
    "    }\n",
    "    \n",
    "    omp_set_num_threads(NUM_THREADS);\n",
    "    #pragma omp parallel\n",
    "    {\n",
    "        int id = omp_get_thread_num();\n",
    "        int nthrds = omp_get_num_threads();\n",
    "        for (int i = id; i < element_count; i += nthrds) {\n",
    "            ptr[i] *= 2;\n",
    "        }\n",
    "    }\n",
    "     \n",
    "}\n",
    "        \n",
    "PYBIND11_MODULE(np3, module) {\n",
    "    module.def(\"double_elems\", &double_elems);\n",
    "}"
   ]
  },
  {
   "cell_type": "code",
   "execution_count": 1,
   "metadata": {},
   "outputs": [],
   "source": [
    "import cppimport\n",
    "np3 = cppimport.imp(\"np3\")\n",
    "import numpy as np"
   ]
  },
  {
   "cell_type": "code",
   "execution_count": 3,
   "metadata": {},
   "outputs": [],
   "source": [
    "my_array = np.array(range(100), dtype = 'int32')\n",
    "np3.double_elems(my_array)"
   ]
  },
  {
   "cell_type": "code",
   "execution_count": 4,
   "metadata": {},
   "outputs": [
    {
     "data": {
      "text/plain": [
       "array([  0,   2,   4,   6,   8,  10,  12,  14,  16,  18,  20,  22,  24,\n",
       "        26,  28,  30,  32,  34,  36,  38,  40,  42,  44,  46,  48,  50,\n",
       "        52,  54,  56,  58,  60,  62,  64,  66,  68,  70,  72,  74,  76,\n",
       "        78,  80,  82,  84,  86,  88,  90,  92,  94,  96,  98, 100, 102,\n",
       "       104, 106, 108, 110, 112, 114, 116, 118, 120, 122, 124, 126, 128,\n",
       "       130, 132, 134, 136, 138, 140, 142, 144, 146, 148, 150, 152, 154,\n",
       "       156, 158, 160, 162, 164, 166, 168, 170, 172, 174, 176, 178, 180,\n",
       "       182, 184, 186, 188, 190, 192, 194, 196, 198], dtype=int32)"
      ]
     },
     "execution_count": 4,
     "metadata": {},
     "output_type": "execute_result"
    }
   ],
   "source": [
    "my_array"
   ]
  },
  {
   "cell_type": "code",
   "execution_count": 8,
   "metadata": {},
   "outputs": [
    {
     "name": "stdout",
     "output_type": "stream",
     "text": [
      "Overwriting np4.cpp\n"
     ]
    }
   ],
   "source": [
    "%%writefile np4.cpp\n",
    "/*\n",
    "<%\n",
    "setup_pybind11(cfg)\n",
    "cfg['compiler_args'] = ['-fopenmp']\n",
    "cfg['linker_args'] = ['-fopenmp']\n",
    "%>\n",
    "*/\n",
    "#include <omp.h>\n",
    "#include <pybind11/pybind11.h>\n",
    "#include <pybind11/numpy.h>\n",
    "\n",
    "#define NUM_THREADS 2\n",
    "namespace py = pybind11;\n",
    "\n",
    "void double_elems(py::array_t<int> input){\n",
    "     \n",
    "    py::buffer_info buf = input.request();\n",
    "    int *ptr = (int *) buf.ptr;\n",
    "    \n",
    "    int element_count = 1;\n",
    "    for (auto r: buf.shape) {\n",
    "      element_count *= r;\n",
    "    }\n",
    "    \n",
    "    omp_set_num_threads(NUM_THREADS);\n",
    "    #pragma omp parallel for schedule(static, 1)\n",
    "    for (int i = 0; i < element_count; i++) {\n",
    "        ptr[i] *= 2;\n",
    "    }\n",
    "     \n",
    "}\n",
    "        \n",
    "PYBIND11_MODULE(np4, module) {\n",
    "    module.def(\"double_elems\", &double_elems);\n",
    "}"
   ]
  },
  {
   "cell_type": "code",
   "execution_count": 9,
   "metadata": {},
   "outputs": [],
   "source": [
    "import cppimport\n",
    "np4 = cppimport.imp(\"np4\")\n",
    "import numpy as np"
   ]
  },
  {
   "cell_type": "code",
   "execution_count": 10,
   "metadata": {},
   "outputs": [
    {
     "data": {
      "text/plain": [
       "array([ 0,  2,  4,  6,  8, 10, 12, 14, 16, 18], dtype=int32)"
      ]
     },
     "execution_count": 10,
     "metadata": {},
     "output_type": "execute_result"
    }
   ],
   "source": [
    "my_array = np.array(range(10), dtype = 'int32')\n",
    "np3.double_elems(my_array)\n",
    "my_array"
   ]
  },
  {
   "cell_type": "code",
   "execution_count": null,
   "metadata": {},
   "outputs": [],
   "source": [
    "%%writefile np5.cpp\n",
    "/*\n",
    "<%\n",
    "setup_pybind11(cfg)\n",
    "cfg['compiler_args'] = ['-fopenmp']\n",
    "cfg['linker_args'] = ['-fopenmp']\n",
    "%>\n",
    "*/\n",
    "#include <cmath>\n",
    "#include <omp.h>\n",
    "#include <pybind11/pybind11.h>\n",
    "#include <pybind11/numpy.h>\n",
    "\n",
    "#define NUM_THREADS 2\n",
    "namespace py = pybind11;\n",
    "\n",
    "int contingency(const int divisions, const int N, py::array_t<int> input1, py::array_t<int> input2){\n",
    "    \n",
    "    double l = std::log(3);\n",
    "    py::print(l);\n",
    "    \n",
    "    int contingency_m[divisions][divisions] = {};\n",
    "    \n",
    "    for (int i = 0; i < divisions; i++)\n",
    "        for (int j = 0; j < divisions; j++)\n",
    "            py::print(contingency_m[i][j]);\n",
    "\n",
    "    \n",
    "    py::buffer_info buf1 = input1.request();\n",
    "    py::buffer_info buf2 = input2.request();\n",
    "    int *ptr1 = (int *) buf1.ptr;\n",
    "    int *ptr2 = (int *) buf2.ptr;\n",
    "    \n",
    "    \n",
    "    omp_set_num_threads(NUM_THREADS);\n",
    "    \n",
    "    int prod = 0;\n",
    "    \n",
    "    #pragma omp parallel for reduction(+:prod)\n",
    "    for (int i = 0; i < N; i++) {\n",
    "        prod += ptr1[i] * ptr2[i];\n",
    "    }\n",
    "    \n",
    "    return prod;\n",
    "}\n",
    "        \n",
    "PYBIND11_MODULE(np5, module) {\n",
    "    module.def(\"contingency\", &contingency);\n",
    "}"
   ]
  },
  {
   "cell_type": "code",
   "execution_count": 1,
   "metadata": {},
   "outputs": [
    {
     "name": "stdout",
     "output_type": "stream",
     "text": [
      "Overwriting np6.cpp\n"
     ]
    }
   ],
   "source": [
    "%%writefile np6.cpp\n",
    "/*\n",
    "<%\n",
    "setup_pybind11(cfg)\n",
    "cfg['compiler_args'] = ['-fopenmp']\n",
    "cfg['linker_args'] = ['-fopenmp']\n",
    "%>\n",
    "*/\n",
    "#include <omp.h>\n",
    "#include <pybind11/pybind11.h>\n",
    "#include <pybind11/numpy.h>\n",
    "\n",
    "#define NUM_THREADS 2\n",
    "namespace py = pybind11;\n",
    "\n",
    "int scalar_prod(py::array_t<int> input1, py::array_t<int> input2){\n",
    "    \n",
    "    py::buffer_info buf1 = input1.request();\n",
    "    py::buffer_info buf2 = input2.request();\n",
    "    int *ptr1 = (int *) buf1.ptr;\n",
    "    int *ptr2 = (int *) buf2.ptr;\n",
    "    \n",
    "    int element_count = 1;\n",
    "    for (auto r: buf1.shape) {\n",
    "      element_count *= r;\n",
    "    }\n",
    "    \n",
    "    omp_set_num_threads(NUM_THREADS);\n",
    "    \n",
    "    int prod = 0;\n",
    "    \n",
    "    #pragma omp parallel\n",
    "    {\n",
    "        #pragma omp for reduction(+:prod)\n",
    "        for (int i = 0; i < element_count; i++) {\n",
    "            prod += ptr1[i] * ptr2[i];\n",
    "        }\n",
    "    }\n",
    "    \n",
    "    return prod;\n",
    "}\n",
    "        \n",
    "PYBIND11_MODULE(np6, module) {\n",
    "    module.def(\"scalar_prod\", &scalar_prod);\n",
    "}"
   ]
  },
  {
   "cell_type": "code",
   "execution_count": 2,
   "metadata": {},
   "outputs": [],
   "source": [
    "import cppimport\n",
    "np6 = cppimport.imp(\"np6\")\n",
    "import numpy as np"
   ]
  },
  {
   "cell_type": "code",
   "execution_count": 3,
   "metadata": {},
   "outputs": [],
   "source": [
    "N = 1000\n",
    "my_array1 = np.ones(N, dtype='int32') * 7\n",
    "my_array2 = np.ones(N, dtype='int32') * 5"
   ]
  },
  {
   "cell_type": "code",
   "execution_count": 10,
   "metadata": {},
   "outputs": [
    {
     "name": "stdout",
     "output_type": "stream",
     "text": [
      "5.51 µs ± 85.4 ns per loop (mean ± std. dev. of 7 runs, 100000 loops each)\n"
     ]
    }
   ],
   "source": [
    "%%timeit\n",
    "np.sum(my_array1 * my_array2)"
   ]
  },
  {
   "cell_type": "code",
   "execution_count": 11,
   "metadata": {},
   "outputs": [
    {
     "name": "stdout",
     "output_type": "stream",
     "text": [
      "2.78 µs ± 117 ns per loop (mean ± std. dev. of 7 runs, 100000 loops each)\n"
     ]
    }
   ],
   "source": [
    "%%timeit\n",
    "np6.scalar_prod(my_array1, my_array2) # NUM_THREADS 1"
   ]
  },
  {
   "cell_type": "code",
   "execution_count": 5,
   "metadata": {},
   "outputs": [
    {
     "name": "stdout",
     "output_type": "stream",
     "text": [
      "3.17 µs ± 101 ns per loop (mean ± std. dev. of 7 runs, 100000 loops each)\n"
     ]
    }
   ],
   "source": [
    "%%timeit\n",
    "np6.scalar_prod(my_array1, my_array2) # NUM_THREADS 2"
   ]
  },
  {
   "cell_type": "code",
   "execution_count": null,
   "metadata": {},
   "outputs": [],
   "source": [
    "%%writefile mpi4py_openmp.py\n",
    "import numpy as np\n",
    "np.random.seed(123)\n",
    "\n",
    "from mpi4py import MPI\n",
    "comm = MPI.COMM_WORLD\n",
    "comm.Barrier()\n",
    "time0 = MPI.Wtime()\n",
    "size = comm.Get_size()\n",
    "rank = comm.Get_rank()"
   ]
  },
  {
   "cell_type": "markdown",
   "metadata": {},
   "source": [
    "---\n",
    "18.02"
   ]
  },
  {
   "cell_type": "code",
   "execution_count": 1,
   "metadata": {},
   "outputs": [
    {
     "name": "stdout",
     "output_type": "stream",
     "text": [
      "Overwriting buffer_info.cpp\n"
     ]
    }
   ],
   "source": [
    "%%writefile buffer_info.cpp\n",
    "/*\n",
    "<%\n",
    "setup_pybind11(cfg)\n",
    "%>\n",
    "*/\n",
    "\n",
    "//#include <iostream>\n",
    "//#include <chrono>\n",
    "//#include <thread>\n",
    "#include <pybind11/pybind11.h>\n",
    "#include <pybind11/numpy.h>\n",
    "\n",
    "namespace py = pybind11;\n",
    "\n",
    "void print_info(py::array_t<int>& input) {\n",
    "    \n",
    "    py::buffer_info buf = input.request();\n",
    "    py::print(\"ptr:\", buf.ptr);\n",
    "    py::print(\"itemsize:\", buf.itemsize);\n",
    "    py::print(\"format:\", buf.format);\n",
    "    py::print(\"ndim:\", buf.ndim);\n",
    "    for (int i = 0; i < buf.shape.size(); i++) {\n",
    "      py::print(i, \"shape:\", buf.shape[i]);\n",
    "    }\n",
    "    for (int i = 0; i < buf.strides.size(); i++) {\n",
    "      py::print(i, \"stride:\", buf.strides[i]);\n",
    "    }\n",
    "    \n",
    "    int *ptr = (int *) buf.ptr;\n",
    "    int element_count = 1;\n",
    "    for (auto r: buf.shape) {\n",
    "      element_count *= r;\n",
    "    }\n",
    "    for (int i = 0; i < element_count; i++) {\n",
    "      py::print(i, \"element:\", *ptr++);\n",
    "    }\n",
    "    \n",
    "//    std::this_thread::sleep_for(3s);\n",
    "\n",
    "}\n",
    "        \n",
    "PYBIND11_MODULE(buffer_info, module) {\n",
    "    module.def(\"print_info\", &print_info);\n",
    "}"
   ]
  },
  {
   "cell_type": "code",
   "execution_count": 2,
   "metadata": {},
   "outputs": [],
   "source": [
    "import numpy as np\n",
    "import cppimport\n",
    "buffer_info = cppimport.imp(\"buffer_info\")"
   ]
  },
  {
   "cell_type": "code",
   "execution_count": 3,
   "metadata": {},
   "outputs": [],
   "source": [
    "import time"
   ]
  },
  {
   "cell_type": "code",
   "execution_count": 5,
   "metadata": {},
   "outputs": [
    {
     "data": {
      "text/plain": [
       "array([[3, 0, 0],\n",
       "       [5, 6, 7]])"
      ]
     },
     "execution_count": 5,
     "metadata": {},
     "output_type": "execute_result"
    }
   ],
   "source": [
    "arr_1 = np.random.randint(0,10, (3,2)).T\n",
    "arr_1"
   ]
  },
  {
   "cell_type": "code",
   "execution_count": 6,
   "metadata": {},
   "outputs": [
    {
     "data": {
      "text/plain": [
       "  C_CONTIGUOUS : False\n",
       "  F_CONTIGUOUS : True\n",
       "  OWNDATA : False\n",
       "  WRITEABLE : True\n",
       "  ALIGNED : True\n",
       "  UPDATEIFCOPY : False"
      ]
     },
     "execution_count": 6,
     "metadata": {},
     "output_type": "execute_result"
    }
   ],
   "source": [
    "arr_1.flags"
   ]
  },
  {
   "cell_type": "code",
   "execution_count": 8,
   "metadata": {},
   "outputs": [
    {
     "data": {
      "text/plain": [
       "  C_CONTIGUOUS : True\n",
       "  F_CONTIGUOUS : True\n",
       "  OWNDATA : True\n",
       "  WRITEABLE : True\n",
       "  ALIGNED : True\n",
       "  UPDATEIFCOPY : False"
      ]
     },
     "execution_count": 8,
     "metadata": {},
     "output_type": "execute_result"
    }
   ],
   "source": [
    "np.arange(3).flags"
   ]
  },
  {
   "cell_type": "code",
   "execution_count": 7,
   "metadata": {},
   "outputs": [
    {
     "name": "stdout",
     "output_type": "stream",
     "text": [
      "ptr: <capsule object NULL at 0x7f86e1da12a0>\n",
      "itemsize: 4\n",
      "format: i\n",
      "ndim: 2\n",
      "0 shape: 2\n",
      "1 shape: 3\n",
      "0 stride: 4\n",
      "1 stride: 8\n",
      "0 element: 3\n",
      "1 element: 5\n",
      "2 element: 0\n",
      "3 element: 6\n",
      "4 element: 0\n",
      "5 element: 7\n"
     ]
    }
   ],
   "source": [
    "buffer_info.print_info(arr_1)"
   ]
  },
  {
   "cell_type": "code",
   "execution_count": 12,
   "metadata": {},
   "outputs": [
    {
     "name": "stdout",
     "output_type": "stream",
     "text": [
      "ptr: <capsule object NULL at 0x7f03c834a810>\n",
      "itemsize: 4\n",
      "format: i\n",
      "ndim: 2\n",
      "0 shape: 1000\n",
      "1 shape: 34000\n",
      "0 stride: 4\n",
      "1 stride: 4000\n"
     ]
    }
   ],
   "source": [
    "np.random.seed(123)\n",
    "big1 = np.random.randint(0,10, (34000,1000)).T\n",
    "time.sleep(1)\n",
    "del big1\n",
    "time.sleep(2)\n",
    "np.random.seed(123)\n",
    "big2 = np.random.randint(0,10, (34000,1000)).T\n",
    "buffer_info.print_info(big2)\n",
    "time.sleep(1)\n",
    "del big2"
   ]
  },
  {
   "cell_type": "markdown",
   "metadata": {},
   "source": [
    "---\n",
    "21.02"
   ]
  },
  {
   "cell_type": "code",
   "execution_count": 11,
   "metadata": {},
   "outputs": [
    {
     "name": "stdout",
     "output_type": "stream",
     "text": [
      "Overwriting locks.cpp\n"
     ]
    }
   ],
   "source": [
    "%%writefile locks.cpp\n",
    "/*\n",
    "<%\n",
    "cfg['compiler_args'] = ['-fopenmp']\n",
    "cfg['linker_args'] = ['-fopenmp']\n",
    "setup_pybind11(cfg)\n",
    "%>\n",
    "*/\n",
    "\n",
    "//#include <iostream>\n",
    "//#include <chrono>\n",
    "//#include <thread>\n",
    "#include <pybind11/pybind11.h>\n",
    "#include <pybind11/numpy.h>\n",
    "\n",
    "namespace py = pybind11;\n",
    "\n",
    "void example0(py::array_t<int>& input) {\n",
    "    \n",
    "    py::buffer_info buf = input.request();\n",
    "    py::print(\"ptr:\", buf.ptr);\n",
    "    py::print(\"itemsize:\", buf.itemsize);\n",
    "    py::print(\"format:\", buf.format);\n",
    "    py::print(\"ndim:\", buf.ndim);\n",
    "    for (int i = 0; i < buf.shape.size(); i++) {\n",
    "      py::print(i, \"shape:\", buf.shape[i]);\n",
    "    }\n",
    "    for (int i = 0; i < buf.strides.size(); i++) {\n",
    "      py::print(i, \"stride:\", buf.strides[i]);\n",
    "    }\n",
    "    \n",
    "    int *ptr = (int *) buf.ptr;\n",
    "    int element_count = 1;\n",
    "    for (auto r: buf.shape) {\n",
    "      element_count *= r;\n",
    "    }\n",
    "    for (int i = 0; i < element_count; i++) {\n",
    "      py::print(i, \"element:\", *ptr++);\n",
    "    }\n",
    "    \n",
    "    int NBUCKETS = 100;\n",
    "    \n",
    "    omp_lock_t my_lock;\n",
    "    \n",
    "    //#pragma omp parallel for\n",
    "    //for(i=0; i<NBUCKETS; i++){\n",
    "    //    omp_init_lock(&hist_locks[i]);\n",
    "    //}\n",
    "\n",
    "\n",
    "}\n",
    "        \n",
    "PYBIND11_MODULE(locks, module) {\n",
    "    module.def(\"example0\", &example0);\n",
    "}"
   ]
  },
  {
   "cell_type": "code",
   "execution_count": 12,
   "metadata": {},
   "outputs": [
    {
     "ename": "SystemExit",
     "evalue": "error: command 'gcc' failed with exit status 1",
     "output_type": "error",
     "traceback": [
      "An exception has occurred, use %tb to see the full traceback.\n",
      "\u001b[0;31mSystemExit\u001b[0m\u001b[0;31m:\u001b[0m error: command 'gcc' failed with exit status 1\n"
     ]
    },
    {
     "name": "stderr",
     "output_type": "stream",
     "text": [
      "/home/olszewskip/miniconda3/envs/mpiX4py352/lib/python3.5/site-packages/IPython/core/interactiveshell.py:2969: UserWarning: To exit: use 'exit', 'quit', or Ctrl-D.\n",
      "  warn(\"To exit: use 'exit', 'quit', or Ctrl-D.\", stacklevel=1)\n"
     ]
    }
   ],
   "source": [
    "import numpy as np\n",
    "import cppimport\n",
    "locks = cppimport.imp(\"locks\")"
   ]
  },
  {
   "cell_type": "code",
   "execution_count": 3,
   "metadata": {},
   "outputs": [
    {
     "name": "stdout",
     "output_type": "stream",
     "text": [
      "ptr: <capsule object NULL at 0x7f57e614f1e0>\n",
      "itemsize: 4\n",
      "format: i\n",
      "ndim: 1\n",
      "0 shape: 3\n",
      "0 stride: 4\n",
      "0 element: 0\n",
      "1 element: 1\n",
      "2 element: 2\n"
     ]
    }
   ],
   "source": [
    "locks.example0(np.array([0,1,2]))"
   ]
  },
  {
   "cell_type": "markdown",
   "metadata": {},
   "source": [
    "---\n",
    "26.02"
   ]
  },
  {
   "cell_type": "code",
   "execution_count": 29,
   "metadata": {},
   "outputs": [
    {
     "name": "stdout",
     "output_type": "stream",
     "text": [
      "Overwriting my_pi.cpp\n"
     ]
    }
   ],
   "source": [
    "%%writefile my_pi.cpp\n",
    "/*\n",
    "<%\n",
    "cfg['compiler_args'] = ['-fopenmp']\n",
    "cfg['linker_args'] = ['-fopenmp']\n",
    "setup_pybind11(cfg)\n",
    "%>\n",
    "*/\n",
    "\n",
    "#include <omp.h>\n",
    "#include <pybind11/pybind11.h>\n",
    "\n",
    "namespace py = pybind11;\n",
    "\n",
    "double sequential(int n) {\n",
    "    \n",
    "    double step = 1.0 / n;\n",
    "    double pi = 0;\n",
    "\n",
    "    double x;\n",
    "    for(int i = 0 ; i < n ; i++){\n",
    "        x = (i + 0.5) * step;\n",
    "        pi += 4.0 / (1 + x*x);\n",
    "    }\n",
    "    \n",
    "    pi *= step;\n",
    "    return pi;\n",
    "}\n",
    "\n",
    "// #define NUM_THREADS 1\n",
    "\n",
    "double parallel(int n) {\n",
    "    \n",
    "    double step = 1.0 / n;\n",
    "    double pi = 0;\n",
    "    \n",
    "    int nthreads = 0;\n",
    "\n",
    "    //omp_set_num_threads(NUM_THREADS);\n",
    "    \n",
    "    #pragma omp parallel\n",
    "    {\n",
    "        int id = omp_get_thread_num();\n",
    "        if (id==0) nthreads = omp_get_num_threads();\n",
    "        \n",
    "        double x;\n",
    "        #pragma omp for reduction(+:pi)\n",
    "        for(int i = 0 ; i < n ; i++){\n",
    "            x = (i + 0.5) * step;\n",
    "            pi += 4.0 / (1 + x*x);\n",
    "        }\n",
    "    }    \n",
    "    \n",
    "    py::print(\"I got\", nthreads, \"threads!\");\n",
    "    \n",
    "    pi *= step;\n",
    "    return pi;\n",
    "}\n",
    "\n",
    "\n",
    "PYBIND11_MODULE(my_pi, m) {\n",
    "    m.def(\"sequential\", &sequential);\n",
    "    m.def(\"parallel\", &parallel);\n",
    "}"
   ]
  },
  {
   "cell_type": "code",
   "execution_count": 30,
   "metadata": {},
   "outputs": [],
   "source": [
    "import cppimport\n",
    "my_pi = cppimport.imp(\"my_pi\")"
   ]
  },
  {
   "cell_type": "code",
   "execution_count": 2,
   "metadata": {},
   "outputs": [
    {
     "name": "stdout",
     "output_type": "stream",
     "text": [
      "4.68 µs ± 44.7 ns per loop (mean ± std. dev. of 7 runs, 100000 loops each)\n"
     ]
    }
   ],
   "source": [
    "%%timeit\n",
    "my_pi.sequential(1000)"
   ]
  },
  {
   "cell_type": "code",
   "execution_count": 3,
   "metadata": {},
   "outputs": [
    {
     "name": "stdout",
     "output_type": "stream",
     "text": [
      "5.18 µs ± 28.2 ns per loop (mean ± std. dev. of 7 runs, 100000 loops each)\n"
     ]
    }
   ],
   "source": [
    "%%timeit\n",
    "my_pi.parallel(1000)"
   ]
  },
  {
   "cell_type": "code",
   "execution_count": 22,
   "metadata": {},
   "outputs": [
    {
     "name": "stdout",
     "output_type": "stream",
     "text": [
      "Overwriting dummy_work_pi.py\n"
     ]
    }
   ],
   "source": [
    "%%writefile dummy_work_pi.py\n",
    "import time\n",
    "import my_pi\n",
    "\n",
    "time_0 = time.time()\n",
    "pi = my_pi.parallel(1000000000)\n",
    "print(pi)\n",
    "print(\"Finished in\", time.time() - time_0)"
   ]
  },
  {
   "cell_type": "code",
   "execution_count": 25,
   "metadata": {},
   "outputs": [
    {
     "name": "stdout",
     "output_type": "stream",
     "text": [
      "2\n",
      "I got 2 threads!\n",
      "3.141592653589901\n",
      "Finished in 2.3686070442199707\n"
     ]
    }
   ],
   "source": [
    "%%bash\n",
    "export OMP_NUM_THREADS=2\n",
    "echo $OMP_NUM_THREADS\n",
    "python dummy_work_pi.py"
   ]
  },
  {
   "cell_type": "code",
   "execution_count": 31,
   "metadata": {},
   "outputs": [
    {
     "name": "stdout",
     "output_type": "stream",
     "text": [
      "4\n",
      "I got 4 threads!\n",
      "3.141592653589821\n",
      "Finished in 2.3871002197265625\n"
     ]
    }
   ],
   "source": [
    "%%bash\n",
    "export OMP_NUM_THREADS=4\n",
    "echo $OMP_NUM_THREADS\n",
    "python dummy_work_pi.py"
   ]
  },
  {
   "cell_type": "code",
   "execution_count": null,
   "metadata": {},
   "outputs": [],
   "source": []
  },
  {
   "cell_type": "code",
   "execution_count": null,
   "metadata": {},
   "outputs": [],
   "source": []
  },
  {
   "cell_type": "code",
   "execution_count": 7,
   "metadata": {},
   "outputs": [
    {
     "name": "stdout",
     "output_type": "stream",
     "text": [
      "Overwriting dummy_work1.cpp\n"
     ]
    }
   ],
   "source": [
    "%%writefile dummy_work1.cpp\n",
    "/*\n",
    "<%\n",
    "setup_pybind11(cfg)\n",
    "cfg['compiler_args'] = ['-std=c++11', '-fopenmp']\n",
    "cfg['linker_args'] = ['-fopenmp']\n",
    "%>\n",
    "*/\n",
    "#include <omp.h>\n",
    "#include <pybind11/pybind11.h>\n",
    "#include <pybind11/numpy.h>\n",
    "\n",
    "namespace py = pybind11;\n",
    "\n",
    "// define NUM_THREADS 2\n",
    "\n",
    "double parallel_pi(int n) {\n",
    "    \n",
    "    double step = 1.0 / n;\n",
    "    double pi = 0;\n",
    "\n",
    "    #pragma omp parallel\n",
    "    {\n",
    "        double x;\n",
    "        #pragma omp for reduction(+:pi)\n",
    "        for(int i = 0 ; i < n ; i++){\n",
    "            x = (i + 0.5) * step;\n",
    "            pi += 4.0 / (1 + x*x);\n",
    "        }\n",
    "    }    \n",
    "    \n",
    "    pi *= step;\n",
    "    return pi;\n",
    "}\n",
    "\n",
    "\n",
    "double scalar_prod(py::array_t<double> input1, py::array_t<double> input2){\n",
    "    \n",
    "    py::buffer_info buf1 = input1.request();\n",
    "    py::buffer_info buf2 = input2.request();\n",
    "    auto *ptr1 = (double *) buf1.ptr;\n",
    "    auto *ptr2 = (double *) buf2.ptr;\n",
    "    \n",
    "    int element_count = 1;\n",
    "    for (auto r: buf1.shape) {\n",
    "      element_count *= r;\n",
    "    }\n",
    "    \n",
    "    int nthreads;\n",
    "    double prod = 0.;\n",
    "    \n",
    "    #pragma omp parallel\n",
    "    {\n",
    "        int id = omp_get_thread_num();\n",
    "        if (id==0) nthreads = omp_get_num_threads();\n",
    "    \n",
    "        #pragma omp for reduction(+:prod)\n",
    "        for (int i = 0; i < element_count; ++i) {\n",
    "            prod += ptr1[i] * ptr2[i];\n",
    "        }\n",
    "    }\n",
    "    \n",
    "    py::print(\"I got\", nthreads, \"threads!\");\n",
    "    \n",
    "    return prod;\n",
    "}\n",
    "        \n",
    "PYBIND11_MODULE(dummy_work1, module) {\n",
    "    module.def(\"parallel_pi\", &parallel_pi);\n",
    "    module.def(\"scalar_prod\", &scalar_prod);\n",
    "}"
   ]
  },
  {
   "cell_type": "code",
   "execution_count": 1,
   "metadata": {},
   "outputs": [],
   "source": [
    "import cppimport\n",
    "dummy_work1 = cppimport.imp(\"dummy_work1\")"
   ]
  },
  {
   "cell_type": "code",
   "execution_count": 3,
   "metadata": {},
   "outputs": [
    {
     "name": "stdout",
     "output_type": "stream",
     "text": [
      "263 µs ± 11.5 µs per loop (mean ± std. dev. of 7 runs, 1000 loops each)\n"
     ]
    }
   ],
   "source": [
    "%timeit dummy_work1.parallel_pi(100000)"
   ]
  },
  {
   "cell_type": "code",
   "execution_count": 3,
   "metadata": {},
   "outputs": [
    {
     "name": "stdout",
     "output_type": "stream",
     "text": [
      "251 µs ± 12 µs per loop (mean ± std. dev. of 7 runs, 1000 loops each)\n"
     ]
    }
   ],
   "source": [
    "%timeit dummy_work1.parallel_pi(100000)"
   ]
  },
  {
   "cell_type": "code",
   "execution_count": 3,
   "metadata": {},
   "outputs": [
    {
     "name": "stdout",
     "output_type": "stream",
     "text": [
      "I got 4 threads!\n"
     ]
    },
    {
     "data": {
      "text/plain": [
       "16776224.292219158"
      ]
     },
     "execution_count": 3,
     "metadata": {},
     "output_type": "execute_result"
    }
   ],
   "source": [
    "import numpy as np\n",
    "N = 2 ** 13\n",
    "dummy_work1.scalar_prod(np.random.rand(N, N), np.random.rand(N, N))"
   ]
  },
  {
   "cell_type": "code",
   "execution_count": 16,
   "metadata": {},
   "outputs": [
    {
     "name": "stdout",
     "output_type": "stream",
     "text": [
      "Overwriting dummy_work1_n1.py\n"
     ]
    }
   ],
   "source": [
    "%%writefile dummy_work1_n1.py\n",
    "import numpy as np\n",
    "import time\n",
    "import dummy_work1\n",
    "\n",
    "time_0 = time.time()\n",
    "\n",
    "N = 2 ** 13\n",
    "\n",
    "np.random.seed(0)\n",
    "#array1 = np.random.rand(N, N)\n",
    "#array2 = np.random.rand(N, N)\n",
    "\n",
    "#prod = dummy_work1.scalar_prod(array1, array2)\n",
    "prod = dummy_work1.parallel_pi(1000000000)\n",
    "\n",
    "print(\"Finished in\", time.time() - time_0, \"sec.\")\n",
    "print(prod)"
   ]
  },
  {
   "cell_type": "code",
   "execution_count": 17,
   "metadata": {},
   "outputs": [
    {
     "name": "stdout",
     "output_type": "stream",
     "text": [
      "2\n",
      "Finished in 2.3520619869232178 sec.\n",
      "3.141592653589901\n"
     ]
    }
   ],
   "source": [
    "%%bash\n",
    "export OMP_NUM_THREADS=2\n",
    "echo $OMP_NUM_THREADS\n",
    "python dummy_work1_n1.py"
   ]
  },
  {
   "cell_type": "code",
   "execution_count": 18,
   "metadata": {},
   "outputs": [
    {
     "name": "stdout",
     "output_type": "stream",
     "text": [
      "4\n",
      "Finished in 2.3763458728790283 sec.\n",
      "3.141592653589821\n"
     ]
    }
   ],
   "source": [
    "%%bash\n",
    "export OMP_NUM_THREADS=4\n",
    "echo $OMP_NUM_THREADS\n",
    "python dummy_work1_n1.py"
   ]
  },
  {
   "cell_type": "markdown",
   "metadata": {},
   "source": [
    "---\n",
    "28.02"
   ]
  },
  {
   "cell_type": "code",
   "execution_count": 3,
   "metadata": {},
   "outputs": [
    {
     "name": "stdout",
     "output_type": "stream",
     "text": [
      "Overwriting fast11.cpp\n"
     ]
    }
   ],
   "source": [
    "%%writefile fast11.cpp\n",
    "/*\n",
    "<%\n",
    "cfg['compiler_args'] = ['-std=c++11', '-fopenmp']\n",
    "cfg['linker_args'] = ['-fopenmp']\n",
    "setup_pybind11(cfg)\n",
    "%>\n",
    "*/\n",
    "\n",
    "#include <math.h>\n",
    "#include <tuple>\n",
    "#include <vector>\n",
    "#include <pybind11/pybind11.h>\n",
    "//#include <pybind11/stl.h>\n",
    "#include <pybind11/numpy.h>\n",
    "#include <omp.h>\n",
    "\n",
    "namespace py = pybind11;\n",
    "\n",
    "std::tuple<double, double, double> work_3a(const int kData_dim,\n",
    "                                           const int kDivisions,\n",
    "                                           py::array_t<int> &py_X0,\n",
    "                                           py::array_t<int> &py_X1,\n",
    "                                           py::array_t<int> &py_X2,\n",
    "                                           const int kN_classes,\n",
    "                                           py::array_t<double> &py_pseudo_counts,\n",
    "                                           py::array_t<int> &py_y) {\n",
    "    \n",
    "    const int kC_Xdim = kDivisions + 1;\n",
    "    const int kC_ydim = kN_classes;\n",
    "    \n",
    "    py::buffer_info py_X0_buf = py_X0.request();\n",
    "    auto *X0 = static_cast<int *>(py_X0_buf.ptr);\n",
    "    py::buffer_info py_X1_buf = py_X1.request();\n",
    "    auto *X1 = static_cast<int *>(py_X1_buf.ptr);\n",
    "    py::buffer_info py_X2_buf = py_X2.request();\n",
    "    auto *X2 = static_cast<int *>(py_X2_buf.ptr);\n",
    "    \n",
    "    py::buffer_info py_y_buf = py_y.request();\n",
    "    auto *y = static_cast<int *>(py_y_buf.ptr);\n",
    "    \n",
    "    py::buffer_info py_pseudo_counts_buf = py_pseudo_counts.request();\n",
    "    auto *pseudo_counts = static_cast<double *>(py_pseudo_counts_buf.ptr);\n",
    "    \n",
    "    int contingency_m[kC_Xdim][kC_Xdim][kC_Xdim][kC_ydim] = {};\n",
    "    double contingency_m_y[kC_Xdim][kC_Xdim][kC_Xdim] = {};\n",
    "\n",
    "    for (int data_idx = 0; data_idx < kData_dim; data_idx++) {\n",
    "        contingency_m[X0[data_idx]][X1[data_idx]][X2[data_idx]][y[data_idx]]++;\n",
    "    }\n",
    "\n",
    "    double neg_H = 0., neg_H_X0 = 0., neg_H_X1 = 0., neg_H_X2 = 0.;\n",
    "    \n",
    "    #pragma omp parallel\n",
    "    {\n",
    "    \n",
    "    #pragma omp for reduction (+: neg_H, neg_H_X0, neg_H_X1, neg_H_X2)\n",
    "    for (int C_Xidx_i = 0; C_Xidx_i < kC_Xdim; C_Xidx_i++) {\n",
    "        for (int C_Xidx_j = 0; C_Xidx_j < kC_Xdim; C_Xidx_j++) {\n",
    "            for (int C_yidx = 0; C_yidx < kC_ydim; C_yidx++) {\n",
    "                double count_X0 = 0;\n",
    "                double count_X1 = 0;\n",
    "                double count_X2 = 0;\n",
    "                for (int C_Xidx_k = 0; C_Xidx_k < kC_Xdim; C_Xidx_k++) {\n",
    "                    double count_ijk = pseudo_counts[C_yidx] + contingency_m[C_Xidx_i][C_Xidx_j][C_Xidx_k][C_yidx];\n",
    "                    count_X0 += pseudo_counts[C_yidx] + contingency_m[C_Xidx_k][C_Xidx_i][C_Xidx_j][C_yidx];\n",
    "                    count_X1 += pseudo_counts[C_yidx] + contingency_m[C_Xidx_i][C_Xidx_k][C_Xidx_j][C_yidx];\n",
    "                    count_X2 += count_ijk;\n",
    "                    contingency_m_y[C_Xidx_i][C_Xidx_j][C_Xidx_k] += count_ijk;\n",
    "                    neg_H += count_ijk * log2(count_ijk);\n",
    "                }\n",
    "                neg_H_X0 += count_X0 * log2(count_X0);\n",
    "                neg_H_X1 += count_X1 * log2(count_X1);\n",
    "                neg_H_X2 += count_X2 * log2(count_X2);\n",
    "            }\n",
    "        }\n",
    "    }\n",
    "\n",
    "    #pragma omp for reduction (+: neg_H, neg_H_X0, neg_H_X1, neg_H_X2)\n",
    "    for (int C_Xidx_i = 0; C_Xidx_i < kC_Xdim; C_Xidx_i++) {\n",
    "        for (int C_Xidx_j = 0; C_Xidx_j < kC_Xdim; C_Xidx_j++) {\n",
    "            double count_X0_y = 0;\n",
    "            double count_X1_y = 0;\n",
    "            double count_X2_y = 0;\n",
    "            for (int C_Xidx_k = 0; C_Xidx_k < kC_Xdim; C_Xidx_k++) {\n",
    "                neg_H -= contingency_m_y[C_Xidx_i][C_Xidx_j][C_Xidx_k] * log2(contingency_m_y[C_Xidx_i][C_Xidx_j][C_Xidx_k]);\n",
    "                count_X0_y += contingency_m_y[C_Xidx_k][C_Xidx_i][C_Xidx_j];\n",
    "                count_X1_y += contingency_m_y[C_Xidx_i][C_Xidx_k][C_Xidx_j];\n",
    "                count_X2_y += contingency_m_y[C_Xidx_i][C_Xidx_j][C_Xidx_k];\n",
    "            }\n",
    "            neg_H_X0 -= count_X0_y * log2(count_X0_y);\n",
    "            neg_H_X1 -= count_X1_y * log2(count_X1_y);\n",
    "            neg_H_X2 -= count_X2_y * log2(count_X2_y);\n",
    "        }\n",
    "    }\n",
    "    \n",
    "    }\n",
    "        \n",
    "    return std::make_tuple(neg_H - neg_H_X0,\n",
    "                           neg_H - neg_H_X1,\n",
    "                           neg_H - neg_H_X2\n",
    "                          );\n",
    "}\n",
    "\n",
    "    \n",
    "\n",
    "std::tuple<double, double, double> work_3b(const int kData_dim,\n",
    "                                           const int kDivisions,\n",
    "                                           py::array_t<int> &py_X0,\n",
    "                                           py::array_t<int> &py_X1,\n",
    "                                           py::array_t<int> &py_X2,\n",
    "                                           const int kN_classes,\n",
    "                                           py::array_t<double> &py_pseudo_counts,\n",
    "                                           py::array_t<int> &py_y) {\n",
    "    \n",
    "    const int kC_Xdim = kDivisions + 1;\n",
    "    const int kC_ydim = kN_classes;\n",
    "    \n",
    "    py::buffer_info py_X0_buf = py_X0.request();\n",
    "    auto *X0 = static_cast<int *>(py_X0_buf.ptr);\n",
    "    py::buffer_info py_X1_buf = py_X1.request();\n",
    "    auto *X1 = static_cast<int *>(py_X1_buf.ptr);\n",
    "    py::buffer_info py_X2_buf = py_X2.request();\n",
    "    auto *X2 = static_cast<int *>(py_X2_buf.ptr);\n",
    "    \n",
    "    py::buffer_info py_y_buf = py_y.request();\n",
    "    auto *y = static_cast<int *>(py_y_buf.ptr);\n",
    "    \n",
    "    py::buffer_info py_pseudo_counts_buf = py_pseudo_counts.request();\n",
    "    auto *pseudo_counts = static_cast<double *>(py_pseudo_counts_buf.ptr);\n",
    "    \n",
    "    int contingency_m[kC_Xdim][kC_Xdim][kC_Xdim][kC_ydim] = {};\n",
    "    double contingency_m_y[kC_Xdim][kC_Xdim][kC_Xdim] = {};\n",
    "        \n",
    "    omp_lock_t contingency_m_lock[kC_Xdim][kC_Xdim][kC_Xdim][kC_ydim];\n",
    "                                                                                                \n",
    "    for (int C_Xidx_0 = 0; C_Xidx_0 < kC_Xdim; C_Xidx_0++) {\n",
    "        for (int C_Xidx_1 = 0; C_Xidx_1 < kC_Xdim; C_Xidx_1++) {\n",
    "            for (int C_Xidx_2 = 0; C_Xidx_2 < kC_Xdim; C_Xidx_2++) {\n",
    "                for (int C_yidx = 0; C_yidx < kC_ydim; C_yidx++) {\n",
    "                    omp_init_lock(&contingency_m_lock[C_Xidx_0][C_Xidx_1][C_Xidx_2][C_yidx]);\n",
    "                }\n",
    "            }\n",
    "        }\n",
    "    }\n",
    "    \n",
    "    double neg_H = 0., neg_H_X0 = 0., neg_H_X1 = 0., neg_H_X2 = 0.;\n",
    "    \n",
    "    #pragma omp parallel\n",
    "    {\n",
    "    \n",
    "    #pragma omp for                                           \n",
    "    for (int data_idx = 0; data_idx < kData_dim; data_idx++) {\n",
    "        omp_set_lock(&contingency_m_lock[X0[data_idx]][X1[data_idx]][X2[data_idx]][y[data_idx]]);\n",
    "        contingency_m[X0[data_idx]][X1[data_idx]][X2[data_idx]][y[data_idx]]++;\n",
    "        omp_unset_lock(&contingency_m_lock[X0[data_idx]][X1[data_idx]][X2[data_idx]][y[data_idx]]);\n",
    "    }\n",
    "    \n",
    "    #pragma omp for reduction (+: neg_H, neg_H_X0, neg_H_X1, neg_H_X2)\n",
    "    for (int C_Xidx_i = 0; C_Xidx_i < kC_Xdim; C_Xidx_i++) {\n",
    "        for (int C_Xidx_j = 0; C_Xidx_j < kC_Xdim; C_Xidx_j++) {\n",
    "            for (int C_yidx = 0; C_yidx < kC_ydim; C_yidx++) {\n",
    "                double count_X0 = 0;\n",
    "                double count_X1 = 0;\n",
    "                double count_X2 = 0;\n",
    "                for (int C_Xidx_k = 0; C_Xidx_k < kC_Xdim; C_Xidx_k++) {\n",
    "                    double count_ijk = pseudo_counts[C_yidx] + contingency_m[C_Xidx_i][C_Xidx_j][C_Xidx_k][C_yidx];\n",
    "                    count_X0 += pseudo_counts[C_yidx] + contingency_m[C_Xidx_k][C_Xidx_i][C_Xidx_j][C_yidx];\n",
    "                    count_X1 += pseudo_counts[C_yidx] + contingency_m[C_Xidx_i][C_Xidx_k][C_Xidx_j][C_yidx];\n",
    "                    count_X2 += count_ijk;\n",
    "                    contingency_m_y[C_Xidx_i][C_Xidx_j][C_Xidx_k] += count_ijk;\n",
    "                    neg_H += count_ijk * log2(count_ijk);\n",
    "                }\n",
    "                neg_H_X0 += count_X0 * log2(count_X0);\n",
    "                neg_H_X1 += count_X1 * log2(count_X1);\n",
    "                neg_H_X2 += count_X2 * log2(count_X2);\n",
    "            }\n",
    "        }\n",
    "    }\n",
    "\n",
    "    #pragma omp for reduction (+: neg_H, neg_H_X0, neg_H_X1, neg_H_X2)\n",
    "    for (int C_Xidx_i = 0; C_Xidx_i < kC_Xdim; C_Xidx_i++) {\n",
    "        for (int C_Xidx_j = 0; C_Xidx_j < kC_Xdim; C_Xidx_j++) {\n",
    "            double count_X0_y = 0;\n",
    "            double count_X1_y = 0;\n",
    "            double count_X2_y = 0;\n",
    "            for (int C_Xidx_k = 0; C_Xidx_k < kC_Xdim; C_Xidx_k++) {\n",
    "                neg_H -= contingency_m_y[C_Xidx_i][C_Xidx_j][C_Xidx_k] * log2(contingency_m_y[C_Xidx_i][C_Xidx_j][C_Xidx_k]);\n",
    "                count_X0_y += contingency_m_y[C_Xidx_k][C_Xidx_i][C_Xidx_j];\n",
    "                count_X1_y += contingency_m_y[C_Xidx_i][C_Xidx_k][C_Xidx_j];\n",
    "                count_X2_y += contingency_m_y[C_Xidx_i][C_Xidx_j][C_Xidx_k];\n",
    "            }\n",
    "            neg_H_X0 -= count_X0_y * log2(count_X0_y);\n",
    "            neg_H_X1 -= count_X1_y * log2(count_X1_y);\n",
    "            neg_H_X2 -= count_X2_y * log2(count_X2_y);\n",
    "        }\n",
    "    }\n",
    "    \n",
    "    }\n",
    "    \n",
    "    for (int C_Xidx_0 = 0; C_Xidx_0 < kC_Xdim; C_Xidx_0++) {\n",
    "        for (int C_Xidx_1 = 0; C_Xidx_1 < kC_Xdim; C_Xidx_1++) {\n",
    "            for (int C_Xidx_2 = 0; C_Xidx_2 < kC_Xdim; C_Xidx_2++) {\n",
    "                for (int C_yidx = 0; C_yidx < kC_ydim; C_yidx++) {\n",
    "                    omp_destroy_lock(&contingency_m_lock[C_Xidx_0][C_Xidx_1][C_Xidx_2][C_yidx]);\n",
    "                }\n",
    "            }\n",
    "        }\n",
    "    }\n",
    "        \n",
    "    return std::make_tuple(neg_H - neg_H_X0,\n",
    "                           neg_H - neg_H_X1,\n",
    "                           neg_H - neg_H_X2\n",
    "                          );\n",
    "}\n",
    "\n",
    "std::tuple<double, double, double> work_3c(const int kData_dim,\n",
    "                                           const int kDivisions,\n",
    "                                           py::array_t<int> &py_X0,\n",
    "                                           py::array_t<int> &py_X1,\n",
    "                                           py::array_t<int> &py_X2,\n",
    "                                           const int kN_classes,\n",
    "                                           py::array_t<double> &py_pseudo_counts,\n",
    "                                           py::array_t<int> &py_y) {\n",
    "    \n",
    "    const int kC_Xdim = kDivisions + 1;\n",
    "    const int kC_ydim = kN_classes;\n",
    "    \n",
    "    py::buffer_info py_X0_buf = py_X0.request();\n",
    "    auto *X0 = static_cast<int *>(py_X0_buf.ptr);\n",
    "    py::buffer_info py_X1_buf = py_X1.request();\n",
    "    auto *X1 = static_cast<int *>(py_X1_buf.ptr);\n",
    "    py::buffer_info py_X2_buf = py_X2.request();\n",
    "    auto *X2 = static_cast<int *>(py_X2_buf.ptr);\n",
    "    \n",
    "    py::buffer_info py_y_buf = py_y.request();\n",
    "    auto *y = static_cast<int *>(py_y_buf.ptr);\n",
    "    \n",
    "    py::buffer_info py_pseudo_counts_buf = py_pseudo_counts.request();\n",
    "    auto *pseudo_counts = static_cast<double *>(py_pseudo_counts_buf.ptr);\n",
    "    \n",
    "    int contingency_m[kC_Xdim][kC_Xdim][kC_Xdim][kC_ydim] = {};\n",
    "    double contingency_m_y[kC_Xdim][kC_Xdim][kC_Xdim] = {};\n",
    "    \n",
    "    double neg_H = 0., neg_H_X0 = 0., neg_H_X1 = 0., neg_H_X2 = 0.;\n",
    "    \n",
    "    #pragma omp parallel\n",
    "    {\n",
    "    #pragma omp for\n",
    "    for (int data_idx = 0; data_idx < kData_dim; data_idx++) {\n",
    "        #pragma omp atomic\n",
    "            contingency_m[X0[data_idx]][X1[data_idx]][X2[data_idx]][y[data_idx]]++;\n",
    "    }\n",
    "    \n",
    "    #pragma omp for reduction (+: neg_H, neg_H_X0, neg_H_X1, neg_H_X2)\n",
    "    for (int C_Xidx_i = 0; C_Xidx_i < kC_Xdim; C_Xidx_i++) {\n",
    "        for (int C_Xidx_j = 0; C_Xidx_j < kC_Xdim; C_Xidx_j++) {\n",
    "            for (int C_yidx = 0; C_yidx < kC_ydim; C_yidx++) {\n",
    "                double count_X0 = 0;\n",
    "                double count_X1 = 0;\n",
    "                double count_X2 = 0;\n",
    "                for (int C_Xidx_k = 0; C_Xidx_k < kC_Xdim; C_Xidx_k++) {\n",
    "                    double count_ijk = pseudo_counts[C_yidx] + contingency_m[C_Xidx_i][C_Xidx_j][C_Xidx_k][C_yidx];\n",
    "                    count_X0 += pseudo_counts[C_yidx] + contingency_m[C_Xidx_k][C_Xidx_i][C_Xidx_j][C_yidx];\n",
    "                    count_X1 += pseudo_counts[C_yidx] + contingency_m[C_Xidx_i][C_Xidx_k][C_Xidx_j][C_yidx];\n",
    "                    count_X2 += count_ijk;\n",
    "                    contingency_m_y[C_Xidx_i][C_Xidx_j][C_Xidx_k] += count_ijk;\n",
    "                    neg_H += count_ijk * log2(count_ijk);\n",
    "                }\n",
    "                neg_H_X0 += count_X0 * log2(count_X0);\n",
    "                neg_H_X1 += count_X1 * log2(count_X1);\n",
    "                neg_H_X2 += count_X2 * log2(count_X2);\n",
    "            }\n",
    "        }\n",
    "    }\n",
    "\n",
    "    #pragma omp for reduction (+: neg_H, neg_H_X0, neg_H_X1, neg_H_X2)\n",
    "    for (int C_Xidx_i = 0; C_Xidx_i < kC_Xdim; C_Xidx_i++) {\n",
    "        for (int C_Xidx_j = 0; C_Xidx_j < kC_Xdim; C_Xidx_j++) {\n",
    "            double count_X0_y = 0;\n",
    "            double count_X1_y = 0;\n",
    "            double count_X2_y = 0;\n",
    "            for (int C_Xidx_k = 0; C_Xidx_k < kC_Xdim; C_Xidx_k++) {\n",
    "                neg_H -= contingency_m_y[C_Xidx_i][C_Xidx_j][C_Xidx_k] * log2(contingency_m_y[C_Xidx_i][C_Xidx_j][C_Xidx_k]);\n",
    "                count_X0_y += contingency_m_y[C_Xidx_k][C_Xidx_i][C_Xidx_j];\n",
    "                count_X1_y += contingency_m_y[C_Xidx_i][C_Xidx_k][C_Xidx_j];\n",
    "                count_X2_y += contingency_m_y[C_Xidx_i][C_Xidx_j][C_Xidx_k];\n",
    "            }\n",
    "            neg_H_X0 -= count_X0_y * log2(count_X0_y);\n",
    "            neg_H_X1 -= count_X1_y * log2(count_X1_y);\n",
    "            neg_H_X2 -= count_X2_y * log2(count_X2_y);\n",
    "        }\n",
    "    }\n",
    "        \n",
    "    }\n",
    "\n",
    "        \n",
    "    return std::make_tuple(neg_H - neg_H_X0,\n",
    "                           neg_H - neg_H_X1,\n",
    "                           neg_H - neg_H_X2\n",
    "                          );\n",
    "}\n",
    "        \n",
    "\n",
    "PYBIND11_MODULE(fast11, module) {\n",
    "    module.def(\"work_3a\", &work_3a);\n",
    "    module.def(\"work_3b\", &work_3b);\n",
    "    module.def(\"work_3c\", &work_3c);\n",
    "}"
   ]
  },
  {
   "cell_type": "code",
   "execution_count": 1,
   "metadata": {},
   "outputs": [
    {
     "data": {
      "text/plain": [
       "<module 'fast11' from '/home/olszewskip/Desktop/git-repos/MDFS_playground/python/scheduler/pybind11_playground/fast11.cpython-35m-x86_64-linux-gnu.so'>"
      ]
     },
     "execution_count": 1,
     "metadata": {},
     "output_type": "execute_result"
    }
   ],
   "source": [
    "import cppimport\n",
    "cppimport.imp(\"fast11\")"
   ]
  },
  {
   "cell_type": "code",
   "execution_count": 5,
   "metadata": {},
   "outputs": [
    {
     "name": "stdout",
     "output_type": "stream",
     "text": [
      "Overwriting infogain.py\n"
     ]
    }
   ],
   "source": [
    "%%writefile infogain.py\n",
    "import csv\n",
    "import numpy as np\n",
    "from scipy.stats import rankdata\n",
    "from itertools import product, chain, starmap, combinations, combinations_with_replacement\n",
    "import pickle\n",
    "\n",
    "import fast11\n",
    "\n",
    "from mpi4py import MPI\n",
    "comm = MPI.COMM_WORLD\n",
    "comm.Barrier()\n",
    "time0 = MPI.Wtime()\n",
    "size = comm.Get_size()\n",
    "rank = comm.Get_rank()\n",
    "\n",
    "k = 3\n",
    "window = 5\n",
    "divisions = 10\n",
    "range_ = 0.0\n",
    "seed = 123\n",
    "    \n",
    "\n",
    "# 1. Function definitions\n",
    "\n",
    "def discretize(seq, divisions=divisions, range_=range_, seed=seed):\n",
    "    '''\n",
    "    >>> discretize([3, 4, 1, 8, 13, 8], divisions=4, range_=0, seed=123) = array([1, 1, 0, 2, 3, 2])\n",
    "    where\n",
    "    ranks = [2., 3., 1., 4.5, 6., 4.5]\n",
    "    tresholds = [1.5,  3.,  4.5]\n",
    "    '''\n",
    "    np.random.seed(seed)\n",
    "    ranks = rankdata(seq, method='ordinal') # method='ordinal'/'average' ?\n",
    "    \n",
    "    random_blocks = np.cumsum(range_ * (2 * np.random.random(divisions + 1) - 1) + np.ones(divisions + 1))\n",
    "    tresholds = random_blocks[:-1] / random_blocks[-1] * len(seq)\n",
    "    \n",
    "    discrete_seq = np.zeros(len(seq), dtype='float64')\n",
    "    for treshold in tresholds:\n",
    "        discrete_seq[ranks > treshold] += 1\n",
    "    return discrete_seq\n",
    "\n",
    "discretize_vec = np.vectorize(discretize, signature='(n)->(n)', excluded=['divisions', 'range_', 'seed'])\n",
    "\n",
    "# 2. Read the data (in each rank)\n",
    "\n",
    "file = \"madelon_tiny.csv\"\n",
    "input_ = []\n",
    "with open(file) as csvfile:\n",
    "    reader = csv.reader(csvfile, delimiter=',',\n",
    "                        quoting=csv.QUOTE_NONNUMERIC)\n",
    "    for row in reader:\n",
    "        input_.append(row)\n",
    "        \n",
    "input_ = np.array(input_, dtype='float64').T[:-1]\n",
    "data = np.empty(input_.shape, dtype='int32')\n",
    "data[:-1] = discretize_vec(input_[:-1])\n",
    "data[-1] = input_[-1:].astype('int32')\n",
    "\n",
    "labels, counts = np.unique(data[-1], return_counts=True)\n",
    "n_classes = len(labels)\n",
    "\n",
    "xi = 0.25\n",
    "pseudo_counts = xi * counts / np.min(counts)\n",
    "\n",
    "dim0, dim1 = data[:-1].shape\n",
    "M = (dim0 - 1) // window + 1\n",
    "border_cols = range( (M-1) * window, dim0)\n",
    "\n",
    "if rank == 0:\n",
    "    print(rank, \"dim0 =\", dim0, \"; dim1 =\", dim1)\n",
    "\n",
    "# 3. More function definitions\n",
    "\n",
    "def tile_generator(k=k, M=M):\n",
    "    '''\n",
    "    Python-generator.\n",
    "    E.g. output for k=2:\n",
    "    {0,0}, {0,1}, ..., {0, M-1}, {1,1}, ..., {1,M-1}, ..., {M-1, M-1}\n",
    "    Go with combinations(range(M), k) to exclude diagonal tuples\n",
    "    '''        \n",
    "    return combinations_with_replacement(range(M), k)    \n",
    "\n",
    "def tuple_generator(tile, window=window, border_cols=border_cols):\n",
    "    '''\n",
    "    Map tile into sequence of k-tuples, i.e. fundamental-tiles,\n",
    "    i.e. elements of the cartesian product of the data-columns\n",
    "    '''\n",
    "    index_counts = {index: tile.count(index) for index in tile}\n",
    "    index_to_cols = lambda index: range(index * window, (index + 1) * window) if index != (M - 1) else border_cols \n",
    "    cols_tile = (combinations(index_to_cols(index), count) for (index, count) in index_counts.items())\n",
    "    return (list(chain.from_iterable(col_indeces)) for col_indeces in product(*cols_tile))\n",
    "\n",
    "def neg_H(p):\n",
    "    return p * np.log2(p)\n",
    "\n",
    "def neg_H_cond(matrix):\n",
    "    return np.sum(neg_H(matrix)) - np.sum(neg_H(np.sum(matrix, axis=-1)))\n",
    "\n",
    "def slow_work(tuple_, divisions=divisions, n_classes=n_classes, pseudo_counts=pseudo_counts):\n",
    "    '''\n",
    "    tuple_ -> list # dammit...\n",
    "    Work-function.\n",
    "    Output: tuple of Information Gains implicitly corresponding to column-indeces in the tuple_\n",
    "    '''\n",
    "    # contingency-matrix: begin with pseudo-counts\n",
    "    contingency_m = np.empty([divisions + 1] * k + [n_classes], dtype='float64')\n",
    "    for label, pseudo_count in enumerate(pseudo_counts):\n",
    "        contingency_m[..., label] = pseudo_count\n",
    "    \n",
    "    # contingency-matrix: normal counts\n",
    "    for c_index in data[tuple_ + [-1]].T:\n",
    "        contingency_m[tuple(c_index)] += 1\n",
    "    \n",
    "    IGs = tuple(neg_H_cond(contingency_m) - neg_H_cond(np.sum(contingency_m, axis=i)) for i in range(len(tuple_)))\n",
    "    return IGs\n",
    "\n",
    "\n",
    "def record_tuple(tuple_, IGs, records):\n",
    "    for column, IG in zip(tuple_, IGs):\n",
    "        if column not in records or IG > records[column][0]:\n",
    "            records[column] = (IG, tuple_)\n",
    "            \n",
    "def record_tile(tile_results, records):\n",
    "    for column, (IG, tuple_) in tile_results.items():\n",
    "        if column not in records or IG > records[column][0]:\n",
    "            records[column] = (IG, tuple_)\n",
    "\n",
    "# 4 Work loop\n",
    "\n",
    "if rank == 0:\n",
    "    final_results = {}\n",
    "    current_assignements = {rank: (0, None) for rank in range(1,size)}\n",
    "    \n",
    "    print(rank, \"entering the for loop\")\n",
    "    status = MPI.Status()\n",
    "    for tile in tile_generator():\n",
    "        tile_results = comm.recv(status=status)\n",
    "        record_tile(tile_results, final_results)\n",
    "        comm.isend(tile, dest=status.source)\n",
    "        job_count = current_assignements[status.source][0]\n",
    "        current_assignements[status.source] = (job_count + 1, tile)\n",
    "        \n",
    "        #print(rank, \"currently:\", current_assignements)\n",
    "    \n",
    "    print(rank, \"Work queue is empty\")\n",
    "    for _ in range(size - 1):\n",
    "        tile_results = comm.recv(status=status)\n",
    "        record_tile(tile_results, final_results)\n",
    "        comm.isend(None, dest=status.source)\n",
    "\n",
    "    # Save the results to a file\n",
    "    with open(\"final_results.pkl\", \"wb\") as file:\n",
    "        pickle.dump(final_results, file)\n",
    "\n",
    "    print(rank, \"says goodbye\")\n",
    "    print(rank, \"Elapsed:\", MPI.Wtime() - time0, \"sec\")\n",
    "    \n",
    "else:\n",
    "    comm.send({}, dest=0)\n",
    "    print(rank, \"entering the while loop\")\n",
    "    while True:\n",
    "        tile = comm.recv(source = 0)\n",
    "        if tile:\n",
    "            tile_results = {}\n",
    "            for tuple_ in tuple_generator(tile):\n",
    "                \n",
    "                #IGs = slow_work(tuple_)\n",
    "                IGs = fast11.work_3a(dim1, divisions, data[tuple_[0]], data[tuple_[1]], data[tuple_[2]], n_classes, pseudo_counts, data[-1])\n",
    "                #IGs = fast11.work_3b(dim1, divisions, data[tuple_[0]], data[tuple_[1]], data[tuple_[2]], n_classes, pseudo_counts, data[-1])\n",
    "                #IGs = fast11.work_3c(dim1, divisions, data[tuple_[0]], data[tuple_[1]], data[tuple_[2]], n_classes, pseudo_counts, data[-1])\n",
    "                \n",
    "                record_tuple(tuple_, IGs, tile_results)\n",
    "            comm.isend(tile_results, dest=0)\n",
    "        else:\n",
    "            print(rank, \"says goodbye\")\n",
    "            break\n"
   ]
  },
  {
   "cell_type": "code",
   "execution_count": 6,
   "metadata": {},
   "outputs": [
    {
     "name": "stdout",
     "output_type": "stream",
     "text": [
      "0 dim0 = 50 ; dim1 = 2000\n",
      "0 entering the for loop\n",
      "1 entering the while loop\n",
      "2 entering the while loop\n",
      "0 Work queue is empty\n",
      "2 says goodbye\n",
      "1 says goodbye\n",
      "0 says goodbye\n",
      "0 Elapsed: 140.84315658500418 sec\n"
     ]
    }
   ],
   "source": [
    "%%bash\n",
    "mpirun -n 3 python infogain.py"
   ]
  },
  {
   "cell_type": "code",
   "execution_count": 7,
   "metadata": {},
   "outputs": [
    {
     "data": {
      "text/html": [
       "<div>\n",
       "<style scoped>\n",
       "    .dataframe tbody tr th:only-of-type {\n",
       "        vertical-align: middle;\n",
       "    }\n",
       "\n",
       "    .dataframe tbody tr th {\n",
       "        vertical-align: top;\n",
       "    }\n",
       "\n",
       "    .dataframe thead th {\n",
       "        text-align: right;\n",
       "    }\n",
       "</style>\n",
       "<table border=\"1\" class=\"dataframe\">\n",
       "  <thead>\n",
       "    <tr style=\"text-align: right;\">\n",
       "      <th></th>\n",
       "      <th>IG_max</th>\n",
       "      <th>tuple</th>\n",
       "    </tr>\n",
       "  </thead>\n",
       "  <tbody>\n",
       "    <tr>\n",
       "      <th>25</th>\n",
       "      <td>699.847</td>\n",
       "      <td>[1, 5, 25]</td>\n",
       "    </tr>\n",
       "    <tr>\n",
       "      <th>3</th>\n",
       "      <td>658.639</td>\n",
       "      <td>[1, 3, 18]</td>\n",
       "    </tr>\n",
       "    <tr>\n",
       "      <th>21</th>\n",
       "      <td>653.437</td>\n",
       "      <td>[47, 15, 21]</td>\n",
       "    </tr>\n",
       "    <tr>\n",
       "      <th>43</th>\n",
       "      <td>651.631</td>\n",
       "      <td>[40, 43, 21]</td>\n",
       "    </tr>\n",
       "    <tr>\n",
       "      <th>32</th>\n",
       "      <td>650.875</td>\n",
       "      <td>[40, 8, 32]</td>\n",
       "    </tr>\n",
       "    <tr>\n",
       "      <th>47</th>\n",
       "      <td>647.616</td>\n",
       "      <td>[47, 15, 21]</td>\n",
       "    </tr>\n",
       "    <tr>\n",
       "      <th>18</th>\n",
       "      <td>646.924</td>\n",
       "      <td>[10, 18, 26]</td>\n",
       "    </tr>\n",
       "    <tr>\n",
       "      <th>22</th>\n",
       "      <td>646.506</td>\n",
       "      <td>[3, 22, 26]</td>\n",
       "    </tr>\n",
       "    <tr>\n",
       "      <th>0</th>\n",
       "      <td>646.466</td>\n",
       "      <td>[0, 15, 28]</td>\n",
       "    </tr>\n",
       "    <tr>\n",
       "      <th>14</th>\n",
       "      <td>645.122</td>\n",
       "      <td>[14, 28, 39]</td>\n",
       "    </tr>\n",
       "  </tbody>\n",
       "</table>\n",
       "</div>"
      ],
      "text/plain": [
       "     IG_max         tuple\n",
       "25  699.847    [1, 5, 25]\n",
       "3   658.639    [1, 3, 18]\n",
       "21  653.437  [47, 15, 21]\n",
       "43  651.631  [40, 43, 21]\n",
       "32  650.875   [40, 8, 32]\n",
       "47  647.616  [47, 15, 21]\n",
       "18  646.924  [10, 18, 26]\n",
       "22  646.506   [3, 22, 26]\n",
       "0   646.466   [0, 15, 28]\n",
       "14  645.122  [14, 28, 39]"
      ]
     },
     "execution_count": 7,
     "metadata": {},
     "output_type": "execute_result"
    }
   ],
   "source": [
    "import pandas as pd\n",
    "import pickle\n",
    "with open(\"final_results.pkl\", \"rb\") as file:\n",
    "    final_results = pickle.load(file)\n",
    "\n",
    "final_results_df = pd.DataFrame(final_results).T.rename(columns={0: 'IG_max', 1: 'tuple'})\n",
    "final_results_df.sort_values('IG_max', ascending=False)[:10]"
   ]
  },
  {
   "cell_type": "code",
   "execution_count": 4,
   "metadata": {},
   "outputs": [
    {
     "data": {
      "text/html": [
       "<div>\n",
       "<style scoped>\n",
       "    .dataframe tbody tr th:only-of-type {\n",
       "        vertical-align: middle;\n",
       "    }\n",
       "\n",
       "    .dataframe tbody tr th {\n",
       "        vertical-align: top;\n",
       "    }\n",
       "\n",
       "    .dataframe thead th {\n",
       "        text-align: right;\n",
       "    }\n",
       "</style>\n",
       "<table border=\"1\" class=\"dataframe\">\n",
       "  <thead>\n",
       "    <tr style=\"text-align: right;\">\n",
       "      <th></th>\n",
       "      <th>IG_max</th>\n",
       "      <th>tuple</th>\n",
       "    </tr>\n",
       "  </thead>\n",
       "  <tbody>\n",
       "    <tr>\n",
       "      <th>25</th>\n",
       "      <td>699.847</td>\n",
       "      <td>[1, 5, 25]</td>\n",
       "    </tr>\n",
       "    <tr>\n",
       "      <th>3</th>\n",
       "      <td>658.639</td>\n",
       "      <td>[1, 3, 18]</td>\n",
       "    </tr>\n",
       "    <tr>\n",
       "      <th>21</th>\n",
       "      <td>653.437</td>\n",
       "      <td>[47, 15, 21]</td>\n",
       "    </tr>\n",
       "    <tr>\n",
       "      <th>43</th>\n",
       "      <td>651.631</td>\n",
       "      <td>[40, 43, 21]</td>\n",
       "    </tr>\n",
       "    <tr>\n",
       "      <th>32</th>\n",
       "      <td>650.875</td>\n",
       "      <td>[40, 8, 32]</td>\n",
       "    </tr>\n",
       "    <tr>\n",
       "      <th>47</th>\n",
       "      <td>647.616</td>\n",
       "      <td>[47, 15, 21]</td>\n",
       "    </tr>\n",
       "    <tr>\n",
       "      <th>18</th>\n",
       "      <td>646.924</td>\n",
       "      <td>[10, 18, 26]</td>\n",
       "    </tr>\n",
       "    <tr>\n",
       "      <th>22</th>\n",
       "      <td>646.506</td>\n",
       "      <td>[3, 22, 26]</td>\n",
       "    </tr>\n",
       "    <tr>\n",
       "      <th>0</th>\n",
       "      <td>646.466</td>\n",
       "      <td>[0, 15, 28]</td>\n",
       "    </tr>\n",
       "    <tr>\n",
       "      <th>14</th>\n",
       "      <td>645.122</td>\n",
       "      <td>[14, 28, 39]</td>\n",
       "    </tr>\n",
       "  </tbody>\n",
       "</table>\n",
       "</div>"
      ],
      "text/plain": [
       "     IG_max         tuple\n",
       "25  699.847    [1, 5, 25]\n",
       "3   658.639    [1, 3, 18]\n",
       "21  653.437  [47, 15, 21]\n",
       "43  651.631  [40, 43, 21]\n",
       "32  650.875   [40, 8, 32]\n",
       "47  647.616  [47, 15, 21]\n",
       "18  646.924  [10, 18, 26]\n",
       "22  646.506   [3, 22, 26]\n",
       "0   646.466   [0, 15, 28]\n",
       "14  645.122  [14, 28, 39]"
      ]
     },
     "execution_count": 4,
     "metadata": {},
     "output_type": "execute_result"
    }
   ],
   "source": [
    "import pandas as pd\n",
    "import pickle\n",
    "with open(\"final_results.pkl\", \"rb\") as file:\n",
    "    final_results = pickle.load(file)\n",
    "\n",
    "final_results_df = pd.DataFrame(final_results).T.rename(columns={0: 'IG_max', 1: 'tuple'})\n",
    "final_results_df.sort_values('IG_max', ascending=False)[:10]"
   ]
  },
  {
   "cell_type": "code",
   "execution_count": null,
   "metadata": {},
   "outputs": [],
   "source": []
  }
 ],
 "metadata": {
  "kernelspec": {
   "display_name": "Python 3",
   "language": "python",
   "name": "python3"
  },
  "language_info": {
   "codemirror_mode": {
    "name": "ipython",
    "version": 3
   },
   "file_extension": ".py",
   "mimetype": "text/x-python",
   "name": "python",
   "nbconvert_exporter": "python",
   "pygments_lexer": "ipython3",
   "version": "3.5.2"
  }
 },
 "nbformat": 4,
 "nbformat_minor": 2
}
