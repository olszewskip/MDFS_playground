{
 "cells": [
  {
   "cell_type": "markdown",
   "metadata": {},
   "source": [
    "---\n",
    "following\n",
    "https://www.youtube.com/playlist?list=PL5tcWHG-UPH3SX16DI6EP1FlEibgxkg_6\n",
    "\n",
    "---"
   ]
  },
  {
   "cell_type": "code",
   "execution_count": 31,
   "metadata": {},
   "outputs": [
    {
     "name": "stdout",
     "output_type": "stream",
     "text": [
      "Overwriting multinotes0.py\n"
     ]
    }
   ],
   "source": [
    "%%writefile multinotes0.py\n",
    "\n",
    "import os\n",
    "from multiprocessing import Process, current_process\n",
    "\n",
    "def square(number):\n",
    "    result = number * number\n",
    "    \n",
    "    #process_id = os.getpid()\n",
    "    #print(f\"Process ID: {process_id}\")\n",
    "    process_name = current_process().name\n",
    "    print(f\"Process name: {process_name}\")\n",
    "    print(f\"The number {number} squares to {result}.\")\n",
    "    \n",
    "if __name__ == '__main__':\n",
    "    \n",
    "    processes = []\n",
    "    numbers = [1, 2, 3, 4]\n",
    "    \n",
    "    for number in numbers:\n",
    "        process = Process(target=square, args=(number,))\n",
    "        processes.append(process)\n",
    "        process.start()"
   ]
  },
  {
   "cell_type": "code",
   "execution_count": 32,
   "metadata": {},
   "outputs": [
    {
     "name": "stdout",
     "output_type": "stream",
     "text": [
      "Process name: Process-1\n",
      "The number 1 squares to 1.\n",
      "Process name: Process-2\n",
      "The number 2 squares to 4.\n",
      "Process name: Process-3\n",
      "The number 3 squares to 9.\n",
      "Process name: Process-4\n",
      "The number 4 squares to 16.\n"
     ]
    }
   ],
   "source": [
    "%%bash\n",
    "python multinotes0.py"
   ]
  },
  {
   "cell_type": "code",
   "execution_count": 33,
   "metadata": {},
   "outputs": [
    {
     "name": "stdout",
     "output_type": "stream",
     "text": [
      "Writing multinotes1.py\n"
     ]
    }
   ],
   "source": [
    "%%writefile multinotes1.py\n",
    "\n",
    "import os\n",
    "import time\n",
    "from multiprocessing import Process, current_process\n",
    "\n",
    "def square(numbers):\n",
    "    \n",
    "    for number in numbers:\n",
    "        time.sleep(0.5)\n",
    "        result = number * number\n",
    "        print(f\"The number {number} squares to {result}.\")\n",
    "    \n",
    "    \n",
    "if __name__ == '__main__':\n",
    "    \n",
    "    processes = []\n",
    "    numbers = range(100)\n",
    "    \n",
    "    for i in range(50):\n",
    "        process = Process(target=square, args=(numbers,))\n",
    "        processes.append(process)\n",
    "        process.start()\n",
    "        \n",
    "    for process in processes:\n",
    "        process.join()\n",
    "    \n",
    "    print(\"Finished\")"
   ]
  },
  {
   "cell_type": "code",
   "execution_count": 34,
   "metadata": {},
   "outputs": [
    {
     "name": "stdout",
     "output_type": "stream",
     "text": [
      "Process is terminated.\n"
     ]
    }
   ],
   "source": [
    "%%bash\n",
    "python multinotes1.py"
   ]
  },
  {
   "cell_type": "code",
   "execution_count": 48,
   "metadata": {},
   "outputs": [
    {
     "name": "stdout",
     "output_type": "stream",
     "text": [
      "Overwriting multinotes2.py\n"
     ]
    }
   ],
   "source": [
    "%%writefile multinotes2.py\n",
    "\n",
    "import time\n",
    "from multiprocessing import Process, Lock, Value\n",
    "\n",
    "def add_500_no_mp(total):\n",
    "    for i in range(500):\n",
    "        time.sleep(0.01)\n",
    "        total += 5\n",
    "    return total\n",
    "\n",
    "def sub_500_no_mp(total):\n",
    "    for i in range(500):\n",
    "        time.sleep(0.01)\n",
    "        total -= 5\n",
    "    return total\n",
    "\n",
    "def add_500_no_lock(total):\n",
    "    for i in range(500):\n",
    "        time.sleep(0.01)\n",
    "        total.value += 1\n",
    "\n",
    "def sub_500_no_lock(total):\n",
    "    for i in range(500):\n",
    "        time.sleep(0.01)\n",
    "        total.value -= 1\n",
    "\n",
    "def add_500_lock(total, lock):\n",
    "    for i in range(500):\n",
    "        time.sleep(0.01)\n",
    "        lock.acquire()\n",
    "        total.value += 1\n",
    "        lock.release()\n",
    "\n",
    "def sub_500_lock(total, lock):\n",
    "    for i in range(500):\n",
    "        time.sleep(0.01)\n",
    "        lock.acquire()\n",
    "        total.value -= 1\n",
    "        lock.release()\n",
    "\n",
    "if __name__ == '__main__':\n",
    "    \n",
    "#     print(total)\n",
    "#     total = add_500_no_mp(total)\n",
    "#     print(total)\n",
    "#     total = sub_500_no_mp(total)\n",
    "#     print(total)\n",
    "\n",
    "#     total = Value('i', 500)\n",
    "    \n",
    "#     add_process = Process(target=add_500_no_lock, args = (total,))\n",
    "#     sub_process = Process(target=sub_500_no_lock, args = (total,))\n",
    "    \n",
    "#     add_process.start()\n",
    "#     sub_process.start()\n",
    "    \n",
    "#     add_process.join()\n",
    "#     sub_process.join()\n",
    "    \n",
    "#     print(total.value)\n",
    "    \n",
    "    \n",
    "    lock = Lock()\n",
    "    total = Value('i', 500)\n",
    "    \n",
    "    add_process = Process(target=add_500_lock, args = (total, lock))\n",
    "    sub_process = Process(target=sub_500_lock, args = (total, lock))\n",
    "    \n",
    "    add_process.start()\n",
    "    sub_process.start()\n",
    "    \n",
    "    add_process.join()\n",
    "    sub_process.join()\n",
    "    \n",
    "    print(total.value)"
   ]
  },
  {
   "cell_type": "code",
   "execution_count": 51,
   "metadata": {},
   "outputs": [
    {
     "name": "stdout",
     "output_type": "stream",
     "text": [
      "500\n"
     ]
    }
   ],
   "source": [
    "%%bash\n",
    "python multinotes2.py"
   ]
  },
  {
   "cell_type": "code",
   "execution_count": 54,
   "metadata": {},
   "outputs": [
    {
     "name": "stdout",
     "output_type": "stream",
     "text": [
      "Overwriting multinotes3.py\n"
     ]
    }
   ],
   "source": [
    "%%writefile multinotes3.py\n",
    "\n",
    "import time\n",
    "import logging\n",
    "from multiprocessing import Process, Lock, Value\n",
    "from multiprocessing import log_to_stderr, get_logger\n",
    "\n",
    "def add_500_lock(total, lock):\n",
    "    for i in range(500):\n",
    "        time.sleep(0.01)\n",
    "        lock.acquire()\n",
    "        total.value += 1\n",
    "        lock.release()\n",
    "\n",
    "def sub_500_lock(total, lock):\n",
    "    for i in range(500):\n",
    "        time.sleep(0.01)\n",
    "        lock.acquire()\n",
    "        total.value -= 1\n",
    "        lock.release()\n",
    "\n",
    "if __name__ == '__main__':\n",
    "       \n",
    "    lock = Lock()\n",
    "    total = Value('i', 500)\n",
    "    \n",
    "    log_to_stderr()\n",
    "    logger = get_logger()\n",
    "    logger.setLevel(logging.INFO)\n",
    "    \n",
    "    add_process = Process(target=add_500_lock, args = (total, lock))\n",
    "    sub_process = Process(target=sub_500_lock, args = (total, lock))\n",
    "    \n",
    "    add_process.start()\n",
    "    sub_process.start()\n",
    "    \n",
    "    add_process.join()\n",
    "    sub_process.join()\n",
    "    \n",
    "    print(total.value)"
   ]
  },
  {
   "cell_type": "code",
   "execution_count": 55,
   "metadata": {},
   "outputs": [
    {
     "name": "stdout",
     "output_type": "stream",
     "text": [
      "500\n"
     ]
    },
    {
     "name": "stderr",
     "output_type": "stream",
     "text": [
      "[INFO/Process-1] child process calling self.run()\n",
      "[INFO/Process-2] child process calling self.run()\n",
      "[INFO/Process-1] process shutting down\n",
      "[INFO/Process-2] process shutting down\n",
      "[INFO/Process-1] process exiting with exitcode 0\n",
      "[INFO/Process-2] process exiting with exitcode 0\n",
      "[INFO/MainProcess] process shutting down\n"
     ]
    }
   ],
   "source": [
    "%%bash\n",
    "python multinotes3.py"
   ]
  },
  {
   "cell_type": "code",
   "execution_count": 56,
   "metadata": {},
   "outputs": [
    {
     "name": "stdout",
     "output_type": "stream",
     "text": [
      "Writing multinotes4.py\n"
     ]
    }
   ],
   "source": [
    "%%writefile multinotes4.py\n",
    "\n",
    "import time\n",
    "from multiprocessing import Pool\n",
    "\n",
    "def sum_square(number):\n",
    "    s = 0\n",
    "    for i in range(number):\n",
    "        s += i * i\n",
    "    return s\n",
    "\n",
    "if __name__ == '__main__':\n",
    "    \n",
    "    numbers = range(5)\n",
    "    p = Pool()\n",
    "    result = p.map(sum_square, numbers)\n",
    "    print(result)\n",
    "    \n",
    "    p.close()\n",
    "    p.join()"
   ]
  },
  {
   "cell_type": "code",
   "execution_count": 58,
   "metadata": {},
   "outputs": [
    {
     "name": "stdout",
     "output_type": "stream",
     "text": [
      "[0, 0, 1, 5, 14]\n"
     ]
    }
   ],
   "source": [
    "%%bash\n",
    "python multinotes4.py"
   ]
  },
  {
   "cell_type": "code",
   "execution_count": 64,
   "metadata": {},
   "outputs": [
    {
     "data": {
      "text/plain": [
       "4"
      ]
     },
     "execution_count": 64,
     "metadata": {},
     "output_type": "execute_result"
    }
   ],
   "source": [
    "import os\n",
    "os.cpu_count()"
   ]
  },
  {
   "cell_type": "code",
   "execution_count": 65,
   "metadata": {},
   "outputs": [],
   "source": [
    "from multiprocessing import Pool"
   ]
  },
  {
   "cell_type": "code",
   "execution_count": 74,
   "metadata": {},
   "outputs": [
    {
     "name": "stdout",
     "output_type": "stream",
     "text": [
      "Overwriting multinotes5.py\n"
     ]
    }
   ],
   "source": [
    "%%writefile multinotes5.py\n",
    "\n",
    "import time\n",
    "from multiprocessing import Process, Queue\n",
    "\n",
    "def square(numbers, queue):\n",
    "    for i in numbers:\n",
    "        queue.put(i * i)\n",
    "\n",
    "def cube(numbers, queue):\n",
    "    for i in numbers:\n",
    "        queue.put(i * i * i)\n",
    "\n",
    "if __name__ == '__main__':\n",
    "    \n",
    "    numbers = range(5)\n",
    "    queue = Queue()\n",
    "    \n",
    "    square_process = Process(target=square, args=(numbers, queue))\n",
    "    cube_process = Process(target=cube, args=(numbers, queue))\n",
    "    \n",
    "    square_process.start()\n",
    "    cube_process.start()\n",
    "    \n",
    "    square_process.join()\n",
    "    cube_process.join()\n",
    "    \n",
    "    while not queue.empty():\n",
    "        print(queue.get())"
   ]
  },
  {
   "cell_type": "code",
   "execution_count": 76,
   "metadata": {},
   "outputs": [
    {
     "name": "stdout",
     "output_type": "stream",
     "text": [
      "0\n",
      "1\n",
      "4\n",
      "9\n",
      "16\n",
      "0\n",
      "1\n",
      "8\n",
      "27\n",
      "64\n"
     ]
    }
   ],
   "source": [
    "%%bash\n",
    "python multinotes5.py"
   ]
  },
  {
   "cell_type": "code",
   "execution_count": null,
   "metadata": {},
   "outputs": [],
   "source": []
  }
 ],
 "metadata": {
  "kernelspec": {
   "display_name": "Python 3",
   "language": "python",
   "name": "python3"
  },
  "language_info": {
   "codemirror_mode": {
    "name": "ipython",
    "version": 3
   },
   "file_extension": ".py",
   "mimetype": "text/x-python",
   "name": "python",
   "nbconvert_exporter": "python",
   "pygments_lexer": "ipython3",
   "version": "3.6.8"
  }
 },
 "nbformat": 4,
 "nbformat_minor": 2
}
