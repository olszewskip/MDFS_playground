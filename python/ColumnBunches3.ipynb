{
 "cells": [
  {
   "cell_type": "code",
   "execution_count": 1,
   "metadata": {},
   "outputs": [],
   "source": [
    "import numpy as np\n",
    "from typing import Tuple, Generator, Iterator"
   ]
  },
  {
   "cell_type": "code",
   "execution_count": 8,
   "metadata": {},
   "outputs": [],
   "source": [
    "class ColumnBunches3():\n",
    "    \n",
    "    def __init__(self, data: np.ndarray, window: int, no_diag=False, diag_only=False):\n",
    "        \n",
    "        self.data = data\n",
    "        self.N = data.shape[1]\n",
    "        self.w = window\n",
    "        self.nd = int(no_diag)\n",
    "        \n",
    "        # I, J indeces identify bunches of w columns\n",
    "        # they generally sit in range(0:M)\n",
    "        self.M = (self.N-1) // self.w + 1\n",
    "        self.IJK = self._IJK_gen() if not diag_only else self._IJK_diag_gen()\n",
    "        \n",
    "    def _IJK_gen(self) -> Generator:\n",
    "        for I in range(self.M):\n",
    "            for J in range(I + self.nd, self.M):\n",
    "                for K in range(I + J + self.nd, self.M):\n",
    "                    yield I, J, K\n",
    "                \n",
    "    def _IJK_diag_gen(self) -> Generator:\n",
    "        for I in range(self.M):\n",
    "            for J in range(I + self.nd, self.M):\n",
    "                yield I, J, (self.M-1) - (self.M-1 - I) - (self.M-1 - J)\n",
    "    \n",
    "    def _get_columns(self, I: int, J: int, K: int) -> Tuple:\n",
    "        return self.data[:, self.w*I : self.w*(I+1)], \\\n",
    "               self.data[:, self.w*J : self.w*(J+1)], \\\n",
    "               self.data[:, self.w*K : self.w*(K+1)]\n",
    "    \n",
    "    def __next__(self) -> Tuple:\n",
    "        return self._get_columns(*next(self.IJK))\n",
    "    \n",
    "    def __iter__(self) -> Iterator:\n",
    "        return self"
   ]
  },
  {
   "cell_type": "code",
   "execution_count": 9,
   "metadata": {},
   "outputs": [
    {
     "data": {
      "text/plain": [
       "array([[1., 2., 3., 4., 5.],\n",
       "       [1., 2., 3., 4., 5.],\n",
       "       [1., 2., 3., 4., 5.]])"
      ]
     },
     "execution_count": 9,
     "metadata": {},
     "output_type": "execute_result"
    }
   ],
   "source": [
    "M1 = np.array([[1.,2,3,4,5]]*3)\n",
    "M1"
   ]
  },
  {
   "cell_type": "code",
   "execution_count": 10,
   "metadata": {},
   "outputs": [
    {
     "name": "stdout",
     "output_type": "stream",
     "text": [
      "[[1. 2. 3.]\n",
      " [1. 2. 3.]\n",
      " [1. 2. 3.]]\n",
      "[[1. 2. 3.]\n",
      " [1. 2. 3.]\n",
      " [1. 2. 3.]]\n",
      "[[1. 2. 3.]\n",
      " [1. 2. 3.]\n",
      " [1. 2. 3.]]\n",
      ">-------\n",
      "[[1. 2. 3.]\n",
      " [1. 2. 3.]\n",
      " [1. 2. 3.]]\n",
      "[[1. 2. 3.]\n",
      " [1. 2. 3.]\n",
      " [1. 2. 3.]]\n",
      "[[4. 5.]\n",
      " [4. 5.]\n",
      " [4. 5.]]\n",
      ">-------\n",
      "[[1. 2. 3.]\n",
      " [1. 2. 3.]\n",
      " [1. 2. 3.]]\n",
      "[[4. 5.]\n",
      " [4. 5.]\n",
      " [4. 5.]]\n",
      "[[4. 5.]\n",
      " [4. 5.]\n",
      " [4. 5.]]\n",
      ">-------\n"
     ]
    }
   ],
   "source": [
    "bunches = ColumnBunches3(M1, window=3)\n",
    "\n",
    "for bunch in bunches:\n",
    "    for column in bunch:\n",
    "        print(column)\n",
    "    print(\">-------\")"
   ]
  },
  {
   "cell_type": "code",
   "execution_count": 12,
   "metadata": {},
   "outputs": [],
   "source": [
    "bunches = ColumnBunches3(M1, window=3, no_diag=True) # None\n",
    "\n",
    "for bunch in bunches:\n",
    "    for column in bunch:\n",
    "        print(column)\n",
    "    print(\">-------\")"
   ]
  },
  {
   "cell_type": "code",
   "execution_count": 13,
   "metadata": {},
   "outputs": [
    {
     "name": "stdout",
     "output_type": "stream",
     "text": [
      "[[1. 2. 3.]\n",
      " [1. 2. 3.]\n",
      " [1. 2. 3.]]\n",
      "[[1. 2. 3.]\n",
      " [1. 2. 3.]\n",
      " [1. 2. 3.]]\n",
      "[]\n",
      ">-------\n",
      "[[1. 2. 3.]\n",
      " [1. 2. 3.]\n",
      " [1. 2. 3.]]\n",
      "[[4. 5.]\n",
      " [4. 5.]\n",
      " [4. 5.]]\n",
      "[[1. 2. 3.]\n",
      " [1. 2. 3.]\n",
      " [1. 2. 3.]]\n",
      ">-------\n",
      "[[4. 5.]\n",
      " [4. 5.]\n",
      " [4. 5.]]\n",
      "[[4. 5.]\n",
      " [4. 5.]\n",
      " [4. 5.]]\n",
      "[[4. 5.]\n",
      " [4. 5.]\n",
      " [4. 5.]]\n",
      ">-------\n"
     ]
    }
   ],
   "source": [
    "bunches = ColumnBunches3(M1, window=3, diag_only=True)\n",
    "\n",
    "for bunch in bunches:\n",
    "    for column in bunch:\n",
    "        print(column)\n",
    "    print(\">-------\")"
   ]
  },
  {
   "cell_type": "code",
   "execution_count": 31,
   "metadata": {},
   "outputs": [],
   "source": [
    "[2,3,1].sort()"
   ]
  },
  {
   "cell_type": "code",
   "execution_count": null,
   "metadata": {},
   "outputs": [],
   "source": []
  }
 ],
 "metadata": {
  "kernelspec": {
   "display_name": "Python 3",
   "language": "python",
   "name": "python3"
  },
  "language_info": {
   "codemirror_mode": {
    "name": "ipython",
    "version": 3
   },
   "file_extension": ".py",
   "mimetype": "text/x-python",
   "name": "python",
   "nbconvert_exporter": "python",
   "pygments_lexer": "ipython3",
   "version": "3.6.7"
  }
 },
 "nbformat": 4,
 "nbformat_minor": 2
}
