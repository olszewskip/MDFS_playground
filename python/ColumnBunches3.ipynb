{
 "cells": [
  {
   "cell_type": "code",
   "execution_count": 1,
   "metadata": {},
   "outputs": [],
   "source": [
    "import numpy as np\n",
    "from typing import Tuple, Generator, Iterator\n",
    "\n",
    "# for plotting voxels\n",
    "import matplotlib.pyplot as plt\n",
    "from functools import reduce\n",
    "from mpl_toolkits.mplot3d import Axes3D # registers the 3D projection, unused"
   ]
  },
  {
   "cell_type": "code",
   "execution_count": 17,
   "metadata": {},
   "outputs": [
    {
     "data": {
      "text/plain": [
       "3"
      ]
     },
     "execution_count": 17,
     "metadata": {},
     "output_type": "execute_result"
    }
   ],
   "source": [
    "len(set([1,2,3]))"
   ]
  },
  {
   "cell_type": "code",
   "execution_count": 23,
   "metadata": {},
   "outputs": [],
   "source": [
    "class ColumnBunches3():\n",
    "    \n",
    "    def __init__(self, data: np.ndarray, window: int, skip_diag=False, diag_only=False):\n",
    "        \n",
    "        self.data = data\n",
    "        self.N = data.shape[1]\n",
    "        self.w = window\n",
    "        self.sd = int(skip_diag)\n",
    "        \n",
    "        self.M = (self.N-1) // self.w + 1\n",
    "        \n",
    "        # I, J, K indeces identify bunches of w columns\n",
    "        # they generally sit in range(0:M)\n",
    "        self.IJK = self._IJK_gen() if not diag_only else self._IJK_diag_gen()\n",
    "        \n",
    "    def _IJK_gen(self) -> Generator:\n",
    "        for I in range(self.M):\n",
    "            for J in range(I + self.sd, self.M):\n",
    "                for K in range(J + self.sd, self.M):\n",
    "                    yield I, J, K\n",
    "                \n",
    "    def _IJK_diag_gen(self) -> Generator:\n",
    "        for I in range(self.M):\n",
    "            for J in range(I, self.M):\n",
    "                for K in range(J, self.M):\n",
    "                    if len({I, J, K}) < 3:\n",
    "                        yield I, J, K\n",
    "    \n",
    "    def _get_columns(self, I: int, J: int, K: int) -> Tuple:\n",
    "        return self.data[:, self.w*I : self.w*(I+1)], \\\n",
    "               self.data[:, self.w*J : self.w*(J+1)], \\\n",
    "               self.data[:, self.w*K : self.w*(K+1)]\n",
    "    \n",
    "    def __next__(self) -> Tuple:\n",
    "        return self._get_columns(*next(self.IJK))\n",
    "    \n",
    "    def __iter__(self) -> Iterator:\n",
    "        return self\n",
    "    \n",
    "    def voxels(self, invertY = True) -> None:\n",
    "        fig = plt.figure()\n",
    "        ax = fig.gca(projection='3d')\n",
    "        plt.cla()\n",
    "        ax.grid(False)\n",
    "        ax.set_yticks(range(self.M))\n",
    "        ax.set_xticks(range(self.M))\n",
    "        ax.set_zticks(range(self.M))\n",
    "        ax.set_ylabel('I')\n",
    "        ax.set_xlabel('J')\n",
    "        ax.set_zlabel('K')\n",
    "        if invertY: ax.invert_yaxis()\n",
    "        x, y, z = np.indices((self.M,)*3)\n",
    "        masks = ( (y == I) & (x == J) & (z == K) for I, J, K in self._IJK_gen() )\n",
    "        voxels = reduce(lambda m1,m2: m1|m2, masks, np.empty((self.M,)*3, dtype=bool))\n",
    "        ax.voxels(voxels, edgecolor='k')\n",
    "        plt.show()"
   ]
  },
  {
   "cell_type": "code",
   "execution_count": 19,
   "metadata": {},
   "outputs": [
    {
     "data": {
      "text/plain": [
       "array([[1., 2., 3., 4., 5.],\n",
       "       [1., 2., 3., 4., 5.],\n",
       "       [1., 2., 3., 4., 5.]])"
      ]
     },
     "execution_count": 19,
     "metadata": {},
     "output_type": "execute_result"
    }
   ],
   "source": [
    "M1 = np.array([[1.,2,3,4,5]]*3)\n",
    "M1"
   ]
  },
  {
   "cell_type": "code",
   "execution_count": null,
   "metadata": {},
   "outputs": [],
   "source": []
  },
  {
   "cell_type": "code",
   "execution_count": 14,
   "metadata": {},
   "outputs": [
    {
     "data": {
      "text/plain": [
       "[(0, 0, 0),\n",
       " (0, 0, 1),\n",
       " (0, 0, 2),\n",
       " (0, 1, 1),\n",
       " (0, 1, 2),\n",
       " (0, 2, 2),\n",
       " (1, 1, 1),\n",
       " (1, 1, 2),\n",
       " (1, 2, 2),\n",
       " (2, 2, 2)]"
      ]
     },
     "execution_count": 14,
     "metadata": {},
     "output_type": "execute_result"
    }
   ],
   "source": [
    "bunches = ColumnBunches3(M1, window=2)\n",
    "list(bunches._IJK_gen())"
   ]
  },
  {
   "cell_type": "code",
   "execution_count": 15,
   "metadata": {},
   "outputs": [],
   "source": [
    "%matplotlib qt\n",
    "bunches.voxels(invertY=False)"
   ]
  },
  {
   "cell_type": "code",
   "execution_count": 24,
   "metadata": {},
   "outputs": [
    {
     "name": "stdout",
     "output_type": "stream",
     "text": [
      "[[1. 2. 3.]\n",
      " [1. 2. 3.]\n",
      " [1. 2. 3.]]\n",
      "[[1. 2. 3.]\n",
      " [1. 2. 3.]\n",
      " [1. 2. 3.]]\n",
      "[[1. 2. 3.]\n",
      " [1. 2. 3.]\n",
      " [1. 2. 3.]]\n",
      ">-------\n",
      "[[1. 2. 3.]\n",
      " [1. 2. 3.]\n",
      " [1. 2. 3.]]\n",
      "[[1. 2. 3.]\n",
      " [1. 2. 3.]\n",
      " [1. 2. 3.]]\n",
      "[[4. 5.]\n",
      " [4. 5.]\n",
      " [4. 5.]]\n",
      ">-------\n",
      "[[1. 2. 3.]\n",
      " [1. 2. 3.]\n",
      " [1. 2. 3.]]\n",
      "[[4. 5.]\n",
      " [4. 5.]\n",
      " [4. 5.]]\n",
      "[[4. 5.]\n",
      " [4. 5.]\n",
      " [4. 5.]]\n",
      ">-------\n",
      "[[4. 5.]\n",
      " [4. 5.]\n",
      " [4. 5.]]\n",
      "[[4. 5.]\n",
      " [4. 5.]\n",
      " [4. 5.]]\n",
      "[[4. 5.]\n",
      " [4. 5.]\n",
      " [4. 5.]]\n",
      ">-------\n"
     ]
    }
   ],
   "source": [
    "bunches = ColumnBunches3(M1, window=3)\n",
    "\n",
    "for bunch in bunches:\n",
    "    for column in bunch:\n",
    "        print(column)\n",
    "    print(\">-------\")"
   ]
  },
  {
   "cell_type": "code",
   "execution_count": 25,
   "metadata": {},
   "outputs": [],
   "source": [
    "bunches = ColumnBunches3(M1, window=3, skip_diag=True) # None\n",
    "\n",
    "for bunch in bunches:\n",
    "    for column in bunch:\n",
    "        print(column)\n",
    "    print(\">-------\")"
   ]
  },
  {
   "cell_type": "code",
   "execution_count": 26,
   "metadata": {},
   "outputs": [
    {
     "name": "stdout",
     "output_type": "stream",
     "text": [
      "[[1. 2. 3.]\n",
      " [1. 2. 3.]\n",
      " [1. 2. 3.]]\n",
      "[[1. 2. 3.]\n",
      " [1. 2. 3.]\n",
      " [1. 2. 3.]]\n",
      "[[1. 2. 3.]\n",
      " [1. 2. 3.]\n",
      " [1. 2. 3.]]\n",
      ">-------\n",
      "[[1. 2. 3.]\n",
      " [1. 2. 3.]\n",
      " [1. 2. 3.]]\n",
      "[[1. 2. 3.]\n",
      " [1. 2. 3.]\n",
      " [1. 2. 3.]]\n",
      "[[4. 5.]\n",
      " [4. 5.]\n",
      " [4. 5.]]\n",
      ">-------\n",
      "[[1. 2. 3.]\n",
      " [1. 2. 3.]\n",
      " [1. 2. 3.]]\n",
      "[[4. 5.]\n",
      " [4. 5.]\n",
      " [4. 5.]]\n",
      "[[4. 5.]\n",
      " [4. 5.]\n",
      " [4. 5.]]\n",
      ">-------\n",
      "[[4. 5.]\n",
      " [4. 5.]\n",
      " [4. 5.]]\n",
      "[[4. 5.]\n",
      " [4. 5.]\n",
      " [4. 5.]]\n",
      "[[4. 5.]\n",
      " [4. 5.]\n",
      " [4. 5.]]\n",
      ">-------\n"
     ]
    }
   ],
   "source": [
    "bunches = ColumnBunches3(M1, window=3, diag_only=True)\n",
    "\n",
    "for bunch in bunches:\n",
    "    for column in bunch:\n",
    "        print(column)\n",
    "    print(\">-------\")"
   ]
  },
  {
   "cell_type": "code",
   "execution_count": 31,
   "metadata": {},
   "outputs": [],
   "source": [
    "[2,3,1].sort()"
   ]
  },
  {
   "cell_type": "code",
   "execution_count": null,
   "metadata": {},
   "outputs": [],
   "source": []
  }
 ],
 "metadata": {
  "kernelspec": {
   "display_name": "Python 3",
   "language": "python",
   "name": "python3"
  },
  "language_info": {
   "codemirror_mode": {
    "name": "ipython",
    "version": 3
   },
   "file_extension": ".py",
   "mimetype": "text/x-python",
   "name": "python",
   "nbconvert_exporter": "python",
   "pygments_lexer": "ipython3",
   "version": "3.6.5"
  }
 },
 "nbformat": 4,
 "nbformat_minor": 2
}
