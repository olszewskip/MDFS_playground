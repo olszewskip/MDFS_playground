{
 "cells": [
  {
   "cell_type": "code",
   "execution_count": 4,
   "metadata": {},
   "outputs": [],
   "source": [
    "import numpy as np\n",
    "from typing import Tuple, Generator, Iterator"
   ]
  },
  {
   "cell_type": "code",
   "execution_count": 20,
   "metadata": {},
   "outputs": [],
   "source": [
    "class ColumnBunches4():\n",
    "    \n",
    "    def __init__(self, data: np.ndarray, window: int, get_diag=True, diag_only=False):\n",
    "        self.data = data\n",
    "        self.N = data.shape[1]\n",
    "        self.w = window # m\n",
    "        self.gd = int(get_diag)\n",
    "        self.IJKL = self._IJKL_gen() if not diag_only else self._IJKL_diag_gen()\n",
    "        \n",
    "    def _IJKL_gen(self) -> Generator:\n",
    "        for I in range(1 - self.gd, (self.N-1) // self.w + 1):\n",
    "            for J in range(I + self.gd):\n",
    "                for K in range(J + self.gd):\n",
    "                    for L in range(K + self.gd):\n",
    "                        yield I, J, K, L\n",
    "                \n",
    "    def _IJKL_diag_gen(self) -> Generator:\n",
    "        for I in range((self.N-1) // self.w + 1):\n",
    "            for J in range(I + 1):\n",
    "                for K in range(I - J + 1):\n",
    "                    yield I, J, K, I - J - K\n",
    "    \n",
    "    def _get_columns(self, I: int, J: int, K: int, L: int) -> Tuple:\n",
    "        return self.data[:, self.w*I : self.w*(I+1)], \\\n",
    "               self.data[:, self.w*J : self.w*(J+1)], \\\n",
    "               self.data[:, self.w*K : self.w*(K+1)], \\\n",
    "               self.data[:, self.w*L : self.w*(L+1)]\n",
    "    \n",
    "    def __next__(self) -> Tuple:\n",
    "        return self._get_columns(*next(self.IJKL))\n",
    "    \n",
    "    def __iter__(self) -> Iterator:\n",
    "        return self"
   ]
  },
  {
   "cell_type": "code",
   "execution_count": 21,
   "metadata": {},
   "outputs": [
    {
     "data": {
      "text/plain": [
       "array([[1., 2., 3., 4., 5.],\n",
       "       [1., 2., 3., 4., 5.],\n",
       "       [1., 2., 3., 4., 5.]])"
      ]
     },
     "execution_count": 21,
     "metadata": {},
     "output_type": "execute_result"
    }
   ],
   "source": [
    "M1 = np.array([[1.,2,3,4,5]]*3)\n",
    "M1"
   ]
  },
  {
   "cell_type": "code",
   "execution_count": 26,
   "metadata": {},
   "outputs": [
    {
     "name": "stdout",
     "output_type": "stream",
     "text": [
      "[[1. 2. 3.]\n",
      " [1. 2. 3.]\n",
      " [1. 2. 3.]]\n",
      "[[1. 2. 3.]\n",
      " [1. 2. 3.]\n",
      " [1. 2. 3.]]\n",
      "[[1. 2. 3.]\n",
      " [1. 2. 3.]\n",
      " [1. 2. 3.]]\n",
      "[[1. 2. 3.]\n",
      " [1. 2. 3.]\n",
      " [1. 2. 3.]]\n",
      ">-------\n",
      "[[4. 5.]\n",
      " [4. 5.]\n",
      " [4. 5.]]\n",
      "[[1. 2. 3.]\n",
      " [1. 2. 3.]\n",
      " [1. 2. 3.]]\n",
      "[[1. 2. 3.]\n",
      " [1. 2. 3.]\n",
      " [1. 2. 3.]]\n",
      "[[1. 2. 3.]\n",
      " [1. 2. 3.]\n",
      " [1. 2. 3.]]\n",
      ">-------\n",
      "[[4. 5.]\n",
      " [4. 5.]\n",
      " [4. 5.]]\n",
      "[[4. 5.]\n",
      " [4. 5.]\n",
      " [4. 5.]]\n",
      "[[1. 2. 3.]\n",
      " [1. 2. 3.]\n",
      " [1. 2. 3.]]\n",
      "[[1. 2. 3.]\n",
      " [1. 2. 3.]\n",
      " [1. 2. 3.]]\n",
      ">-------\n",
      "[[4. 5.]\n",
      " [4. 5.]\n",
      " [4. 5.]]\n",
      "[[4. 5.]\n",
      " [4. 5.]\n",
      " [4. 5.]]\n",
      "[[4. 5.]\n",
      " [4. 5.]\n",
      " [4. 5.]]\n",
      "[[1. 2. 3.]\n",
      " [1. 2. 3.]\n",
      " [1. 2. 3.]]\n",
      ">-------\n",
      "[[4. 5.]\n",
      " [4. 5.]\n",
      " [4. 5.]]\n",
      "[[4. 5.]\n",
      " [4. 5.]\n",
      " [4. 5.]]\n",
      "[[4. 5.]\n",
      " [4. 5.]\n",
      " [4. 5.]]\n",
      "[[4. 5.]\n",
      " [4. 5.]\n",
      " [4. 5.]]\n",
      ">-------\n"
     ]
    }
   ],
   "source": [
    "bunches = ColumnBunches4(M1, window=3)\n",
    "\n",
    "for bunch in bunches:\n",
    "    for column in bunch:\n",
    "        print(column)\n",
    "    print(\">-------\")"
   ]
  },
  {
   "cell_type": "code",
   "execution_count": 28,
   "metadata": {},
   "outputs": [
    {
     "data": {
      "text/plain": [
       "[(0, 0, 0, 0), (1, 0, 0, 1), (1, 0, 1, 0), (1, 1, 0, 0)]"
      ]
     },
     "execution_count": 28,
     "metadata": {},
     "output_type": "execute_result"
    }
   ],
   "source": [
    "bunches = ColumnBunches4(M1, window=3, diag_only=True)\n",
    "list(bunches._IJKL_diag_gen())"
   ]
  },
  {
   "cell_type": "code",
   "execution_count": 27,
   "metadata": {},
   "outputs": [
    {
     "name": "stdout",
     "output_type": "stream",
     "text": [
      "[[1. 2. 3.]\n",
      " [1. 2. 3.]\n",
      " [1. 2. 3.]]\n",
      "[[1. 2. 3.]\n",
      " [1. 2. 3.]\n",
      " [1. 2. 3.]]\n",
      "[[1. 2. 3.]\n",
      " [1. 2. 3.]\n",
      " [1. 2. 3.]]\n",
      "[[1. 2. 3.]\n",
      " [1. 2. 3.]\n",
      " [1. 2. 3.]]\n",
      ">-------\n",
      "[[4. 5.]\n",
      " [4. 5.]\n",
      " [4. 5.]]\n",
      "[[1. 2. 3.]\n",
      " [1. 2. 3.]\n",
      " [1. 2. 3.]]\n",
      "[[1. 2. 3.]\n",
      " [1. 2. 3.]\n",
      " [1. 2. 3.]]\n",
      "[[4. 5.]\n",
      " [4. 5.]\n",
      " [4. 5.]]\n",
      ">-------\n",
      "[[4. 5.]\n",
      " [4. 5.]\n",
      " [4. 5.]]\n",
      "[[1. 2. 3.]\n",
      " [1. 2. 3.]\n",
      " [1. 2. 3.]]\n",
      "[[4. 5.]\n",
      " [4. 5.]\n",
      " [4. 5.]]\n",
      "[[1. 2. 3.]\n",
      " [1. 2. 3.]\n",
      " [1. 2. 3.]]\n",
      ">-------\n",
      "[[4. 5.]\n",
      " [4. 5.]\n",
      " [4. 5.]]\n",
      "[[4. 5.]\n",
      " [4. 5.]\n",
      " [4. 5.]]\n",
      "[[1. 2. 3.]\n",
      " [1. 2. 3.]\n",
      " [1. 2. 3.]]\n",
      "[[1. 2. 3.]\n",
      " [1. 2. 3.]\n",
      " [1. 2. 3.]]\n",
      ">-------\n"
     ]
    }
   ],
   "source": [
    "bunches = ColumnBunches4(M1, window=3, diag_only=True)\n",
    "\n",
    "for bunch in bunches:\n",
    "    for column in bunch:\n",
    "        print(column)\n",
    "    print(\">-------\")"
   ]
  },
  {
   "cell_type": "code",
   "execution_count": null,
   "metadata": {},
   "outputs": [],
   "source": []
  },
  {
   "cell_type": "code",
   "execution_count": null,
   "metadata": {},
   "outputs": [],
   "source": []
  }
 ],
 "metadata": {
  "kernelspec": {
   "display_name": "Python 3",
   "language": "python",
   "name": "python3"
  },
  "language_info": {
   "codemirror_mode": {
    "name": "ipython",
    "version": 3
   },
   "file_extension": ".py",
   "mimetype": "text/x-python",
   "name": "python",
   "nbconvert_exporter": "python",
   "pygments_lexer": "ipython3",
   "version": "3.6.7"
  }
 },
 "nbformat": 4,
 "nbformat_minor": 2
}
